{
  "nbformat": 4,
  "nbformat_minor": 0,
  "metadata": {
    "colab": {
      "provenance": [],
      "gpuType": "T4",
      "toc_visible": true,
      "authorship_tag": "ABX9TyPai5eV2CmtFeKv4h6DeNBz",
      "include_colab_link": true
    },
    "kernelspec": {
      "name": "python3",
      "display_name": "Python 3"
    },
    "language_info": {
      "name": "python"
    },
    "accelerator": "GPU"
  },
  "cells": [
    {
      "cell_type": "markdown",
      "metadata": {
        "id": "view-in-github",
        "colab_type": "text"
      },
      "source": [
        "<a href=\"https://colab.research.google.com/github/ChrisW2420/FedPKDG/blob/main/FedPKDG.ipynb\" target=\"_parent\"><img src=\"https://colab.research.google.com/assets/colab-badge.svg\" alt=\"Open In Colab\"/></a>"
      ]
    },
    {
      "cell_type": "markdown",
      "source": [
        "# FedPKDG -- Prune + KD + GAN + FL\n",
        "This prototype implements the algorithm in a distributed setting\n",
        "TODO:\n",
        "1. implement a FedAvg aggregator/server\n",
        "2. build a centralised FL system with n clients connected to the server\n",
        "3. design experiments to assess accuracy, efficiency, generalisation on homogenoeous data\n",
        "4. repeat experiments on heterogeneous data, identical model sparsity\n",
        "5. repeat experiments on heterogeneous data, different model sparsity, mimicing different computational capability of clients"
      ],
      "metadata": {
        "id": "GR5F2i850OT4"
      }
    },
    {
      "cell_type": "markdown",
      "source": [
        "# Setup and Imports"
      ],
      "metadata": {
        "id": "0qqRJILKrnul"
      }
    },
    {
      "cell_type": "code",
      "source": [
        "# NB: package versions are very important\n",
        "!pip install -q tensorflow-model-optimization # for pruning\n",
        "!pip install -q git+https://github.com/tensorflow/docs # newest tf\n",
        "!pip install --upgrade keras #newest keras"
      ],
      "metadata": {
        "colab": {
          "base_uri": "https://localhost:8080/"
        },
        "id": "AgElPEcBrp3j",
        "outputId": "0d3d7d5e-cf81-4e5f-e37b-5e4916844de8"
      },
      "execution_count": 1,
      "outputs": [
        {
          "output_type": "stream",
          "name": "stdout",
          "text": [
            "\u001b[?25l     \u001b[90m━━━━━━━━━━━━━━━━━━━━━━━━━━━━━━━━━━━━━━━━\u001b[0m \u001b[32m0.0/242.5 kB\u001b[0m \u001b[31m?\u001b[0m eta \u001b[36m-:--:--\u001b[0m\r\u001b[2K     \u001b[91m━━━━━━━━━━━━━━━━━━━━━━━━━━━━\u001b[0m\u001b[91m╸\u001b[0m\u001b[90m━━━━━━━━━━━\u001b[0m \u001b[32m174.1/242.5 kB\u001b[0m \u001b[31m5.0 MB/s\u001b[0m eta \u001b[36m0:00:01\u001b[0m\r\u001b[2K     \u001b[90m━━━━━━━━━━━━━━━━━━━━━━━━━━━━━━━━━━━━━━━━\u001b[0m \u001b[32m242.5/242.5 kB\u001b[0m \u001b[31m4.6 MB/s\u001b[0m eta \u001b[36m0:00:00\u001b[0m\n",
            "\u001b[?25h  Preparing metadata (setup.py) ... \u001b[?25l\u001b[?25hdone\n",
            "  Building wheel for tensorflow-docs (setup.py) ... \u001b[?25l\u001b[?25hdone\n",
            "Requirement already satisfied: keras in /usr/local/lib/python3.10/dist-packages (2.15.0)\n",
            "Collecting keras\n",
            "  Downloading keras-3.3.3-py3-none-any.whl (1.1 MB)\n",
            "\u001b[2K     \u001b[90m━━━━━━━━━━━━━━━━━━━━━━━━━━━━━━━━━━━━━━━━\u001b[0m \u001b[32m1.1/1.1 MB\u001b[0m \u001b[31m9.7 MB/s\u001b[0m eta \u001b[36m0:00:00\u001b[0m\n",
            "\u001b[?25hRequirement already satisfied: absl-py in /usr/local/lib/python3.10/dist-packages (from keras) (1.4.0)\n",
            "Requirement already satisfied: numpy in /usr/local/lib/python3.10/dist-packages (from keras) (1.25.2)\n",
            "Requirement already satisfied: rich in /usr/local/lib/python3.10/dist-packages (from keras) (13.7.1)\n",
            "Collecting namex (from keras)\n",
            "  Downloading namex-0.0.8-py3-none-any.whl (5.8 kB)\n",
            "Requirement already satisfied: h5py in /usr/local/lib/python3.10/dist-packages (from keras) (3.9.0)\n",
            "Collecting optree (from keras)\n",
            "  Downloading optree-0.11.0-cp310-cp310-manylinux_2_17_x86_64.manylinux2014_x86_64.whl (311 kB)\n",
            "\u001b[2K     \u001b[90m━━━━━━━━━━━━━━━━━━━━━━━━━━━━━━━━━━━━━━━━\u001b[0m \u001b[32m311.2/311.2 kB\u001b[0m \u001b[31m14.8 MB/s\u001b[0m eta \u001b[36m0:00:00\u001b[0m\n",
            "\u001b[?25hRequirement already satisfied: ml-dtypes in /usr/local/lib/python3.10/dist-packages (from keras) (0.2.0)\n",
            "Requirement already satisfied: typing-extensions>=4.0.0 in /usr/local/lib/python3.10/dist-packages (from optree->keras) (4.12.1)\n",
            "Requirement already satisfied: markdown-it-py>=2.2.0 in /usr/local/lib/python3.10/dist-packages (from rich->keras) (3.0.0)\n",
            "Requirement already satisfied: pygments<3.0.0,>=2.13.0 in /usr/local/lib/python3.10/dist-packages (from rich->keras) (2.16.1)\n",
            "Requirement already satisfied: mdurl~=0.1 in /usr/local/lib/python3.10/dist-packages (from markdown-it-py>=2.2.0->rich->keras) (0.1.2)\n",
            "Installing collected packages: namex, optree, keras\n",
            "  Attempting uninstall: keras\n",
            "    Found existing installation: keras 2.15.0\n",
            "    Uninstalling keras-2.15.0:\n",
            "      Successfully uninstalled keras-2.15.0\n",
            "\u001b[31mERROR: pip's dependency resolver does not currently take into account all the packages that are installed. This behaviour is the source of the following dependency conflicts.\n",
            "tensorflow 2.15.0 requires keras<2.16,>=2.15.0, but you have keras 3.3.3 which is incompatible.\u001b[0m\u001b[31m\n",
            "\u001b[0mSuccessfully installed keras-3.3.3 namex-0.0.8 optree-0.11.0\n"
          ]
        }
      ]
    },
    {
      "cell_type": "code",
      "source": [
        "# 3 versions of keras are used for different functionalities, imported as different names\n",
        "import tensorflow as tf\n",
        "import numpy as np\n",
        "import tensorflow_model_optimization as tfmot\n",
        "from tensorflow_model_optimization.sparsity import keras as sparsity\n",
        "import tf_keras as keras_model #only for pruning\n",
        "from tf_keras import layers as model_layers\n",
        "import keras\n",
        "import tempfile\n",
        "from tf_keras.callbacks import EarlyStopping, Callback\n",
        "from keras import ops, layers\n",
        "from tensorflow_docs.vis import embed # for GAN\n",
        "import matplotlib.pyplot as plt\n",
        "from tf_keras.preprocessing.image import ImageDataGenerator"
      ],
      "metadata": {
        "id": "0uN9jtQssMKu"
      },
      "execution_count": 2,
      "outputs": []
    },
    {
      "cell_type": "code",
      "source": [
        "# Logging metrics with WandB\n",
        "\n",
        "# !pip install wandb\n",
        "# import wandb\n",
        "# wandb.login()\n",
        "# from wandb.keras import WandbMetricsLogger"
      ],
      "metadata": {
        "id": "yLSfMJe-spr2"
      },
      "execution_count": 3,
      "outputs": []
    },
    {
      "cell_type": "markdown",
      "source": [
        "## Loading Data"
      ],
      "metadata": {
        "id": "lDJsxBBKO5k7"
      }
    },
    {
      "cell_type": "code",
      "source": [
        "# MNIST\n",
        "# Prepare the train and test dataset.\n",
        "batch_size = 64\n",
        "(x_train, y_train), (x_test, y_test) = keras.datasets.mnist.load_data()\n",
        "\n",
        "# Normalize data\n",
        "x_train = x_train.astype(\"float32\") / 255.0\n",
        "x_train = np.reshape(x_train, (-1, 28, 28, 1))\n",
        "\n",
        "x_test = x_test.astype(\"float32\") / 255.0\n",
        "x_test = np.reshape(x_test, (-1, 28, 28, 1))"
      ],
      "metadata": {
        "id": "S5AEP2kXO7Zh",
        "colab": {
          "base_uri": "https://localhost:8080/"
        },
        "outputId": "6d6974b7-347d-4322-af2e-7b26e41780cd"
      },
      "execution_count": 4,
      "outputs": [
        {
          "output_type": "stream",
          "name": "stdout",
          "text": [
            "Downloading data from https://storage.googleapis.com/tensorflow/tf-keras-datasets/mnist.npz\n",
            "\u001b[1m11490434/11490434\u001b[0m \u001b[32m━━━━━━━━━━━━━━━━━━━━\u001b[0m\u001b[37m\u001b[0m \u001b[1m0s\u001b[0m 0us/step\n"
          ]
        }
      ]
    },
    {
      "cell_type": "markdown",
      "source": [
        "# Components Implementation"
      ],
      "metadata": {
        "id": "UDusEhV8rad4"
      }
    },
    {
      "cell_type": "markdown",
      "source": [
        "## Model zoo"
      ],
      "metadata": {
        "id": "yivLHBBVKZ7Z"
      }
    },
    {
      "cell_type": "markdown",
      "source": [
        "### CNN"
      ],
      "metadata": {
        "id": "LiDzieUBHTED"
      }
    },
    {
      "cell_type": "code",
      "source": [
        "def miniCNN():\n",
        "  model = keras_model.Sequential(\n",
        "      [\n",
        "          keras_model.Input(shape=(28, 28, 1)),\n",
        "          model_layers.Conv2D(8, (3, 3), strides=(2, 2), padding=\"same\"),\n",
        "          model_layers.Flatten(),\n",
        "          model_layers.Dense(10),\n",
        "      ],\n",
        "      name=\"minicnn\",\n",
        "  )\n",
        "  return model\n",
        "\n",
        "def smallCNN():\n",
        "  model = keras_model.Sequential(\n",
        "      [\n",
        "          keras_model.Input(shape=(28, 28, 1)),\n",
        "          model_layers.Conv2D(8, (3, 3), strides=(2, 2), padding=\"same\"),\n",
        "          model_layers.LeakyReLU(alpha=0.2),\n",
        "          model_layers.MaxPooling2D(pool_size=(2, 2), strides=(1, 1), padding=\"same\"),\n",
        "          model_layers.Conv2D(8, (3, 3), strides=(2, 2), padding=\"same\"),\n",
        "          model_layers.Flatten(),\n",
        "          model_layers.Dense(10),\n",
        "      ],\n",
        "      name=\"smallcnn\",\n",
        "  )\n",
        "  return model\n",
        "\n",
        "def mediumCNN():\n",
        "  model = keras_model.Sequential(\n",
        "      [\n",
        "          keras_model.Input(shape=(28, 28, 1)),\n",
        "          model_layers.Conv2D(8, (3, 3), strides=(2, 2), padding=\"same\"),\n",
        "          model_layers.LeakyReLU(alpha=0.2),\n",
        "          model_layers.MaxPooling2D(pool_size=(2, 2), strides=(1, 1), padding=\"same\"),\n",
        "          model_layers.Conv2D(16, (3, 3), strides=(2, 2), padding=\"same\"),\n",
        "          model_layers.LeakyReLU(alpha=0.2),\n",
        "          model_layers.MaxPooling2D(pool_size=(2, 2), strides=(1, 1), padding=\"same\"),\n",
        "          model_layers.Conv2D(16, (3, 3), strides=(2, 2), padding=\"same\"),\n",
        "          model_layers.Flatten(),\n",
        "          model_layers.Dense(10),\n",
        "      ],\n",
        "      name=\"mediumcnn\",\n",
        "  )\n",
        "  return model\n",
        "\n",
        "def bigCNN():\n",
        "  model = keras_model.Sequential(\n",
        "      [\n",
        "          keras_model.Input(shape=(28, 28, 1)),\n",
        "          model_layers.Conv2D(32, (3, 3), strides=(2, 2), padding=\"same\"),\n",
        "          model_layers.LeakyReLU(alpha=0.2),\n",
        "          model_layers.MaxPooling2D(pool_size=(2, 2), strides=(1, 1), padding=\"same\"),\n",
        "          model_layers.Conv2D(32, (3, 3), strides=(2, 2), padding=\"same\"),\n",
        "          model_layers.LeakyReLU(alpha=0.2),\n",
        "          model_layers.MaxPooling2D(pool_size=(2, 2), strides=(1, 1), padding=\"same\"),\n",
        "          model_layers.Conv2D(32, (3, 3), strides=(2, 2), padding=\"same\"),\n",
        "          model_layers.Flatten(),\n",
        "          model_layers.Dense(10),\n",
        "      ],\n",
        "      name=\"bigcnn\",\n",
        "  )\n",
        "  return model"
      ],
      "metadata": {
        "id": "ZU1h8xrMKcWX"
      },
      "execution_count": 5,
      "outputs": []
    },
    {
      "cell_type": "markdown",
      "source": [
        "### GAN"
      ],
      "metadata": {
        "id": "2Yeo7R7OHVFT"
      }
    },
    {
      "cell_type": "code",
      "source": [
        "num_channels = 1\n",
        "num_classes = 10\n",
        "image_size = 28\n",
        "latent_dim = 128 # hyperparam, can tune\n",
        "\n",
        "generator_in_channels = latent_dim + num_classes\n",
        "discriminator_in_channels = num_channels + num_classes\n",
        "\n",
        "# Create the discriminator.\n",
        "def Discriminator(latent_dim = 128):\n",
        "  discriminator = keras.Sequential(\n",
        "      [\n",
        "          keras.layers.InputLayer((28, 28, discriminator_in_channels)),\n",
        "          layers.Conv2D(64, (3, 3), strides=(2, 2), padding=\"same\"),\n",
        "          layers.LeakyReLU(negative_slope=0.2),\n",
        "          layers.Conv2D(128, (3, 3), strides=(2, 2), padding=\"same\"),\n",
        "          layers.LeakyReLU(negative_slope=0.2),\n",
        "          layers.GlobalMaxPooling2D(),\n",
        "          layers.Dense(1),\n",
        "      ],\n",
        "      name=\"discriminator\",\n",
        "  )\n",
        "  return discriminator\n",
        "\n",
        "# Create the generator.\n",
        "def Generator():\n",
        "  generator = keras.Sequential(\n",
        "      [\n",
        "          keras.layers.InputLayer((generator_in_channels,)),\n",
        "          # We want to generate 128 + num_classes coefficients to reshape into a\n",
        "          # 7x7x(128 + num_classes) map.\n",
        "          layers.Dense(7 * 7 * generator_in_channels),\n",
        "          layers.LeakyReLU(negative_slope=0.2),\n",
        "          layers.Reshape((7, 7, generator_in_channels)),\n",
        "          layers.Conv2DTranspose(128, (4, 4), strides=(2, 2), padding=\"same\"),\n",
        "          layers.LeakyReLU(negative_slope=0.2),\n",
        "          layers.Conv2DTranspose(128, (4, 4), strides=(2, 2), padding=\"same\"),\n",
        "          layers.LeakyReLU(negative_slope=0.2),\n",
        "          layers.Conv2D(1, (7, 7), padding=\"same\", activation=\"sigmoid\"),\n",
        "      ],\n",
        "      name=\"generator\",\n",
        "  )\n",
        "  return generator"
      ],
      "metadata": {
        "id": "ZvYMNrI8HWna"
      },
      "execution_count": 6,
      "outputs": []
    },
    {
      "cell_type": "markdown",
      "source": [
        "## GAN"
      ],
      "metadata": {
        "id": "C9du692bJ1GZ"
      }
    },
    {
      "cell_type": "code",
      "source": [
        "class ConditionalGAN(keras.Model):\n",
        "    def __init__(self, discriminator, generator, latent_dim):\n",
        "        super().__init__()\n",
        "        self.discriminator = discriminator\n",
        "        self.generator = generator\n",
        "        self.latent_dim = latent_dim\n",
        "        self.seed_generator = keras.random.SeedGenerator(1337)\n",
        "        self.gen_loss_tracker = keras.metrics.Mean(name=\"generator_loss\")\n",
        "        self.disc_loss_tracker = keras.metrics.Mean(name=\"discriminator_loss\")\n",
        "\n",
        "    @property\n",
        "    def metrics(self):\n",
        "        return [self.gen_loss_tracker, self.disc_loss_tracker]\n",
        "\n",
        "    def compile(self, d_optimizer, g_optimizer, loss_fn):\n",
        "        super().compile()\n",
        "        self.d_optimizer = d_optimizer\n",
        "        self.g_optimizer = g_optimizer\n",
        "        self.loss_fn = loss_fn\n",
        "\n",
        "    def train_step(self, data):\n",
        "        # Unpack the data.\n",
        "        real_images, one_hot_labels = data\n",
        "\n",
        "        # Add dummy dimensions to the labels so that they can be concatenated with\n",
        "        # the images. This is for the discriminator.\n",
        "        image_one_hot_labels = one_hot_labels[:, :, None, None]\n",
        "        image_one_hot_labels = ops.repeat(\n",
        "            image_one_hot_labels, repeats=[image_size * image_size]\n",
        "        )\n",
        "        image_one_hot_labels = ops.reshape(\n",
        "            image_one_hot_labels, (-1, image_size, image_size, num_classes)\n",
        "        )\n",
        "\n",
        "        # Sample random points in the latent space and concatenate the labels.\n",
        "        # This is for the generator.\n",
        "        batch_size = ops.shape(real_images)[0]\n",
        "        random_latent_vectors = keras.random.normal(\n",
        "            shape=(batch_size, self.latent_dim), seed=self.seed_generator\n",
        "        )\n",
        "        random_vector_labels = ops.concatenate(\n",
        "            [random_latent_vectors, one_hot_labels], axis=1\n",
        "        )\n",
        "\n",
        "        # Decode the noise (guided by labels) to fake images.\n",
        "        generated_images = self.generator(random_vector_labels)\n",
        "\n",
        "        # Combine them with real images. Note that we are concatenating the labels\n",
        "        # with these images here.\n",
        "        fake_image_and_labels = ops.concatenate(\n",
        "            [generated_images, image_one_hot_labels], -1\n",
        "        )\n",
        "        real_image_and_labels = ops.concatenate([real_images, image_one_hot_labels], -1)\n",
        "        combined_images = ops.concatenate(\n",
        "            [fake_image_and_labels, real_image_and_labels], axis=0\n",
        "        )\n",
        "\n",
        "        # Assemble labels discriminating real from fake images.\n",
        "        labels = ops.concatenate(\n",
        "            [ops.ones((batch_size, 1)), ops.zeros((batch_size, 1))], axis=0\n",
        "        )\n",
        "\n",
        "        # Train the discriminator.\n",
        "        with tf.GradientTape() as tape:\n",
        "            predictions = self.discriminator(combined_images)\n",
        "            d_loss = self.loss_fn(labels, predictions)\n",
        "        grads = tape.gradient(d_loss, self.discriminator.trainable_weights)\n",
        "        self.d_optimizer.apply_gradients(\n",
        "            zip(grads, self.discriminator.trainable_weights)\n",
        "        )\n",
        "\n",
        "        # Sample random points in the latent space.\n",
        "        random_latent_vectors = keras.random.normal(\n",
        "            shape=(batch_size, self.latent_dim), seed=self.seed_generator\n",
        "        )\n",
        "        random_vector_labels = ops.concatenate(\n",
        "            [random_latent_vectors, one_hot_labels], axis=1\n",
        "        )\n",
        "\n",
        "        # Assemble labels that say \"all real images\".\n",
        "        misleading_labels = ops.zeros((batch_size, 1))\n",
        "\n",
        "        # Train the generator (note that we should *not* update the weights\n",
        "        # of the discriminator)!\n",
        "        with tf.GradientTape() as tape:\n",
        "            fake_images = self.generator(random_vector_labels)\n",
        "            fake_image_and_labels = ops.concatenate(\n",
        "                [fake_images, image_one_hot_labels], -1\n",
        "            )\n",
        "            predictions = self.discriminator(fake_image_and_labels)\n",
        "            g_loss = self.loss_fn(misleading_labels, predictions)\n",
        "        grads = tape.gradient(g_loss, self.generator.trainable_weights)\n",
        "        self.g_optimizer.apply_gradients(zip(grads, self.generator.trainable_weights))\n",
        "\n",
        "        # Monitor loss.\n",
        "        self.gen_loss_tracker.update_state(g_loss)\n",
        "        self.disc_loss_tracker.update_state(d_loss)\n",
        "        return {\n",
        "            \"g_loss\": self.gen_loss_tracker.result(),\n",
        "            \"d_loss\": self.disc_loss_tracker.result(),\n",
        "        }"
      ],
      "metadata": {
        "id": "dimSAKxdJ9jq"
      },
      "execution_count": 7,
      "outputs": []
    },
    {
      "cell_type": "code",
      "source": [
        "# image generation functions\n",
        "def generate_image(generator, target_class, latent_dim):\n",
        "    noise_matrix = keras.random.normal(shape=(1, latent_dim))\n",
        "    # Convert the target label to one-hot encoded vectors.\n",
        "    target_label = keras.utils.to_categorical([target_class], num_classes)\n",
        "    target_label = ops.cast(target_label, \"float32\")\n",
        "    noise_and_labels = ops.concatenate([noise_matrix, target_label], 1)\n",
        "    fake = generator.predict(noise_and_labels,verbose = 0)\n",
        "    return fake\n",
        "\n",
        "\n",
        "def dataAugmentation(x_initial, y_initial, num_augimg, batch_size):\n",
        "  datagen = ImageDataGenerator(\n",
        "      rotation_range=40,\n",
        "      width_shift_range=0.2,\n",
        "      height_shift_range=0.2,\n",
        "      shear_range=0.1,\n",
        "      zoom_range=0.1\n",
        "  )\n",
        "\n",
        "  # Create empty arrays to store the augmented data\n",
        "  augmented_images = np.empty((num_augimg, 28, 28, 1), dtype=np.float32)\n",
        "  augmented_labels = np.empty((num_augimg,), dtype=np.int32)\n",
        "\n",
        "  # Generate the augmented dataset\n",
        "  num_batches = num_augimg // batch_size\n",
        "  counter = 0\n",
        "\n",
        "  for x_batch, y_batch in datagen.flow(x_initial, y_initial, batch_size=batch_size):\n",
        "      augmented_images[counter*batch_size:(counter+1)*batch_size] = x_batch\n",
        "      augmented_labels[counter*batch_size:(counter+1)*batch_size] = y_batch\n",
        "      counter += 1\n",
        "      if counter >= num_batches:\n",
        "          break\n",
        "\n",
        "  # Verify the shape of the augmented dataset\n",
        "  print(f\"Augmented dataset shape: {augmented_images.shape}, {augmented_labels.shape}\")\n",
        "\n",
        "  # Optionally, combine the augmented data with the original training data\n",
        "  combined_images = np.concatenate((x_initial, augmented_images), axis=0)\n",
        "  combined_labels = np.concatenate((y_initial, augmented_labels), axis=0)\n",
        "  return combined_images, combined_labels\n",
        "\n",
        "\n",
        "def pseudoDataset(generator, total_num, latent_dim, is_augment=True, batch_size=64): # producing equal numbers of samples for each class\n",
        "    pseudo_images = []\n",
        "    if is_augment:\n",
        "      total_num = total_num//2\n",
        "    for num in range(10):\n",
        "      target_class = num\n",
        "      print('Generating', int(total_num/10), 'fake images of digit', num, '......')\n",
        "      for _ in range(int(total_num/10)):\n",
        "        generated_images = generate_image(generator, target_class, latent_dim)\n",
        "        generated_images *= 255.0\n",
        "        converted_images = generated_images.astype(np.uint8)\n",
        "        converted_images = ops.image.resize(converted_images, (28, 28)).numpy().astype(np.uint8)\n",
        "        pseudo_images.append(converted_images)\n",
        "    pseudo_images = np.concatenate(pseudo_images, axis=0)\n",
        "    x_pseudo = pseudo_images.astype(\"float32\") / 255.0\n",
        "    x_pseudo = np.reshape(x_pseudo, (-1, 28, 28, 1))\n",
        "    pseudo_labels = np.repeat(np.arange(10), int(total_num/10))\n",
        "\n",
        "    if is_augment:\n",
        "      x_pseudo, pseudo_labels = dataAugmentation(x_pseudo, pseudo_labels, total_num, batch_size) #1:1 augmentation to true ratio\n",
        "\n",
        "    print('Added', pseudo_labels.shape, 'data points to the public dataset')\n",
        "    return x_pseudo, pseudo_labels"
      ],
      "metadata": {
        "id": "IYYsK1c3nEry"
      },
      "execution_count": 8,
      "outputs": []
    },
    {
      "cell_type": "markdown",
      "source": [
        "## Pruning"
      ],
      "metadata": {
        "id": "EZI_-kzpJ4OC"
      }
    },
    {
      "cell_type": "code",
      "source": [
        "def prune_finetrain(base_model, _epochs, x, y, target_sparsity, fine_tune_epochs, validation_split=0.1):\n",
        "  callbacks = [\n",
        "      sparsity.UpdatePruningStep(),\n",
        "      early_stopping\n",
        "  ]\n",
        "  steps_per_epoch = len(x)*(1-validation_split) // batch_size\n",
        "  begin_step=int(steps_per_epoch*fine_tune_epochs)\n",
        "  end_step=int(steps_per_epoch*_epochs)+1\n",
        "  print('begin_step=', begin_step, 'end_step=', end_step)\n",
        "  pruning_schedule = sparsity.PolynomialDecay(initial_sparsity=0, final_sparsity=target_sparsity,\n",
        "                                              begin_step=begin_step, end_step=end_step) # TODO: tune begin_step, consider fining training before starting to prune\n",
        "\n",
        "  model_for_pruning = sparsity.prune_low_magnitude(base_model, pruning_schedule=pruning_schedule) #default constant sparsity of 50%\n",
        "\n",
        "  model_for_pruning.compile(\n",
        "        optimizer='adam',\n",
        "        loss=keras_model.losses.SparseCategoricalCrossentropy(from_logits=True),\n",
        "        metrics=[keras_model.metrics.SparseCategoricalAccuracy()]\n",
        "  )\n",
        "\n",
        "  model_for_pruning.fit(\n",
        "      x,\n",
        "      y,\n",
        "      batch_size=batch_size,\n",
        "      validation_split=validation_split,\n",
        "      callbacks=callbacks,\n",
        "      epochs=_epochs,\n",
        "  )\n",
        "  pruned_model = sparsity.strip_pruning(model_for_pruning)\n",
        "\n",
        "  return pruned_model\n",
        "\n",
        "\n",
        "# Model size metrics\n",
        "\n",
        "def get_model_sparsity(model):\n",
        "    total_weights = 0\n",
        "    zero_weights = 0\n",
        "    for weight in model.get_weights():\n",
        "        total_weights += weight.size\n",
        "        zero_weights += np.count_nonzero(weight == 0)\n",
        "    return zero_weights / total_weights\n",
        "\n",
        "def get_gzipped_model_size(model):\n",
        "  # Returns size of gzipped model, in bytes.\n",
        "  import os\n",
        "  import zipfile\n",
        "\n",
        "  _, keras_file = tempfile.mkstemp('.h5')\n",
        "  model.save(keras_file, include_optimizer=False)\n",
        "\n",
        "  _, zipped_file = tempfile.mkstemp('.zip')\n",
        "  with zipfile.ZipFile(zipped_file, 'w', compression=zipfile.ZIP_DEFLATED) as f:\n",
        "    f.write(keras_file)\n",
        "\n",
        "  return os.path.getsize(zipped_file)"
      ],
      "metadata": {
        "id": "oxgClZVAJ-Y2"
      },
      "execution_count": 9,
      "outputs": []
    },
    {
      "cell_type": "markdown",
      "source": [
        "## Knowledge Distillation"
      ],
      "metadata": {
        "id": "m0uflogyJ53G"
      }
    },
    {
      "cell_type": "code",
      "source": [
        "class Distiller(keras_model.Model):\n",
        "    def __init__(self, get_teacher_logits, student, alpha=0.1, temperature=3, **kwargs):\n",
        "        super(Distiller, self).__init__(**kwargs)\n",
        "        self.student = student\n",
        "        self.get_teacher_logits = get_teacher_logits\n",
        "\n",
        "    def compile(self, optimizer, metrics, student_loss_fn, distillation_loss_fn, alpha, temperature, **kwargs):\n",
        "        super(Distiller, self).compile(optimizer=optimizer, metrics=metrics, **kwargs)\n",
        "        self.student_loss_fn = student_loss_fn\n",
        "        self.student.compile(optimizer=optimizer, metrics=metrics, loss=self.student_loss_fn)\n",
        "        self.distillation_loss_fn = distillation_loss_fn\n",
        "        self.alpha = alpha\n",
        "        self.temperature = temperature\n",
        "\n",
        "    def train_step(self, data):\n",
        "        # Unpack the data\n",
        "        x, y = data\n",
        "\n",
        "        teacher_predictions = self.get_teacher_logits(x)\n",
        "\n",
        "        with tf.GradientTape() as tape:\n",
        "            # Forward pass of the student\n",
        "            student_predictions = self.student(x, training=True)\n",
        "\n",
        "            # Calculate the task-specific loss\n",
        "            task_loss = self.student_loss_fn(y, student_predictions)\n",
        "\n",
        "            # Calculate the soft targets and the distillation loss\n",
        "            soft_targets = tf.nn.softmax(teacher_predictions / self.temperature)\n",
        "\n",
        "            student_soft = tf.nn.softmax(student_predictions / self.temperature)\n",
        "            distillation_loss = self.distillation_loss_fn(soft_targets, student_soft)\n",
        "\n",
        "            # Calculate the total loss\n",
        "            total_loss = (1 - self.alpha) * task_loss + self.alpha * distillation_loss * (self.temperature ** 2)\n",
        "\n",
        "        # Compute gradients and update weights\n",
        "        trainable_vars = self.student.trainable_variables\n",
        "        gradients = tape.gradient(total_loss, trainable_vars)\n",
        "        self.optimizer.apply_gradients(zip(gradients, trainable_vars))\n",
        "\n",
        "        # Update metrics\n",
        "        self.compiled_metrics.update_state(y, student_predictions)\n",
        "        results = {m.name: m.result() for m in self.metrics}\n",
        "        results.update({\"task_loss\": task_loss, \"distillation_loss\": distillation_loss, \"total_loss\": total_loss})\n",
        "        return results\n",
        "\n",
        "    def test_step(self, data):\n",
        "        # Unpack the data\n",
        "        x, y = data\n",
        "\n",
        "        # Forward pass of the student\n",
        "        y_pred = self.student(x, training=False)\n",
        "\n",
        "        # Calculate the task-specific loss\n",
        "        task_loss = self.student_loss_fn(y, y_pred)\n",
        "\n",
        "        # Update the metrics\n",
        "        self.compiled_metrics.update_state(y, y_pred)\n",
        "        return {m.name: m.result() for m in self.metrics}\n",
        "\n",
        "    def call_model(self):\n",
        "      return self.student"
      ],
      "metadata": {
        "id": "BNTcgLrs0PmV"
      },
      "execution_count": 10,
      "outputs": []
    },
    {
      "cell_type": "markdown",
      "source": [
        "# Helper Function Implementation\n",
        "\n",
        "TODO:\n",
        "Dataset:\n",
        "- Dataloader\n",
        "- heterogeneous dataset partition\n",
        "- data augmentation\n",
        "\n",
        "visualisation:\n",
        "- dataset example visualisation\n",
        "- data distribution visualisation\n",
        "- confusion matrix\n",
        "-"
      ],
      "metadata": {
        "id": "rtt0HHPp6bWu"
      }
    },
    {
      "cell_type": "code",
      "source": [
        "def set_model_weights_to_zero(model):\n",
        "    for layer in model.layers:\n",
        "        zero_weights = [np.zeros_like(w) for w in layer.get_weights()]\n",
        "        layer.set_weights(zero_weights)\n",
        "    return model"
      ],
      "metadata": {
        "id": "pL7iWz7Z6ew6"
      },
      "execution_count": 11,
      "outputs": []
    },
    {
      "cell_type": "code",
      "source": [
        "def if_synced(model1, model2):\n",
        "    for layer1, layer2 in zip(model1.layers, model2.layers):\n",
        "          weights1 = layer1.get_weights()\n",
        "          weights2 = layer2.get_weights()\n",
        "          for w1, w2 in zip(weights1, weights2):\n",
        "              if not np.array_equal(w1, w2):\n",
        "                  print('different weights, syncing failed')\n",
        "    print('weights synced for client')"
      ],
      "metadata": {
        "id": "5nd729kbESwD"
      },
      "execution_count": 12,
      "outputs": []
    },
    {
      "cell_type": "markdown",
      "source": [
        "## Callback zoo"
      ],
      "metadata": {
        "id": "0_Ji1-THrXgo"
      }
    },
    {
      "cell_type": "code",
      "source": [
        "early_stopping = EarlyStopping(\n",
        "    monitor='loss', #default to val_loss\n",
        "    min_delta=0.001,  # only consider as improvement significant changes\n",
        "    patience=2,      # number of epochs with no improvement after which training will be stopped\n",
        "    verbose=1,\n",
        "    mode='min'        # 'min' because we want to minimize the loss\n",
        "    )"
      ],
      "metadata": {
        "id": "9di4sjQurWkv"
      },
      "execution_count": 13,
      "outputs": []
    },
    {
      "cell_type": "markdown",
      "source": [
        "# Client"
      ],
      "metadata": {
        "id": "0XwMW_rz5C_t"
      }
    },
    {
      "cell_type": "code",
      "source": [
        "class Client(): #TODO: add name to clients to refer to them, espeically during logging\n",
        "  def __init__(self, model_fn, x_train, y_train, **kwargs): #generator = None, discriminator = None, self.latent_dim = 128\n",
        "    self.cnn = model_fn\n",
        "    self.generator = Generator()\n",
        "    self.discriminator = Discriminator()\n",
        "    self.latent_dim = 128\n",
        "    self.x_private = x_train\n",
        "    self.y_private = y_train\n",
        "    self.batch_size = 64 # hyperparam, can tune\n",
        "    self.validation_split=0.1\n",
        "\n",
        "  def train_cnn(self, epochs = 5, is_prune = False, target_sparsity = 0.3, fine_tune_epochs = 0, **kwargs):\n",
        "    if is_prune:\n",
        "      print('from gloabl - before pruning client has sparsity', get_model_sparsity(self.cnn))\n",
        "      self.cnn = prune_finetrain(self.cnn, _epochs = epochs, x = self.x_private, y = self.y_private, target_sparsity = target_sparsity, fine_tune_epochs = fine_tune_epochs) # fine_tune_epochs can take decimals, starts pruning after fine tune\n",
        "      self.cnn.compile(\n",
        "        optimizer='adam',\n",
        "        loss=keras_model.losses.SparseCategoricalCrossentropy(from_logits=True),\n",
        "        metrics=[keras_model.metrics.SparseCategoricalAccuracy()]\n",
        "      )\n",
        "      print('after pruning client has sparsity', get_model_sparsity(self.cnn))\n",
        "    else:\n",
        "      self.cnn.compile(\n",
        "        optimizer='adam',\n",
        "        loss=keras_model.losses.SparseCategoricalCrossentropy(from_logits=True),\n",
        "        metrics=[keras_model.metrics.SparseCategoricalAccuracy()]\n",
        "      )\n",
        "      self.cnn.fit(self.x_private, self.y_private, batch_size=batch_size, epochs=epochs,validation_split=self.validation_split, callbacks=[early_stopping])\n",
        "\n",
        "  def train_gen(self, epochs = 20, d_learning_rate = 0.0003, g_learning_rate = 0.0003):\n",
        "    cond_gan = ConditionalGAN(self.discriminator, self.generator, self.latent_dim)\n",
        "    cond_gan.compile(\n",
        "        d_optimizer=keras.optimizers.Adam(d_learning_rate),\n",
        "        g_optimizer=keras.optimizers.Adam(g_learning_rate),\n",
        "        loss_fn=keras.losses.BinaryCrossentropy(from_logits=True),\n",
        "    )\n",
        "    # produce GAN training dataset\n",
        "    train_label = keras.utils.to_categorical(self.y_private, 10) # 1 hot encoding label\n",
        "    dataset = tf.data.Dataset.from_tensor_slices((self.x_private, train_label))\n",
        "    dataset = dataset.shuffle(buffer_size=1024).batch(batch_size)\n",
        "    cond_gan.fit(dataset, epochs=epochs, callbacks=[early_stopping])\n",
        "\n",
        "\n",
        "  ## the following code act as interface with the server, avoid direct access to private model and dataset\n",
        "\n",
        "  def produce_logits(self, x): #for KD\n",
        "    logits = self.cnn(x, training=False)\n",
        "    print('----getting 1 client logits')\n",
        "    return logits\n",
        "\n",
        "  def get_cnn_weights(self): #only for FedAvg, disabled\n",
        "    return self.cnn.get_weights()\n",
        "\n",
        "  def get_cnn_classifier(self):\n",
        "    return self.cnn.layers[-1].get_weights()\n",
        "\n",
        "  def set_cnn_weights(self, weights): #for downloading global weights\n",
        "    self.cnn.set_weights(weights)\n",
        "\n",
        "  def get_gen_weights(self): #only for FedAvg, disabled\n",
        "    return self.generator.get_weights()\n",
        "\n",
        "  def set_gen_weights(self, weights): #for downloading global weights\n",
        "    self.generator.set_weights(weights)\n",
        "\n",
        "  def get_datasize(self):\n",
        "    return self.x_private.shape[0]"
      ],
      "metadata": {
        "id": "oYQ-XPX05CW2"
      },
      "execution_count": 14,
      "outputs": []
    },
    {
      "cell_type": "markdown",
      "source": [
        "# Server"
      ],
      "metadata": {
        "id": "8RMvpBJwLuju"
      }
    },
    {
      "cell_type": "code",
      "source": [
        "class Server():\n",
        "  def __init__(self, model_fn, client_list, comm_freq = 1, algo = 'FedAvg', **kwargs): #generator = None,\n",
        "    self.cnn = model_fn\n",
        "    self.client_list = client_list # calling this param when \"uploading\" or \"downloading\"\n",
        "    self.client_datasize = []\n",
        "    self.generator = Generator()\n",
        "    self.latent_dim = 128 # hyperparam, can tune\n",
        "    self.x_public = np.array([]) # to generate\n",
        "    self.y_public = np.array([]) # to generate\n",
        "    self.batch_size = 64 # hyperparam, can tune\n",
        "    self.comm_freq = comm_freq # no. of client local training epochs before upload\n",
        "\n",
        "    # default settings for FedAvg\n",
        "    self.is_prune = False\n",
        "    self.is_simKD = False\n",
        "\n",
        "    if algo == 'FedPKDG':\n",
        "    # turn on FedPKDG\n",
        "      self.is_prune = True\n",
        "      self.is_simKD = True\n",
        "\n",
        "  def get_client_datasize(self):\n",
        "    if len(self.client_datasize) != len(self.client_list):\n",
        "      for i in range(len(self.client_datasize), len(self.client_list)):\n",
        "        self.client_datasize.append(self.client_list[i].get_datasize())\n",
        "    return self.client_datasize\n",
        "\n",
        "  def assign_weights_cnn(self, client):\n",
        "    client.set_cnn_weights(self.cnn.get_weights())\n",
        "\n",
        "  def assign_weights_gen(self, client):\n",
        "    client.set_gen_weights(self.generator.get_weights())\n",
        "\n",
        "  def broadcast(self):\n",
        "    # TODO: improve: can use tff.federated_map and tff.federated_broadcast, can combine the two assign fns\n",
        "    for client in self.client_list:\n",
        "        self.assign_weights_cnn(client)\n",
        "    for client in self.client_list:\n",
        "        self.assign_weights_gen(client)\n",
        "\n",
        "  def local_training(self, cnn_epochs=None, target_sparsity=0.3, fine_tune_epochs = 0, gen_epochs=None):\n",
        "    for idx, client in enumerate(self.client_list):\n",
        "      # train the cnn\n",
        "      print('training client', idx, '\\'s CNN')\n",
        "      if not cnn_epochs:\n",
        "        cnn_epochs = self.comm_freq\n",
        "      client.train_cnn(epochs = cnn_epochs, is_prune = self.is_prune, target_sparsity=target_sparsity, fine_tune_epochs = fine_tune_epochs)\n",
        "      # train the generator\n",
        "      print('training client', idx, '\\'s GEN')\n",
        "      if not gen_epochs:\n",
        "        gen_epochs = self.comm_freq\n",
        "      client.train_gen(epochs = gen_epochs)\n",
        "\n",
        "  def weighted_average(self, type_of_value ,output):\n",
        "    print('----getting weighted avg of clients\\'', type_of_value)\n",
        "    p = self.get_client_datasize()\n",
        "    total_size = sum(p)\n",
        "    for client_idx, client in enumerate(self.client_list):\n",
        "        p_k = p[client_idx]/total_size\n",
        "        if type_of_value == 'cnn':\n",
        "          client_val = client.get_cnn_weights()\n",
        "        elif type_of_value == 'gen':\n",
        "          client_val = client.get_gen_weights()\n",
        "        elif type_of_value == 'classifier':\n",
        "          client_val = client.get_cnn_classifier()\n",
        "        for val_idx, value in enumerate(client_val):\n",
        "          output[val_idx] += p_k * value\n",
        "    return output\n",
        "\n",
        "  def agg_cnn(self):\n",
        "    global_weights = [np.zeros_like(w) for w in self.cnn.get_weights()]\n",
        "    global_weights = self.weighted_average('cnn', global_weights)\n",
        "    # Set the updated weights to the global model\n",
        "    self.cnn.set_weights(global_weights)\n",
        "\n",
        "  def agg_classifier(self):\n",
        "    # !!TODO: to test, can use tff.federated_mean\n",
        "    global_weights = [np.zeros_like(w) for w in self.cnn.layers[-1].get_weights()]\n",
        "    global_weights = self.weighted_average('classifier', global_weights)\n",
        "    # Set the updated weights to the global model\n",
        "    self.cnn.layers[-1].set_weights(global_weights)\n",
        "    self.cnn.layers[-1].trainable = False\n",
        "\n",
        "  def agg_gen(self):\n",
        "    global_weights = [np.zeros_like(w) for w in self.generator.get_weights()]\n",
        "    global_weights = self.weighted_average('gen', global_weights)\n",
        "    # Set the updated weights to the global model\n",
        "    self.generator.set_weights(global_weights)\n",
        "\n",
        "  def produce_pseudo_dataset(self, total_num = None):\n",
        "    # generate with gen, homogenous data: equal number of datapoints for each class\n",
        "    #TODO: test pseudoDataset\n",
        "    if total_num == None:\n",
        "      total_num = min(self.client_datasize)\n",
        "    if self.x_public.size==0:\n",
        "      self.x_public, self.y_public = pseudoDataset(generator=self.generator, total_num=total_num, latent_dim=self.latent_dim)\n",
        "    else:\n",
        "      new_x, new_y = pseudoDataset(generator=self.generator, total_num=5*self.batch_size, latent_dim=self.latent_dim)\n",
        "      self.x_public = np.concatenate((self.x_public, new_x), axis=0)\n",
        "      self.y_public = np.concatenate((self.y_public, new_y), axis=0)\n",
        "\n",
        "  def agg_logits(self, data):\n",
        "    # mimics clients sending their logits to the server given the same input\n",
        "    p = self.get_client_datasize()\n",
        "    total_size = sum(p)\n",
        "    for client_idx, client in enumerate(self.client_list):\n",
        "      p_k = p[client_idx]/total_size\n",
        "      if client_idx == 0:\n",
        "        logits = p_k * client.produce_logits(data)\n",
        "      else:\n",
        "        logits += p_k * client.produce_logits(data)\n",
        "    print('----getting aggregate client logits',logits)\n",
        "    return logits\n",
        "\n",
        "  def distill_to_global(self, epochs=3):\n",
        "    #!!!TODO: test distillation based on the public_dataset and agg_logits\n",
        "    if self.is_simKD:\n",
        "      self.agg_classifier()\n",
        "    distiller = Distiller(get_teacher_logits = self.agg_logits, student = self.cnn)\n",
        "    distiller.compile(\n",
        "      optimizer=keras_model.optimizers.Adam(),\n",
        "      metrics=[keras_model.metrics.SparseCategoricalAccuracy()],\n",
        "      student_loss_fn=keras_model.losses.SparseCategoricalCrossentropy(from_logits=True),\n",
        "      distillation_loss_fn=keras_model.losses.KLDivergence(),\n",
        "      alpha=0.4,\n",
        "      temperature=3,\n",
        "    )\n",
        "    # Distill teacher to student\n",
        "    distiller.fit(self.x_public, self.y_public, epochs=epochs, validation_split=0.1)\n",
        "\n",
        "    print('should print not trainable:', self.cnn.layers[-1].trainable)\n",
        "    self.cnn.layers[-1].trainable = True\n",
        "    print('should print trainable:', self.cnn.layers[-1].trainable)"
      ],
      "metadata": {
        "id": "33NE17U-Xr72"
      },
      "execution_count": 15,
      "outputs": []
    },
    {
      "cell_type": "markdown",
      "source": [
        "# Testing Functionality\n",
        "\n",
        "NB: re-run the server block before every experiment to avoid error: Server class not callable"
      ],
      "metadata": {
        "id": "kTbXJ45XOzCM"
      }
    },
    {
      "cell_type": "markdown",
      "source": [
        "## FedAvg (Don't Touch)"
      ],
      "metadata": {
        "id": "2jO8wgGy-e62"
      }
    },
    {
      "cell_type": "code",
      "source": [
        "#initiate 3 clients\n",
        "no_sample = len(x_train) // 3\n",
        "client_list = []\n",
        "for i in range(3):\n",
        "  #partition dataset to mimic private data\n",
        "  x_train_k = x_train[no_sample*i:no_sample*(i+1)]\n",
        "  y_train_k = y_train[no_sample*i:no_sample*(i+1)]\n",
        "  client_list.append(Client(smallCNN(), x_train_k, y_train_k))\n",
        "\n",
        "#initiate 1 server\n",
        "Server = Server(smallCNN(), client_list, comm_freq = 1)\n",
        "\n",
        "for _ in range(3):\n",
        "  Server.broadcast()\n",
        "  print('Broadcasted weights to all clients')\n",
        "  Server.local_training()\n",
        "  print('trained all clients cnn round', _)\n",
        "  Server.agg_cnn()\n",
        "  print('Weighted aggregated client weights')\n",
        "\n",
        "for client in client_list:\n",
        "  client.cnn.evaluate(x_test, y_test)"
      ],
      "metadata": {
        "colab": {
          "base_uri": "https://localhost:8080/"
        },
        "id": "0Wx11C-UO0WO",
        "outputId": "af09b480-7040-4a81-be40-cad918d7b828"
      },
      "execution_count": null,
      "outputs": [
        {
          "output_type": "stream",
          "name": "stdout",
          "text": [
            "Broadcasted weights to all clients\n",
            "training client 0 's cnn\n",
            "282/282 [==============================] - 6s 14ms/step - loss: 0.8666 - sparse_categorical_accuracy: 0.7477 - val_loss: 0.3297 - val_sparse_categorical_accuracy: 0.9050\n",
            "training client 1 's cnn\n",
            "282/282 [==============================] - 5s 11ms/step - loss: 0.8512 - sparse_categorical_accuracy: 0.7609 - val_loss: 0.3672 - val_sparse_categorical_accuracy: 0.8970\n",
            "training client 2 's cnn\n",
            "282/282 [==============================] - 7s 19ms/step - loss: 0.8463 - sparse_categorical_accuracy: 0.7662 - val_loss: 0.2613 - val_sparse_categorical_accuracy: 0.9210\n",
            "trained all clients cnn round 0\n",
            "Weighted aggregated client weights\n",
            "Broadcasted weights to all clients\n",
            "training client 0 's cnn\n",
            "282/282 [==============================] - 6s 14ms/step - loss: 0.3540 - sparse_categorical_accuracy: 0.8938 - val_loss: 0.2673 - val_sparse_categorical_accuracy: 0.9210\n",
            "training client 1 's cnn\n",
            "282/282 [==============================] - 6s 12ms/step - loss: 0.3558 - sparse_categorical_accuracy: 0.8945 - val_loss: 0.3160 - val_sparse_categorical_accuracy: 0.9030\n",
            "training client 2 's cnn\n",
            "282/282 [==============================] - 5s 11ms/step - loss: 0.3469 - sparse_categorical_accuracy: 0.8948 - val_loss: 0.2162 - val_sparse_categorical_accuracy: 0.9395\n",
            "trained all clients cnn round 1\n",
            "Weighted aggregated client weights\n",
            "Broadcasted weights to all clients\n",
            "training client 0 's cnn\n",
            "282/282 [==============================] - 5s 12ms/step - loss: 0.3004 - sparse_categorical_accuracy: 0.9089 - val_loss: 0.2268 - val_sparse_categorical_accuracy: 0.9405\n",
            "training client 1 's cnn\n",
            "282/282 [==============================] - 5s 12ms/step - loss: 0.2983 - sparse_categorical_accuracy: 0.9122 - val_loss: 0.2671 - val_sparse_categorical_accuracy: 0.9180\n",
            "training client 2 's cnn\n",
            "282/282 [==============================] - 5s 11ms/step - loss: 0.2941 - sparse_categorical_accuracy: 0.9113 - val_loss: 0.1745 - val_sparse_categorical_accuracy: 0.9555\n",
            "trained all clients cnn round 2\n",
            "Weighted aggregated client weights\n",
            "313/313 [==============================] - 1s 4ms/step - loss: 0.2496 - sparse_categorical_accuracy: 0.9256\n",
            "313/313 [==============================] - 1s 3ms/step - loss: 0.2495 - sparse_categorical_accuracy: 0.9265\n",
            "313/313 [==============================] - 2s 5ms/step - loss: 0.2532 - sparse_categorical_accuracy: 0.9260\n"
          ]
        }
      ]
    },
    {
      "cell_type": "code",
      "source": [
        "x_train_k = x_train[:no_sample]\n",
        "y_train_k = y_train[:no_sample]\n",
        "client = Client(smallCNN(), x_train_k, y_train_k)\n",
        "client.local_train(epochs=3)\n",
        "client.cnn.evaluate(x_test, y_test)"
      ],
      "metadata": {
        "colab": {
          "base_uri": "https://localhost:8080/"
        },
        "id": "clXt_GxJD99-",
        "outputId": "9c82cf31-09b6-4fc8-da57-1822796ea9cf"
      },
      "execution_count": null,
      "outputs": [
        {
          "output_type": "stream",
          "name": "stdout",
          "text": [
            "Epoch 1/3\n",
            "282/282 [==============================] - 5s 14ms/step - loss: 0.7805 - sparse_categorical_accuracy: 0.7734 - val_loss: 0.3458 - val_sparse_categorical_accuracy: 0.9010\n",
            "Epoch 2/3\n",
            "282/282 [==============================] - 3s 12ms/step - loss: 0.3653 - sparse_categorical_accuracy: 0.8892 - val_loss: 0.2914 - val_sparse_categorical_accuracy: 0.9185\n",
            "Epoch 3/3\n",
            "282/282 [==============================] - 3s 10ms/step - loss: 0.3179 - sparse_categorical_accuracy: 0.9041 - val_loss: 0.2633 - val_sparse_categorical_accuracy: 0.9245\n",
            "313/313 [==============================] - 1s 3ms/step - loss: 0.2903 - sparse_categorical_accuracy: 0.9135\n"
          ]
        },
        {
          "output_type": "execute_result",
          "data": {
            "text/plain": [
              "[0.29031461477279663, 0.9135000109672546]"
            ]
          },
          "metadata": {},
          "execution_count": 38
        }
      ]
    },
    {
      "cell_type": "markdown",
      "source": [
        "comment: model quickly overfit to bad training data even after syncing weights, need to prevent this"
      ],
      "metadata": {
        "id": "Q5h6K_slalno"
      }
    },
    {
      "cell_type": "markdown",
      "source": [
        "## Just Pruning (Don't Touch)"
      ],
      "metadata": {
        "id": "5nKDiEwT-ayP"
      }
    },
    {
      "cell_type": "code",
      "source": [
        "no_sample = len(x_train) // 3\n",
        "client_list = []\n",
        "for i in range(3):\n",
        "  #partition dataset to mimic private data\n",
        "  x_train_k = x_train[no_sample*i:no_sample*(i+1)]\n",
        "  y_train_k = y_train[no_sample*i:no_sample*(i+1)]\n",
        "  client_list.append(Client(smallCNN(), x_train_k, y_train_k))\n",
        "\n",
        "#initiate 1 server\n",
        "Server = Server(smallCNN(), client_list, comm_freq = 1, algo = 'FedPKDG')\n",
        "\n",
        "for _ in range(3):\n",
        "  Server.broadcast()\n",
        "  print('Broadcasted weights to all clients')\n",
        "  Server.local_training()\n",
        "  print('trained all clients cnn round', _)\n",
        "  Server.agg_cnn()\n",
        "  print('Weighted aggregated client weights')\n",
        "\n",
        "for client in client_list:\n",
        "  get_model_sparsity(client.cnn)\n",
        "  client.cnn.evaluate(x_test, y_test)"
      ],
      "metadata": {
        "colab": {
          "base_uri": "https://localhost:8080/"
        },
        "id": "OSmgBFBa-lYt",
        "outputId": "689400d5-ee9b-478b-ee69-0a9220d096f4"
      },
      "execution_count": null,
      "outputs": [
        {
          "output_type": "stream",
          "name": "stdout",
          "text": [
            "after broadcasting client has sparsity 0.0056595559425337396\n",
            "after broadcasting client has sparsity 0.0056595559425337396\n",
            "after broadcasting client has sparsity 0.0056595559425337396\n",
            "Broadcasted weights to all clients\n",
            "training client 0 's cnn\n",
            "begin_step= 0 end_step= 282\n",
            "282/282 [==============================] - 9s 13ms/step - loss: 0.8240 - sparse_categorical_accuracy: 0.7577 - val_loss: 0.3441 - val_sparse_categorical_accuracy: 0.8970\n",
            "training client 1 's cnn\n",
            "begin_step= 0 end_step= 282\n",
            "282/282 [==============================] - 9s 18ms/step - loss: 0.8242 - sparse_categorical_accuracy: 0.7551 - val_loss: 0.4127 - val_sparse_categorical_accuracy: 0.8890\n",
            "training client 2 's cnn\n",
            "begin_step= 0 end_step= 282\n",
            "282/282 [==============================] - 7s 12ms/step - loss: 0.8215 - sparse_categorical_accuracy: 0.7543 - val_loss: 0.2855 - val_sparse_categorical_accuracy: 0.9250\n",
            "trained all clients cnn round 0\n",
            "before agg client 0 has sparsity 0.4849804092294297\n",
            "before agg client 1 has sparsity 0.4849804092294297\n",
            "before agg client 2 has sparsity 0.4849804092294297\n",
            "Weighted aggregated client weights\n",
            "after broadcasting client has sparsity 0.4264257727470614\n",
            "after broadcasting client has sparsity 0.4264257727470614\n",
            "after broadcasting client has sparsity 0.4264257727470614\n",
            "Broadcasted weights to all clients\n",
            "training client 0 's cnn\n",
            "begin_step= 0 end_step= 282\n",
            "282/282 [==============================] - 8s 12ms/step - loss: 0.3899 - sparse_categorical_accuracy: 0.8824 - val_loss: 0.3071 - val_sparse_categorical_accuracy: 0.9175\n",
            "training client 1 's cnn\n",
            "begin_step= 0 end_step= 282\n",
            "282/282 [==============================] - 8s 14ms/step - loss: 0.3927 - sparse_categorical_accuracy: 0.8826 - val_loss: 0.3652 - val_sparse_categorical_accuracy: 0.8970\n",
            "training client 2 's cnn\n",
            "begin_step= 0 end_step= 282\n",
            "282/282 [==============================] - 7s 13ms/step - loss: 0.3844 - sparse_categorical_accuracy: 0.8828 - val_loss: 0.2386 - val_sparse_categorical_accuracy: 0.9335\n",
            "trained all clients cnn round 1\n",
            "before agg client 0 has sparsity 0.4849804092294297\n",
            "before agg client 1 has sparsity 0.4849804092294297\n",
            "before agg client 2 has sparsity 0.4849804092294297\n",
            "Weighted aggregated client weights\n",
            "after broadcasting client has sparsity 0.46408358728776666\n",
            "after broadcasting client has sparsity 0.46408358728776666\n",
            "after broadcasting client has sparsity 0.46408358728776666\n",
            "Broadcasted weights to all clients\n",
            "training client 0 's cnn\n",
            "begin_step= 0 end_step= 282\n",
            "282/282 [==============================] - 7s 13ms/step - loss: 0.3507 - sparse_categorical_accuracy: 0.8952 - val_loss: 0.2816 - val_sparse_categorical_accuracy: 0.9190\n",
            "training client 1 's cnn\n",
            "begin_step= 0 end_step= 282\n",
            "282/282 [==============================] - 8s 16ms/step - loss: 0.3512 - sparse_categorical_accuracy: 0.8956 - val_loss: 0.3383 - val_sparse_categorical_accuracy: 0.9000\n",
            "training client 2 's cnn\n",
            "begin_step= 0 end_step= 282\n",
            "282/282 [==============================] - 7s 13ms/step - loss: 0.3445 - sparse_categorical_accuracy: 0.8972 - val_loss: 0.2243 - val_sparse_categorical_accuracy: 0.9370\n",
            "trained all clients cnn round 2\n",
            "before agg client 0 has sparsity 0.4849804092294297\n",
            "before agg client 1 has sparsity 0.4849804092294297\n",
            "before agg client 2 has sparsity 0.4849804092294297\n",
            "Weighted aggregated client weights\n",
            "313/313 [==============================] - 2s 5ms/step - loss: 0.3172 - sparse_categorical_accuracy: 0.9082\n",
            "313/313 [==============================] - 2s 4ms/step - loss: 0.3139 - sparse_categorical_accuracy: 0.9087\n",
            "313/313 [==============================] - 2s 4ms/step - loss: 0.3113 - sparse_categorical_accuracy: 0.9087\n"
          ]
        }
      ]
    },
    {
      "cell_type": "code",
      "source": [
        "x_train_k = x_train[:no_sample]\n",
        "y_train_k = y_train[:no_sample]\n",
        "client = Client(smallCNN(), x_train_k, y_train_k)\n",
        "client.local_train(epochs = 3, is_prune = True)\n",
        "client.cnn.evaluate(x_test, y_test)"
      ],
      "metadata": {
        "colab": {
          "base_uri": "https://localhost:8080/"
        },
        "id": "nikIXLJS_NO_",
        "outputId": "62f42ea6-d9f9-4e5f-e359-2cfa16ac0df6"
      },
      "execution_count": null,
      "outputs": [
        {
          "output_type": "stream",
          "name": "stdout",
          "text": [
            "begin_step= 0 end_step= 844\n",
            "Epoch 1/3\n",
            "282/282 [==============================] - 7s 12ms/step - loss: 0.8385 - sparse_categorical_accuracy: 0.7484 - val_loss: 0.3486 - val_sparse_categorical_accuracy: 0.8985\n",
            "Epoch 2/3\n",
            "282/282 [==============================] - 4s 15ms/step - loss: 0.3786 - sparse_categorical_accuracy: 0.8857 - val_loss: 0.2972 - val_sparse_categorical_accuracy: 0.9150\n",
            "Epoch 3/3\n",
            "282/282 [==============================] - 3s 10ms/step - loss: 0.3377 - sparse_categorical_accuracy: 0.8993 - val_loss: 0.2797 - val_sparse_categorical_accuracy: 0.9235\n",
            "313/313 [==============================] - 2s 3ms/step - loss: 0.3094 - sparse_categorical_accuracy: 0.9068\n"
          ]
        },
        {
          "output_type": "execute_result",
          "data": {
            "text/plain": [
              "[0.30936574935913086, 0.9067999720573425]"
            ]
          },
          "metadata": {},
          "execution_count": 105
        }
      ]
    },
    {
      "cell_type": "markdown",
      "source": [
        "## Script for FedPKDG"
      ],
      "metadata": {
        "id": "R7gwXdOu4HjU"
      }
    },
    {
      "cell_type": "code",
      "source": [
        "#initiate 3 clients\n",
        "no_sample = len(x_train) // 3\n",
        "client_list = []\n",
        "for i in range(3):\n",
        "  #partition dataset to mimic private data\n",
        "  x_train_k = x_train[no_sample*i:no_sample*(i+1)]\n",
        "  y_train_k = y_train[no_sample*i:no_sample*(i+1)]\n",
        "  client_list.append(Client(smallCNN(), x_train_k, y_train_k))\n",
        "\n",
        "#initiate 1 server\n",
        "Server = Server(smallCNN(), client_list, comm_freq = 2, algo='FedPKDG')\n",
        "\n",
        "total_rounds = 3\n",
        "for round in range(total_rounds):\n",
        "  target_sparsity = 0.5*(round/total_rounds)\n",
        "  alpha = 0.9*(1-round/total_rounds)\n",
        "  Server.broadcast()\n",
        "  print('>>>>>>>>>Broadcasted weights to all clients')\n",
        "  if round == 0:\n",
        "    Server.local_training(gen_epochs=10,target_sparsity = target_sparsity)\n",
        "    print('>>>>>>>>>trained all clients cnn round', _)\n",
        "    Server.agg_gen()\n",
        "    print('>>>>>>>>>Weighted aggregated client generator')\n",
        "    Server.produce_pseudo_dataset(total_num = 2000)\n",
        "  else:\n",
        "    Server.local_training()\n",
        "    print('>>>>>>>>>trained all clients cnn round', _)\n",
        "    Server.agg_gen()\n",
        "    print('>>>>>>>>>Weighted aggregated client generator')\n",
        "    Server.produce_pseudo_dataset()\n",
        "    print('>>>>>>>>>produced pseudo data')\n",
        "\n",
        "  Server.distill_to_global()\n",
        "  print('>>>>>>>>>Knowledge distilled from clients and updated global weights')\n",
        "\n",
        "Server.broadcast()\n",
        "print('>>>>>>>>>Broadcasted weights to all clients')\n",
        "Server.local_training()\n",
        "print('>>>>>>>>>trained all clients cnn final round')\n",
        "for client in client_list:\n",
        "  print('local models evaluation')\n",
        "  client.cnn.evaluate(x_test, y_test)\n",
        "print('global model evaluation')\n",
        "Server.cnn.evaluate(x_test, y_test)"
      ],
      "metadata": {
        "colab": {
          "base_uri": "https://localhost:8080/"
        },
        "id": "q3SZD-W34F8y",
        "outputId": "211b5dfc-f359-42a0-9590-2a2e5918c277"
      },
      "execution_count": null,
      "outputs": [
        {
          "output_type": "stream",
          "name": "stdout",
          "text": [
            ">>>>>>>>>Broadcasted weights to all clients\n",
            "training client 0 's CNN\n",
            "from gloabl - before pruning client has sparsity 0.0056595559425337396\n",
            "begin_step= 0 end_step= 563\n",
            "Epoch 1/2\n",
            "282/282 [==============================] - 5s 7ms/step - loss: 0.8455 - sparse_categorical_accuracy: 0.7486 - val_loss: 0.3442 - val_sparse_categorical_accuracy: 0.8985\n",
            "Epoch 2/2\n",
            "282/282 [==============================] - 2s 5ms/step - loss: 0.3719 - sparse_categorical_accuracy: 0.8879 - val_loss: 0.3011 - val_sparse_categorical_accuracy: 0.9135\n",
            "after pruning client has sparsity 0.0\n",
            "training client 0 's GEN\n",
            "Epoch 1/10\n",
            "\u001b[1m313/313\u001b[0m \u001b[32m━━━━━━━━━━━━━━━━━━━━\u001b[0m\u001b[37m\u001b[0m \u001b[1m19s\u001b[0m 38ms/step - d_loss: 0.4390 - g_loss: 1.4507\n",
            "Epoch 2/10\n",
            "\u001b[1m313/313\u001b[0m \u001b[32m━━━━━━━━━━━━━━━━━━━━\u001b[0m\u001b[37m\u001b[0m \u001b[1m12s\u001b[0m 25ms/step - d_loss: 0.3727 - g_loss: 1.4628\n",
            "Epoch 3/10\n",
            "\u001b[1m313/313\u001b[0m \u001b[32m━━━━━━━━━━━━━━━━━━━━\u001b[0m\u001b[37m\u001b[0m \u001b[1m8s\u001b[0m 25ms/step - d_loss: 0.5172 - g_loss: 1.2452\n",
            "Epoch 4/10\n",
            "\u001b[1m313/313\u001b[0m \u001b[32m━━━━━━━━━━━━━━━━━━━━\u001b[0m\u001b[37m\u001b[0m \u001b[1m10s\u001b[0m 25ms/step - d_loss: 0.5640 - g_loss: 1.1373\n",
            "Epoch 5/10\n",
            "\u001b[1m313/313\u001b[0m \u001b[32m━━━━━━━━━━━━━━━━━━━━\u001b[0m\u001b[37m\u001b[0m \u001b[1m8s\u001b[0m 25ms/step - d_loss: 0.5206 - g_loss: 1.2646\n",
            "Epoch 6/10\n",
            "\u001b[1m313/313\u001b[0m \u001b[32m━━━━━━━━━━━━━━━━━━━━\u001b[0m\u001b[37m\u001b[0m \u001b[1m10s\u001b[0m 24ms/step - d_loss: 0.4366 - g_loss: 1.4711\n",
            "Epoch 7/10\n",
            "\u001b[1m313/313\u001b[0m \u001b[32m━━━━━━━━━━━━━━━━━━━━\u001b[0m\u001b[37m\u001b[0m \u001b[1m8s\u001b[0m 24ms/step - d_loss: 0.4206 - g_loss: 1.4833\n",
            "Epoch 8/10\n",
            "\u001b[1m313/313\u001b[0m \u001b[32m━━━━━━━━━━━━━━━━━━━━\u001b[0m\u001b[37m\u001b[0m \u001b[1m10s\u001b[0m 24ms/step - d_loss: 0.4409 - g_loss: 1.4470\n",
            "Epoch 9/10\n",
            "\u001b[1m313/313\u001b[0m \u001b[32m━━━━━━━━━━━━━━━━━━━━\u001b[0m\u001b[37m\u001b[0m \u001b[1m10s\u001b[0m 24ms/step - d_loss: 0.3189 - g_loss: 2.0744\n",
            "Epoch 10/10\n",
            "\u001b[1m313/313\u001b[0m \u001b[32m━━━━━━━━━━━━━━━━━━━━\u001b[0m\u001b[37m\u001b[0m \u001b[1m10s\u001b[0m 24ms/step - d_loss: 0.3403 - g_loss: 1.7905\n",
            "training client 1 's CNN\n",
            "from gloabl - before pruning client has sparsity 0.0056595559425337396\n",
            "begin_step= 0 end_step= 563\n",
            "Epoch 1/2\n",
            "282/282 [==============================] - 5s 7ms/step - loss: 0.8433 - sparse_categorical_accuracy: 0.7403 - val_loss: 0.4039 - val_sparse_categorical_accuracy: 0.8780\n",
            "Epoch 2/2\n",
            "282/282 [==============================] - 1s 5ms/step - loss: 0.3756 - sparse_categorical_accuracy: 0.8878 - val_loss: 0.3629 - val_sparse_categorical_accuracy: 0.8965\n",
            "after pruning client has sparsity 0.0\n",
            "training client 1 's GEN\n",
            "Epoch 1/10\n",
            "\u001b[1m313/313\u001b[0m \u001b[32m━━━━━━━━━━━━━━━━━━━━\u001b[0m\u001b[37m\u001b[0m \u001b[1m18s\u001b[0m 38ms/step - d_loss: 0.4372 - g_loss: 1.4580\n",
            "Epoch 2/10\n",
            "\u001b[1m313/313\u001b[0m \u001b[32m━━━━━━━━━━━━━━━━━━━━\u001b[0m\u001b[37m\u001b[0m \u001b[1m8s\u001b[0m 24ms/step - d_loss: 0.3986 - g_loss: 1.4277\n",
            "Epoch 3/10\n",
            "\u001b[1m313/313\u001b[0m \u001b[32m━━━━━━━━━━━━━━━━━━━━\u001b[0m\u001b[37m\u001b[0m \u001b[1m8s\u001b[0m 25ms/step - d_loss: 0.4495 - g_loss: 1.3794\n",
            "Epoch 4/10\n",
            "\u001b[1m313/313\u001b[0m \u001b[32m━━━━━━━━━━━━━━━━━━━━\u001b[0m\u001b[37m\u001b[0m \u001b[1m8s\u001b[0m 25ms/step - d_loss: 0.5170 - g_loss: 1.2657\n",
            "Epoch 5/10\n",
            "\u001b[1m313/313\u001b[0m \u001b[32m━━━━━━━━━━━━━━━━━━━━\u001b[0m\u001b[37m\u001b[0m \u001b[1m8s\u001b[0m 24ms/step - d_loss: 0.5179 - g_loss: 1.2836\n",
            "Epoch 6/10\n",
            "\u001b[1m313/313\u001b[0m \u001b[32m━━━━━━━━━━━━━━━━━━━━\u001b[0m\u001b[37m\u001b[0m \u001b[1m10s\u001b[0m 24ms/step - d_loss: 0.4494 - g_loss: 1.3755\n",
            "Epoch 7/10\n",
            "\u001b[1m313/313\u001b[0m \u001b[32m━━━━━━━━━━━━━━━━━━━━\u001b[0m\u001b[37m\u001b[0m \u001b[1m10s\u001b[0m 24ms/step - d_loss: 0.4752 - g_loss: 1.3737\n",
            "Epoch 8/10\n",
            "\u001b[1m313/313\u001b[0m \u001b[32m━━━━━━━━━━━━━━━━━━━━\u001b[0m\u001b[37m\u001b[0m \u001b[1m10s\u001b[0m 24ms/step - d_loss: 0.3927 - g_loss: 1.5437\n",
            "Epoch 9/10\n",
            "\u001b[1m313/313\u001b[0m \u001b[32m━━━━━━━━━━━━━━━━━━━━\u001b[0m\u001b[37m\u001b[0m \u001b[1m8s\u001b[0m 24ms/step - d_loss: 0.3726 - g_loss: 1.5940\n",
            "Epoch 10/10\n",
            "\u001b[1m313/313\u001b[0m \u001b[32m━━━━━━━━━━━━━━━━━━━━\u001b[0m\u001b[37m\u001b[0m \u001b[1m7s\u001b[0m 24ms/step - d_loss: 0.3272 - g_loss: 1.8756\n",
            "training client 2 's CNN\n",
            "from gloabl - before pruning client has sparsity 0.0056595559425337396\n",
            "begin_step= 0 end_step= 563\n",
            "Epoch 1/2\n",
            "282/282 [==============================] - 5s 8ms/step - loss: 0.8349 - sparse_categorical_accuracy: 0.7488 - val_loss: 0.2791 - val_sparse_categorical_accuracy: 0.9195\n",
            "Epoch 2/2\n",
            "282/282 [==============================] - 2s 8ms/step - loss: 0.3757 - sparse_categorical_accuracy: 0.8878 - val_loss: 0.2304 - val_sparse_categorical_accuracy: 0.9370\n",
            "after pruning client has sparsity 0.0\n",
            "training client 2 's GEN\n",
            "Epoch 1/10\n",
            "\u001b[1m313/313\u001b[0m \u001b[32m━━━━━━━━━━━━━━━━━━━━\u001b[0m\u001b[37m\u001b[0m \u001b[1m17s\u001b[0m 36ms/step - d_loss: 0.5230 - g_loss: 1.2250\n",
            "Epoch 2/10\n",
            "\u001b[1m313/313\u001b[0m \u001b[32m━━━━━━━━━━━━━━━━━━━━\u001b[0m\u001b[37m\u001b[0m \u001b[1m8s\u001b[0m 25ms/step - d_loss: 0.4075 - g_loss: 1.3094\n",
            "Epoch 3/10\n",
            "\u001b[1m313/313\u001b[0m \u001b[32m━━━━━━━━━━━━━━━━━━━━\u001b[0m\u001b[37m\u001b[0m \u001b[1m8s\u001b[0m 24ms/step - d_loss: 0.4868 - g_loss: 1.2727\n",
            "Epoch 4/10\n",
            "\u001b[1m313/313\u001b[0m \u001b[32m━━━━━━━━━━━━━━━━━━━━\u001b[0m\u001b[37m\u001b[0m \u001b[1m10s\u001b[0m 25ms/step - d_loss: 0.5023 - g_loss: 1.3208\n",
            "Epoch 5/10\n",
            "\u001b[1m313/313\u001b[0m \u001b[32m━━━━━━━━━━━━━━━━━━━━\u001b[0m\u001b[37m\u001b[0m \u001b[1m8s\u001b[0m 25ms/step - d_loss: 0.4731 - g_loss: 1.3848\n",
            "Epoch 6/10\n",
            "\u001b[1m313/313\u001b[0m \u001b[32m━━━━━━━━━━━━━━━━━━━━\u001b[0m\u001b[37m\u001b[0m \u001b[1m8s\u001b[0m 24ms/step - d_loss: 0.4744 - g_loss: 1.3953\n",
            "Epoch 7/10\n",
            "\u001b[1m313/313\u001b[0m \u001b[32m━━━━━━━━━━━━━━━━━━━━\u001b[0m\u001b[37m\u001b[0m \u001b[1m8s\u001b[0m 24ms/step - d_loss: 0.4691 - g_loss: 1.3807\n",
            "Epoch 8/10\n",
            "\u001b[1m313/313\u001b[0m \u001b[32m━━━━━━━━━━━━━━━━━━━━\u001b[0m\u001b[37m\u001b[0m \u001b[1m10s\u001b[0m 24ms/step - d_loss: 0.3760 - g_loss: 1.6723\n",
            "Epoch 9/10\n",
            "\u001b[1m313/313\u001b[0m \u001b[32m━━━━━━━━━━━━━━━━━━━━\u001b[0m\u001b[37m\u001b[0m \u001b[1m7s\u001b[0m 24ms/step - d_loss: 0.3589 - g_loss: 1.7458\n",
            "Epoch 10/10\n",
            "\u001b[1m313/313\u001b[0m \u001b[32m━━━━━━━━━━━━━━━━━━━━\u001b[0m\u001b[37m\u001b[0m \u001b[1m10s\u001b[0m 24ms/step - d_loss: 0.2721 - g_loss: 1.9389\n",
            ">>>>>>>>>trained all clients cnn round 0\n",
            "----getting weighted avg of clients' gen\n",
            ">>>>>>>>>Weighted aggregated client generator\n",
            "Generating 200 fake images of digit 0 ......\n",
            "Generating 200 fake images of digit 1 ......\n",
            "Generating 200 fake images of digit 2 ......\n",
            "Generating 200 fake images of digit 3 ......\n",
            "Generating 200 fake images of digit 4 ......\n",
            "Generating 200 fake images of digit 5 ......\n",
            "Generating 200 fake images of digit 6 ......\n",
            "Generating 200 fake images of digit 7 ......\n",
            "Generating 200 fake images of digit 8 ......\n",
            "Generating 200 fake images of digit 9 ......\n",
            "----getting weighted avg of clients' classifier\n",
            "Epoch 1/3\n",
            "----getting 1 client logits\n",
            "----getting 1 client logits\n",
            "----getting 1 client logits\n",
            "----getting aggregate client logits Tensor(\"add_1:0\", shape=(None, 10), dtype=float32)\n",
            "----getting 1 client logits\n",
            "----getting 1 client logits\n",
            "----getting 1 client logits\n",
            "----getting aggregate client logits Tensor(\"add_1:0\", shape=(None, 10), dtype=float32)\n",
            "57/57 [==============================] - 3s 11ms/step - sparse_categorical_accuracy: 0.4756 - task_loss: 1.6885 - distillation_loss: 0.3271 - total_loss: 2.1907 - val_sparse_categorical_accuracy: 0.1800\n",
            "Epoch 2/3\n",
            "57/57 [==============================] - 0s 6ms/step - sparse_categorical_accuracy: 0.5506 - task_loss: 1.5625 - distillation_loss: 0.0760 - total_loss: 1.2112 - val_sparse_categorical_accuracy: 0.2000\n",
            "Epoch 3/3\n",
            "57/57 [==============================] - 0s 5ms/step - sparse_categorical_accuracy: 0.5783 - task_loss: 1.4642 - distillation_loss: 0.0361 - total_loss: 1.0085 - val_sparse_categorical_accuracy: 0.1950\n",
            "should print not trainable: False\n",
            "should print trainable: True\n",
            ">>>>>>>>>Knowledge distilled from clients and updated global weights\n",
            ">>>>>>>>>Broadcasted weights to all clients\n",
            "training client 0 's CNN\n",
            "from gloabl - before pruning client has sparsity 0.0\n",
            "begin_step= 0 end_step= 563\n",
            "Epoch 1/2\n",
            "282/282 [==============================] - 5s 7ms/step - loss: 0.3595 - sparse_categorical_accuracy: 0.8935 - val_loss: 0.2927 - val_sparse_categorical_accuracy: 0.9175\n",
            "Epoch 2/2\n",
            "282/282 [==============================] - 2s 8ms/step - loss: 0.3292 - sparse_categorical_accuracy: 0.9016 - val_loss: 0.2831 - val_sparse_categorical_accuracy: 0.9190\n",
            "after pruning client has sparsity 0.29799738789725727\n",
            "training client 0 's GEN\n",
            "Epoch 1/2\n",
            "\u001b[1m313/313\u001b[0m \u001b[32m━━━━━━━━━━━━━━━━━━━━\u001b[0m\u001b[37m\u001b[0m \u001b[1m17s\u001b[0m 36ms/step - d_loss: 0.5827 - g_loss: 1.2034\n",
            "Epoch 2/2\n",
            "\u001b[1m313/313\u001b[0m \u001b[32m━━━━━━━━━━━━━━━━━━━━\u001b[0m\u001b[37m\u001b[0m \u001b[1m8s\u001b[0m 24ms/step - d_loss: 0.6493 - g_loss: 0.9160\n",
            "training client 1 's CNN\n",
            "from gloabl - before pruning client has sparsity 0.0\n",
            "begin_step= 0 end_step= 563\n",
            "Epoch 1/2\n",
            "282/282 [==============================] - 5s 7ms/step - loss: 0.3625 - sparse_categorical_accuracy: 0.8909 - val_loss: 0.3439 - val_sparse_categorical_accuracy: 0.8955\n",
            "Epoch 2/2\n",
            "282/282 [==============================] - 2s 5ms/step - loss: 0.3332 - sparse_categorical_accuracy: 0.9007 - val_loss: 0.3278 - val_sparse_categorical_accuracy: 0.9025\n",
            "after pruning client has sparsity 0.29799738789725727\n",
            "training client 1 's GEN\n",
            "Epoch 1/2\n",
            "\u001b[1m313/313\u001b[0m \u001b[32m━━━━━━━━━━━━━━━━━━━━\u001b[0m\u001b[37m\u001b[0m \u001b[1m19s\u001b[0m 39ms/step - d_loss: 0.5852 - g_loss: 1.2368\n",
            "Epoch 2/2\n",
            "\u001b[1m313/313\u001b[0m \u001b[32m━━━━━━━━━━━━━━━━━━━━\u001b[0m\u001b[37m\u001b[0m \u001b[1m8s\u001b[0m 25ms/step - d_loss: 0.6701 - g_loss: 0.9061\n",
            "training client 2 's CNN\n",
            "from gloabl - before pruning client has sparsity 0.0\n",
            "begin_step= 0 end_step= 563\n",
            "Epoch 1/2\n",
            "282/282 [==============================] - 6s 7ms/step - loss: 0.3604 - sparse_categorical_accuracy: 0.8907 - val_loss: 0.2457 - val_sparse_categorical_accuracy: 0.9280\n",
            "Epoch 2/2\n",
            "282/282 [==============================] - 1s 5ms/step - loss: 0.3317 - sparse_categorical_accuracy: 0.8993 - val_loss: 0.2159 - val_sparse_categorical_accuracy: 0.9445\n",
            "after pruning client has sparsity 0.29799738789725727\n",
            "training client 2 's GEN\n",
            "Epoch 1/2\n",
            "\u001b[1m313/313\u001b[0m \u001b[32m━━━━━━━━━━━━━━━━━━━━\u001b[0m\u001b[37m\u001b[0m \u001b[1m19s\u001b[0m 38ms/step - d_loss: 0.5082 - g_loss: 1.7238\n",
            "Epoch 2/2\n",
            "\u001b[1m313/313\u001b[0m \u001b[32m━━━━━━━━━━━━━━━━━━━━\u001b[0m\u001b[37m\u001b[0m \u001b[1m12s\u001b[0m 25ms/step - d_loss: 0.6255 - g_loss: 1.0012\n",
            ">>>>>>>>>trained all clients cnn round 0\n",
            "----getting weighted avg of clients' gen\n",
            ">>>>>>>>>Weighted aggregated client generator\n",
            "Generating 32 fake images of digit 0 ......\n",
            "Generating 32 fake images of digit 1 ......\n",
            "Generating 32 fake images of digit 2 ......\n",
            "Generating 32 fake images of digit 3 ......\n",
            "Generating 32 fake images of digit 4 ......\n",
            "Generating 32 fake images of digit 5 ......\n",
            "Generating 32 fake images of digit 6 ......\n",
            "Generating 32 fake images of digit 7 ......\n",
            "Generating 32 fake images of digit 8 ......\n",
            "Generating 32 fake images of digit 9 ......\n",
            ">>>>>>>>>produced pseudo data\n",
            "----getting weighted avg of clients' classifier\n",
            "Epoch 1/3\n",
            "----getting 1 client logits\n",
            "----getting 1 client logits\n",
            "----getting 1 client logits\n",
            "----getting aggregate client logits Tensor(\"add_1:0\", shape=(None, 10), dtype=float32)\n",
            "----getting 1 client logits\n",
            "----getting 1 client logits\n",
            "----getting 1 client logits\n",
            "----getting aggregate client logits Tensor(\"add_1:0\", shape=(None, 10), dtype=float32)\n",
            "66/66 [==============================] - 4s 10ms/step - sparse_categorical_accuracy: 0.5536 - task_loss: 1.4903 - distillation_loss: 0.0327 - total_loss: 1.0117 - val_sparse_categorical_accuracy: 0.8190\n",
            "Epoch 2/3\n",
            "66/66 [==============================] - 0s 5ms/step - sparse_categorical_accuracy: 0.5642 - task_loss: 1.4654 - distillation_loss: 0.0301 - total_loss: 0.9875 - val_sparse_categorical_accuracy: 0.8190\n",
            "Epoch 3/3\n",
            "66/66 [==============================] - 0s 5ms/step - sparse_categorical_accuracy: 0.5771 - task_loss: 1.3683 - distillation_loss: 0.0324 - total_loss: 0.9375 - val_sparse_categorical_accuracy: 0.8233\n",
            "should print not trainable: False\n",
            "should print trainable: True\n",
            ">>>>>>>>>Knowledge distilled from clients and updated global weights\n",
            ">>>>>>>>>Broadcasted weights to all clients\n",
            "training client 0 's CNN\n",
            "from gloabl - before pruning client has sparsity 0.21462777535916414\n",
            "begin_step= 0 end_step= 563\n",
            "Epoch 1/2\n",
            "282/282 [==============================] - 5s 7ms/step - loss: 0.3350 - sparse_categorical_accuracy: 0.8982 - val_loss: 0.2728 - val_sparse_categorical_accuracy: 0.9230\n",
            "Epoch 2/2\n",
            "282/282 [==============================] - 2s 6ms/step - loss: 0.3137 - sparse_categorical_accuracy: 0.9068 - val_loss: 0.2597 - val_sparse_categorical_accuracy: 0.9245\n",
            "after pruning client has sparsity 0.29799738789725727\n",
            "training client 0 's GEN\n",
            "Epoch 1/2\n",
            "\u001b[1m313/313\u001b[0m \u001b[32m━━━━━━━━━━━━━━━━━━━━\u001b[0m\u001b[37m\u001b[0m \u001b[1m17s\u001b[0m 36ms/step - d_loss: 0.6764 - g_loss: 0.8709\n",
            "Epoch 2/2\n",
            "\u001b[1m313/313\u001b[0m \u001b[32m━━━━━━━━━━━━━━━━━━━━\u001b[0m\u001b[37m\u001b[0m \u001b[1m8s\u001b[0m 25ms/step - d_loss: 0.6214 - g_loss: 0.9747\n",
            "Epoch 1/2\n",
            "282/282 [==============================] - 5s 7ms/step - loss: 0.3335 - sparse_categorical_accuracy: 0.9017 - val_loss: 0.3158 - val_sparse_categorical_accuracy: 0.9055\n",
            "Epoch 2/2\n",
            "282/282 [==============================] - 1s 5ms/step - loss: 0.3123 - sparse_categorical_accuracy: 0.9087 - val_loss: 0.3198 - val_sparse_categorical_accuracy: 0.9035\n",
            "after pruning client has sparsity 0.29799738789725727\n",
            "training client 1 's GEN\n",
            "Epoch 1/2\n",
            "\u001b[1m313/313\u001b[0m \u001b[32m━━━━━━━━━━━━━━━━━━━━\u001b[0m\u001b[37m\u001b[0m \u001b[1m18s\u001b[0m 36ms/step - d_loss: 0.6975 - g_loss: 0.8660\n",
            "Epoch 2/2\n",
            "\u001b[1m313/313\u001b[0m \u001b[32m━━━━━━━━━━━━━━━━━━━━\u001b[0m\u001b[37m\u001b[0m \u001b[1m8s\u001b[0m 25ms/step - d_loss: 0.5642 - g_loss: 1.0905\n",
            "training client 2 's CNN\n",
            "from gloabl - before pruning client has sparsity 0.21462777535916414\n",
            "begin_step= 0 end_step= 563\n",
            "Epoch 1/2\n",
            "282/282 [==============================] - 5s 7ms/step - loss: 0.3325 - sparse_categorical_accuracy: 0.8972 - val_loss: 0.2119 - val_sparse_categorical_accuracy: 0.9460\n",
            "Epoch 2/2\n",
            "282/282 [==============================] - 2s 6ms/step - loss: 0.3121 - sparse_categorical_accuracy: 0.9056 - val_loss: 0.2165 - val_sparse_categorical_accuracy: 0.9370\n",
            "after pruning client has sparsity 0.29799738789725727\n",
            "training client 2 's GEN\n",
            "Epoch 1/2\n",
            "\u001b[1m313/313\u001b[0m \u001b[32m━━━━━━━━━━━━━━━━━━━━\u001b[0m\u001b[37m\u001b[0m \u001b[1m19s\u001b[0m 38ms/step - d_loss: 0.6894 - g_loss: 0.8928\n",
            "Epoch 2/2\n",
            "\u001b[1m313/313\u001b[0m \u001b[32m━━━━━━━━━━━━━━━━━━━━\u001b[0m\u001b[37m\u001b[0m \u001b[1m8s\u001b[0m 24ms/step - d_loss: 0.6661 - g_loss: 0.8846\n",
            ">>>>>>>>>trained all clients cnn round 0\n",
            "----getting weighted avg of clients' gen\n",
            ">>>>>>>>>Weighted aggregated client generator\n",
            "Generating 32 fake images of digit 0 ......\n",
            "Generating 32 fake images of digit 1 ......\n",
            "Generating 32 fake images of digit 2 ......\n",
            "Generating 32 fake images of digit 3 ......\n",
            "Generating 32 fake images of digit 4 ......\n",
            "Generating 32 fake images of digit 5 ......\n",
            "Generating 32 fake images of digit 6 ......\n",
            "Generating 32 fake images of digit 7 ......\n",
            "Generating 32 fake images of digit 8 ......\n",
            "Generating 32 fake images of digit 9 ......\n",
            ">>>>>>>>>produced pseudo data\n",
            "----getting weighted avg of clients' classifier\n",
            "Epoch 1/3\n",
            "----getting 1 client logits\n",
            "----getting 1 client logits\n",
            "----getting 1 client logits\n",
            "----getting aggregate client logits Tensor(\"add_1:0\", shape=(None, 10), dtype=float32)\n",
            "----getting 1 client logits\n",
            "----getting 1 client logits\n",
            "----getting 1 client logits\n",
            "----getting aggregate client logits Tensor(\"add_1:0\", shape=(None, 10), dtype=float32)\n",
            "75/75 [==============================] - 3s 9ms/step - sparse_categorical_accuracy: 0.5934 - task_loss: 1.3051 - distillation_loss: 0.0308 - total_loss: 0.8938 - val_sparse_categorical_accuracy: 0.8902\n",
            "Epoch 2/3\n",
            "75/75 [==============================] - 0s 6ms/step - sparse_categorical_accuracy: 0.6073 - task_loss: 1.3028 - distillation_loss: 0.0297 - total_loss: 0.8885 - val_sparse_categorical_accuracy: 0.9091\n",
            "Epoch 3/3\n",
            "75/75 [==============================] - 1s 7ms/step - sparse_categorical_accuracy: 0.6120 - task_loss: 1.2663 - distillation_loss: 0.0309 - total_loss: 0.8710 - val_sparse_categorical_accuracy: 0.9091\n",
            "should print not trainable: False\n",
            "should print trainable: True\n",
            ">>>>>>>>>Knowledge distilled from clients and updated global weights\n",
            ">>>>>>>>>Broadcasted weights to all clients\n",
            "training client 0 's CNN\n",
            "from gloabl - before pruning client has sparsity 0.2218110579016108\n",
            "begin_step= 0 end_step= 563\n",
            "Epoch 1/2\n",
            "282/282 [==============================] - 6s 7ms/step - loss: 0.3176 - sparse_categorical_accuracy: 0.9063 - val_loss: 0.2605 - val_sparse_categorical_accuracy: 0.9210\n",
            "Epoch 2/2\n",
            "282/282 [==============================] - 2s 6ms/step - loss: 0.2979 - sparse_categorical_accuracy: 0.9133 - val_loss: 0.2526 - val_sparse_categorical_accuracy: 0.9270\n",
            "after pruning client has sparsity 0.29799738789725727\n",
            "training client 0 's GEN\n",
            "Epoch 1/2\n",
            "\u001b[1m313/313\u001b[0m \u001b[32m━━━━━━━━━━━━━━━━━━━━\u001b[0m\u001b[37m\u001b[0m \u001b[1m21s\u001b[0m 38ms/step - d_loss: 0.6457 - g_loss: 0.8891\n",
            "Epoch 2/2\n",
            "\u001b[1m313/313\u001b[0m \u001b[32m━━━━━━━━━━━━━━━━━━━━\u001b[0m\u001b[37m\u001b[0m \u001b[1m8s\u001b[0m 25ms/step - d_loss: 0.6243 - g_loss: 0.9664\n",
            "training client 1 's CNN\n",
            "from gloabl - before pruning client has sparsity 0.2218110579016108\n",
            "begin_step= 0 end_step= 563\n",
            "Epoch 1/2\n",
            "282/282 [==============================] - 6s 7ms/step - loss: 0.3202 - sparse_categorical_accuracy: 0.9059 - val_loss: 0.3059 - val_sparse_categorical_accuracy: 0.9065\n",
            "Epoch 2/2\n",
            "282/282 [==============================] - 2s 7ms/step - loss: 0.3014 - sparse_categorical_accuracy: 0.9109 - val_loss: 0.2967 - val_sparse_categorical_accuracy: 0.9070\n",
            "after pruning client has sparsity 0.29799738789725727\n",
            "training client 1 's GEN\n",
            "Epoch 1/2\n",
            "\u001b[1m 33/313\u001b[0m \u001b[32m━━\u001b[0m\u001b[37m━━━━━━━━━━━━━━━━━━\u001b[0m \u001b[1m7s\u001b[0m 27ms/step - d_loss: 0.7274 - g_loss: 0.8622"
          ]
        }
      ]
    },
    {
      "cell_type": "markdown",
      "source": [
        "# Experiments"
      ],
      "metadata": {
        "id": "my58ZMvu-l3U"
      }
    },
    {
      "cell_type": "markdown",
      "source": [
        "## communication rounds"
      ],
      "metadata": {
        "id": "FLINY9_0aSJx"
      }
    },
    {
      "cell_type": "markdown",
      "source": [
        "1. aggregate only after convergence"
      ],
      "metadata": {
        "id": "s-aTo-yqDfA1"
      }
    },
    {
      "cell_type": "code",
      "source": [
        "#initiate 3 clients\n",
        "no_sample = len(x_train) // 3\n",
        "client_list = []\n",
        "for i in range(3):\n",
        "  #partition dataset to mimic private data\n",
        "  x_train_k = x_train[no_sample*i:no_sample*(i+1)]\n",
        "  y_train_k = y_train[no_sample*i:no_sample*(i+1)]\n",
        "  client_list.append(Client(smallCNN(), x_train_k, y_train_k))\n",
        "\n",
        "#initiate 1 server\n",
        "Server = Server(smallCNN(), client_list, comm_freq = 5, algo='FedPKDG')\n",
        "\n",
        "total_rounds = 3\n",
        "for round in range(total_rounds):\n",
        "  target_sparsity = 0.5*(round/total_rounds)\n",
        "  alpha = 0.9*(1-round/total_rounds)\n",
        "  Server.broadcast()\n",
        "  print('>>>>>>>>>Broadcasted weights to all clients')\n",
        "  if round == 0:\n",
        "    Server.local_training(cnn_epochs = 10, gen_epochs=20, target_sparsity = target_sparsity, fine_tune_epochs=3)\n",
        "    print('>>>>>>>>>trained all clients cnn round', _)\n",
        "    Server.agg_gen()\n",
        "    print('>>>>>>>>>Weighted aggregated client generator')\n",
        "    Server.produce_pseudo_dataset(total_num = 2000)\n",
        "  else:\n",
        "    Server.local_training(target_sparsity = target_sparsity, fine_tune_epochs=1)\n",
        "    print('>>>>>>>>>trained all clients cnn round', _)\n",
        "    Server.agg_gen()\n",
        "    print('>>>>>>>>>Weighted aggregated client generator')\n",
        "    Server.produce_pseudo_dataset()\n",
        "    print('>>>>>>>>>produced pseudo data')\n",
        "\n",
        "  Server.distill_to_global()\n",
        "  print('>>>>>>>>>Knowledge distilled from clients and updated global weights')\n",
        "\n",
        "Server.broadcast()\n",
        "print('>>>>>>>>>Broadcasted weights to all clients')\n",
        "Server.local_training()\n",
        "print('>>>>>>>>>trained all clients cnn final round')\n",
        "for client in client_list:\n",
        "  print('local models evaluation')\n",
        "  client.cnn.evaluate(x_test, y_test)\n",
        "print('global model evaluation')\n",
        "Server.cnn.evaluate(x_test, y_test)"
      ],
      "metadata": {
        "colab": {
          "base_uri": "https://localhost:8080/"
        },
        "id": "AgsmScgfaWqp",
        "outputId": "7a45ccb9-9d95-4720-b693-13932272172b"
      },
      "execution_count": 16,
      "outputs": [
        {
          "output_type": "stream",
          "name": "stdout",
          "text": [
            ">>>>>>>>>Broadcasted weights to all clients\n",
            "training client 0 's CNN\n",
            "from gloabl - before pruning client has sparsity 0.0056595559425337396\n",
            "begin_step= 843 end_step= 2811\n",
            "Epoch 1/10\n",
            "282/282 [==============================] - 36s 11ms/step - loss: 0.7789 - sparse_categorical_accuracy: 0.7646 - val_loss: 0.3392 - val_sparse_categorical_accuracy: 0.9070\n",
            "Epoch 2/10\n",
            "282/282 [==============================] - 2s 5ms/step - loss: 0.3341 - sparse_categorical_accuracy: 0.8999 - val_loss: 0.2573 - val_sparse_categorical_accuracy: 0.9240\n",
            "Epoch 3/10\n",
            "282/282 [==============================] - 2s 9ms/step - loss: 0.2639 - sparse_categorical_accuracy: 0.9198 - val_loss: 0.2100 - val_sparse_categorical_accuracy: 0.9400\n",
            "Epoch 4/10\n",
            "282/282 [==============================] - 1s 5ms/step - loss: 0.2174 - sparse_categorical_accuracy: 0.9357 - val_loss: 0.1741 - val_sparse_categorical_accuracy: 0.9485\n",
            "Epoch 5/10\n",
            "282/282 [==============================] - 1s 5ms/step - loss: 0.1893 - sparse_categorical_accuracy: 0.9433 - val_loss: 0.1610 - val_sparse_categorical_accuracy: 0.9510\n",
            "Epoch 6/10\n",
            "282/282 [==============================] - 1s 5ms/step - loss: 0.1661 - sparse_categorical_accuracy: 0.9509 - val_loss: 0.1410 - val_sparse_categorical_accuracy: 0.9575\n",
            "Epoch 7/10\n",
            "282/282 [==============================] - 2s 7ms/step - loss: 0.1494 - sparse_categorical_accuracy: 0.9556 - val_loss: 0.1342 - val_sparse_categorical_accuracy: 0.9585\n",
            "Epoch 8/10\n",
            "282/282 [==============================] - 2s 7ms/step - loss: 0.1344 - sparse_categorical_accuracy: 0.9593 - val_loss: 0.1241 - val_sparse_categorical_accuracy: 0.9605\n",
            "Epoch 9/10\n",
            "282/282 [==============================] - 1s 5ms/step - loss: 0.1219 - sparse_categorical_accuracy: 0.9632 - val_loss: 0.1172 - val_sparse_categorical_accuracy: 0.9685\n",
            "Epoch 10/10\n",
            "282/282 [==============================] - 1s 5ms/step - loss: 0.1130 - sparse_categorical_accuracy: 0.9671 - val_loss: 0.1075 - val_sparse_categorical_accuracy: 0.9690\n",
            "after pruning client has sparsity 0.0\n",
            "training client 0 's GEN\n",
            "Epoch 1/20\n",
            "\u001b[1m313/313\u001b[0m \u001b[32m━━━━━━━━━━━━━━━━━━━━\u001b[0m\u001b[37m\u001b[0m \u001b[1m0s\u001b[0m 41ms/step - d_loss: 0.4812 - g_loss: 1.4132"
          ]
        },
        {
          "output_type": "stream",
          "name": "stderr",
          "text": [
            "WARNING:tensorflow:Early stopping conditioned on metric `loss` which is not available. Available metrics are: d_loss,g_loss\n"
          ]
        },
        {
          "output_type": "stream",
          "name": "stdout",
          "text": [
            "\b\b\b\b\b\b\b\b\b\b\b\b\b\b\b\b\b\b\b\b\b\b\b\b\b\b\b\b\b\b\b\b\b\b\b\b\b\b\b\b\b\b\b\b\b\b\b\b\b\b\b\b\b\b\b\b\b\b\b\b\b\b\b\b\b\b\b\b\b\b\b\b\b\b\b\r\u001b[1m313/313\u001b[0m \u001b[32m━━━━━━━━━━━━━━━━━━━━\u001b[0m\u001b[37m\u001b[0m \u001b[1m24s\u001b[0m 41ms/step - d_loss: 0.4811 - g_loss: 1.4137\n",
            "Epoch 2/20\n",
            "\u001b[1m313/313\u001b[0m \u001b[32m━━━━━━━━━━━━━━━━━━━━\u001b[0m\u001b[37m\u001b[0m \u001b[1m0s\u001b[0m 22ms/step - d_loss: 0.3996 - g_loss: 1.3748"
          ]
        },
        {
          "output_type": "stream",
          "name": "stderr",
          "text": [
            "WARNING:tensorflow:Early stopping conditioned on metric `loss` which is not available. Available metrics are: d_loss,g_loss\n"
          ]
        },
        {
          "output_type": "stream",
          "name": "stdout",
          "text": [
            "\b\b\b\b\b\b\b\b\b\b\b\b\b\b\b\b\b\b\b\b\b\b\b\b\b\b\b\b\b\b\b\b\b\b\b\b\b\b\b\b\b\b\b\b\b\b\b\b\b\b\b\b\b\b\b\b\b\b\b\b\b\b\b\b\b\b\b\b\b\b\b\b\b\b\b\r\u001b[1m313/313\u001b[0m \u001b[32m━━━━━━━━━━━━━━━━━━━━\u001b[0m\u001b[37m\u001b[0m \u001b[1m7s\u001b[0m 22ms/step - d_loss: 0.3995 - g_loss: 1.3752\n",
            "Epoch 3/20\n",
            "\u001b[1m313/313\u001b[0m \u001b[32m━━━━━━━━━━━━━━━━━━━━\u001b[0m\u001b[37m\u001b[0m \u001b[1m0s\u001b[0m 22ms/step - d_loss: 0.4420 - g_loss: 1.3872"
          ]
        },
        {
          "output_type": "stream",
          "name": "stderr",
          "text": [
            "WARNING:tensorflow:Early stopping conditioned on metric `loss` which is not available. Available metrics are: d_loss,g_loss\n"
          ]
        },
        {
          "output_type": "stream",
          "name": "stdout",
          "text": [
            "\b\b\b\b\b\b\b\b\b\b\b\b\b\b\b\b\b\b\b\b\b\b\b\b\b\b\b\b\b\b\b\b\b\b\b\b\b\b\b\b\b\b\b\b\b\b\b\b\b\b\b\b\b\b\b\b\b\b\b\b\b\b\b\b\b\b\b\b\b\b\b\b\b\b\b\r\u001b[1m313/313\u001b[0m \u001b[32m━━━━━━━━━━━━━━━━━━━━\u001b[0m\u001b[37m\u001b[0m \u001b[1m7s\u001b[0m 22ms/step - d_loss: 0.4421 - g_loss: 1.3870\n",
            "Epoch 4/20\n",
            "\u001b[1m312/313\u001b[0m \u001b[32m━━━━━━━━━━━━━━━━━━━\u001b[0m\u001b[37m━\u001b[0m \u001b[1m0s\u001b[0m 22ms/step - d_loss: 0.4617 - g_loss: 1.4091"
          ]
        },
        {
          "output_type": "stream",
          "name": "stderr",
          "text": [
            "WARNING:tensorflow:Early stopping conditioned on metric `loss` which is not available. Available metrics are: d_loss,g_loss\n"
          ]
        },
        {
          "output_type": "stream",
          "name": "stdout",
          "text": [
            "\b\b\b\b\b\b\b\b\b\b\b\b\b\b\b\b\b\b\b\b\b\b\b\b\b\b\b\b\b\b\b\b\b\b\b\b\b\b\b\b\b\b\b\b\b\b\b\b\b\b\b\b\b\b\b\b\b\b\b\b\b\b\b\b\b\b\b\b\b\b\b\b\b\b\b\r\u001b[1m313/313\u001b[0m \u001b[32m━━━━━━━━━━━━━━━━━━━━\u001b[0m\u001b[37m\u001b[0m \u001b[1m7s\u001b[0m 22ms/step - d_loss: 0.4618 - g_loss: 1.4089\n",
            "Epoch 5/20\n",
            "\u001b[1m312/313\u001b[0m \u001b[32m━━━━━━━━━━━━━━━━━━━\u001b[0m\u001b[37m━\u001b[0m \u001b[1m0s\u001b[0m 22ms/step - d_loss: 0.5127 - g_loss: 1.3083"
          ]
        },
        {
          "output_type": "stream",
          "name": "stderr",
          "text": [
            "WARNING:tensorflow:Early stopping conditioned on metric `loss` which is not available. Available metrics are: d_loss,g_loss\n"
          ]
        },
        {
          "output_type": "stream",
          "name": "stdout",
          "text": [
            "\b\b\b\b\b\b\b\b\b\b\b\b\b\b\b\b\b\b\b\b\b\b\b\b\b\b\b\b\b\b\b\b\b\b\b\b\b\b\b\b\b\b\b\b\b\b\b\b\b\b\b\b\b\b\b\b\b\b\b\b\b\b\b\b\b\b\b\b\b\b\b\b\b\b\b\r\u001b[1m313/313\u001b[0m \u001b[32m━━━━━━━━━━━━━━━━━━━━\u001b[0m\u001b[37m\u001b[0m \u001b[1m7s\u001b[0m 22ms/step - d_loss: 0.5126 - g_loss: 1.3084\n",
            "Epoch 6/20\n",
            "\u001b[1m312/313\u001b[0m \u001b[32m━━━━━━━━━━━━━━━━━━━\u001b[0m\u001b[37m━\u001b[0m \u001b[1m0s\u001b[0m 23ms/step - d_loss: 0.5387 - g_loss: 1.2607"
          ]
        },
        {
          "output_type": "stream",
          "name": "stderr",
          "text": [
            "WARNING:tensorflow:Early stopping conditioned on metric `loss` which is not available. Available metrics are: d_loss,g_loss\n"
          ]
        },
        {
          "output_type": "stream",
          "name": "stdout",
          "text": [
            "\b\b\b\b\b\b\b\b\b\b\b\b\b\b\b\b\b\b\b\b\b\b\b\b\b\b\b\b\b\b\b\b\b\b\b\b\b\b\b\b\b\b\b\b\b\b\b\b\b\b\b\b\b\b\b\b\b\b\b\b\b\b\b\b\b\b\b\b\b\b\b\b\b\b\b\r\u001b[1m313/313\u001b[0m \u001b[32m━━━━━━━━━━━━━━━━━━━━\u001b[0m\u001b[37m\u001b[0m \u001b[1m10s\u001b[0m 23ms/step - d_loss: 0.5385 - g_loss: 1.2612\n",
            "Epoch 7/20\n",
            "\u001b[1m311/313\u001b[0m \u001b[32m━━━━━━━━━━━━━━━━━━━\u001b[0m\u001b[37m━\u001b[0m \u001b[1m0s\u001b[0m 23ms/step - d_loss: 0.5055 - g_loss: 1.3490"
          ]
        },
        {
          "output_type": "stream",
          "name": "stderr",
          "text": [
            "WARNING:tensorflow:Early stopping conditioned on metric `loss` which is not available. Available metrics are: d_loss,g_loss\n"
          ]
        },
        {
          "output_type": "stream",
          "name": "stdout",
          "text": [
            "\b\b\b\b\b\b\b\b\b\b\b\b\b\b\b\b\b\b\b\b\b\b\b\b\b\b\b\b\b\b\b\b\b\b\b\b\b\b\b\b\b\b\b\b\b\b\b\b\b\b\b\b\b\b\b\b\b\b\b\b\b\b\b\b\b\b\b\b\b\b\b\b\b\b\b\r\u001b[1m313/313\u001b[0m \u001b[32m━━━━━━━━━━━━━━━━━━━━\u001b[0m\u001b[37m\u001b[0m \u001b[1m10s\u001b[0m 23ms/step - d_loss: 0.5053 - g_loss: 1.3485\n",
            "Epoch 8/20\n",
            "\u001b[1m312/313\u001b[0m \u001b[32m━━━━━━━━━━━━━━━━━━━\u001b[0m\u001b[37m━\u001b[0m \u001b[1m0s\u001b[0m 22ms/step - d_loss: 0.4729 - g_loss: 1.3529"
          ]
        },
        {
          "output_type": "stream",
          "name": "stderr",
          "text": [
            "WARNING:tensorflow:Early stopping conditioned on metric `loss` which is not available. Available metrics are: d_loss,g_loss\n"
          ]
        },
        {
          "output_type": "stream",
          "name": "stdout",
          "text": [
            "\b\b\b\b\b\b\b\b\b\b\b\b\b\b\b\b\b\b\b\b\b\b\b\b\b\b\b\b\b\b\b\b\b\b\b\b\b\b\b\b\b\b\b\b\b\b\b\b\b\b\b\b\b\b\b\b\b\b\b\b\b\b\b\b\b\b\b\b\b\b\b\b\b\b\b\r\u001b[1m313/313\u001b[0m \u001b[32m━━━━━━━━━━━━━━━━━━━━\u001b[0m\u001b[37m\u001b[0m \u001b[1m10s\u001b[0m 22ms/step - d_loss: 0.4729 - g_loss: 1.3526\n",
            "Epoch 9/20\n",
            "\u001b[1m312/313\u001b[0m \u001b[32m━━━━━━━━━━━━━━━━━━━\u001b[0m\u001b[37m━\u001b[0m \u001b[1m0s\u001b[0m 22ms/step - d_loss: 0.3955 - g_loss: 1.5037"
          ]
        },
        {
          "output_type": "stream",
          "name": "stderr",
          "text": [
            "WARNING:tensorflow:Early stopping conditioned on metric `loss` which is not available. Available metrics are: d_loss,g_loss\n"
          ]
        },
        {
          "output_type": "stream",
          "name": "stdout",
          "text": [
            "\b\b\b\b\b\b\b\b\b\b\b\b\b\b\b\b\b\b\b\b\b\b\b\b\b\b\b\b\b\b\b\b\b\b\b\b\b\b\b\b\b\b\b\b\b\b\b\b\b\b\b\b\b\b\b\b\b\b\b\b\b\b\b\b\b\b\b\b\b\b\b\b\b\b\b\r\u001b[1m313/313\u001b[0m \u001b[32m━━━━━━━━━━━━━━━━━━━━\u001b[0m\u001b[37m\u001b[0m \u001b[1m10s\u001b[0m 22ms/step - d_loss: 0.3956 - g_loss: 1.5040\n",
            "Epoch 10/20\n",
            "\u001b[1m311/313\u001b[0m \u001b[32m━━━━━━━━━━━━━━━━━━━\u001b[0m\u001b[37m━\u001b[0m \u001b[1m0s\u001b[0m 22ms/step - d_loss: 0.3204 - g_loss: 1.8348"
          ]
        },
        {
          "output_type": "stream",
          "name": "stderr",
          "text": [
            "WARNING:tensorflow:Early stopping conditioned on metric `loss` which is not available. Available metrics are: d_loss,g_loss\n"
          ]
        },
        {
          "output_type": "stream",
          "name": "stdout",
          "text": [
            "\b\b\b\b\b\b\b\b\b\b\b\b\b\b\b\b\b\b\b\b\b\b\b\b\b\b\b\b\b\b\b\b\b\b\b\b\b\b\b\b\b\b\b\b\b\b\b\b\b\b\b\b\b\b\b\b\b\b\b\b\b\b\b\b\b\b\b\b\b\b\b\b\b\b\b\r\u001b[1m313/313\u001b[0m \u001b[32m━━━━━━━━━━━━━━━━━━━━\u001b[0m\u001b[37m\u001b[0m \u001b[1m7s\u001b[0m 22ms/step - d_loss: 0.3207 - g_loss: 1.8340\n",
            "Epoch 11/20\n",
            "\u001b[1m313/313\u001b[0m \u001b[32m━━━━━━━━━━━━━━━━━━━━\u001b[0m\u001b[37m\u001b[0m \u001b[1m0s\u001b[0m 22ms/step - d_loss: 0.2775 - g_loss: 2.0268"
          ]
        },
        {
          "output_type": "stream",
          "name": "stderr",
          "text": [
            "WARNING:tensorflow:Early stopping conditioned on metric `loss` which is not available. Available metrics are: d_loss,g_loss\n"
          ]
        },
        {
          "output_type": "stream",
          "name": "stdout",
          "text": [
            "\b\b\b\b\b\b\b\b\b\b\b\b\b\b\b\b\b\b\b\b\b\b\b\b\b\b\b\b\b\b\b\b\b\b\b\b\b\b\b\b\b\b\b\b\b\b\b\b\b\b\b\b\b\b\b\b\b\b\b\b\b\b\b\b\b\b\b\b\b\b\b\b\b\b\b\r\u001b[1m313/313\u001b[0m \u001b[32m━━━━━━━━━━━━━━━━━━━━\u001b[0m\u001b[37m\u001b[0m \u001b[1m7s\u001b[0m 22ms/step - d_loss: 0.2775 - g_loss: 2.0267\n",
            "Epoch 12/20\n",
            "\u001b[1m312/313\u001b[0m \u001b[32m━━━━━━━━━━━━━━━━━━━\u001b[0m\u001b[37m━\u001b[0m \u001b[1m0s\u001b[0m 22ms/step - d_loss: 0.2387 - g_loss: 2.1339"
          ]
        },
        {
          "output_type": "stream",
          "name": "stderr",
          "text": [
            "WARNING:tensorflow:Early stopping conditioned on metric `loss` which is not available. Available metrics are: d_loss,g_loss\n"
          ]
        },
        {
          "output_type": "stream",
          "name": "stdout",
          "text": [
            "\b\b\b\b\b\b\b\b\b\b\b\b\b\b\b\b\b\b\b\b\b\b\b\b\b\b\b\b\b\b\b\b\b\b\b\b\b\b\b\b\b\b\b\b\b\b\b\b\b\b\b\b\b\b\b\b\b\b\b\b\b\b\b\b\b\b\b\b\b\b\b\b\b\b\b\r\u001b[1m313/313\u001b[0m \u001b[32m━━━━━━━━━━━━━━━━━━━━\u001b[0m\u001b[37m\u001b[0m \u001b[1m7s\u001b[0m 22ms/step - d_loss: 0.2387 - g_loss: 2.1341\n",
            "Epoch 13/20\n",
            "\u001b[1m313/313\u001b[0m \u001b[32m━━━━━━━━━━━━━━━━━━━━\u001b[0m\u001b[37m\u001b[0m \u001b[1m0s\u001b[0m 24ms/step - d_loss: 0.2090 - g_loss: 2.3779"
          ]
        },
        {
          "output_type": "stream",
          "name": "stderr",
          "text": [
            "WARNING:tensorflow:Early stopping conditioned on metric `loss` which is not available. Available metrics are: d_loss,g_loss\n"
          ]
        },
        {
          "output_type": "stream",
          "name": "stdout",
          "text": [
            "\b\b\b\b\b\b\b\b\b\b\b\b\b\b\b\b\b\b\b\b\b\b\b\b\b\b\b\b\b\b\b\b\b\b\b\b\b\b\b\b\b\b\b\b\b\b\b\b\b\b\b\b\b\b\b\b\b\b\b\b\b\b\b\b\b\b\b\b\b\b\b\b\b\b\b\r\u001b[1m313/313\u001b[0m \u001b[32m━━━━━━━━━━━━━━━━━━━━\u001b[0m\u001b[37m\u001b[0m \u001b[1m11s\u001b[0m 24ms/step - d_loss: 0.2089 - g_loss: 2.3780\n",
            "Epoch 14/20\n",
            "\u001b[1m312/313\u001b[0m \u001b[32m━━━━━━━━━━━━━━━━━━━\u001b[0m\u001b[37m━\u001b[0m \u001b[1m0s\u001b[0m 23ms/step - d_loss: 0.1867 - g_loss: 2.4914"
          ]
        },
        {
          "output_type": "stream",
          "name": "stderr",
          "text": [
            "WARNING:tensorflow:Early stopping conditioned on metric `loss` which is not available. Available metrics are: d_loss,g_loss\n"
          ]
        },
        {
          "output_type": "stream",
          "name": "stdout",
          "text": [
            "\b\b\b\b\b\b\b\b\b\b\b\b\b\b\b\b\b\b\b\b\b\b\b\b\b\b\b\b\b\b\b\b\b\b\b\b\b\b\b\b\b\b\b\b\b\b\b\b\b\b\b\b\b\b\b\b\b\b\b\b\b\b\b\b\b\b\b\b\b\b\b\b\b\b\b\r\u001b[1m313/313\u001b[0m \u001b[32m━━━━━━━━━━━━━━━━━━━━\u001b[0m\u001b[37m\u001b[0m \u001b[1m10s\u001b[0m 23ms/step - d_loss: 0.1867 - g_loss: 2.4912\n",
            "Epoch 15/20\n",
            "\u001b[1m312/313\u001b[0m \u001b[32m━━━━━━━━━━━━━━━━━━━\u001b[0m\u001b[37m━\u001b[0m \u001b[1m0s\u001b[0m 23ms/step - d_loss: 0.2025 - g_loss: 2.3824"
          ]
        },
        {
          "output_type": "stream",
          "name": "stderr",
          "text": [
            "WARNING:tensorflow:Early stopping conditioned on metric `loss` which is not available. Available metrics are: d_loss,g_loss\n"
          ]
        },
        {
          "output_type": "stream",
          "name": "stdout",
          "text": [
            "\b\b\b\b\b\b\b\b\b\b\b\b\b\b\b\b\b\b\b\b\b\b\b\b\b\b\b\b\b\b\b\b\b\b\b\b\b\b\b\b\b\b\b\b\b\b\b\b\b\b\b\b\b\b\b\b\b\b\b\b\b\b\b\b\b\b\b\b\b\b\b\b\b\b\b\r\u001b[1m313/313\u001b[0m \u001b[32m━━━━━━━━━━━━━━━━━━━━\u001b[0m\u001b[37m\u001b[0m \u001b[1m7s\u001b[0m 23ms/step - d_loss: 0.2032 - g_loss: 2.3803\n",
            "Epoch 16/20\n",
            "\u001b[1m312/313\u001b[0m \u001b[32m━━━━━━━━━━━━━━━━━━━\u001b[0m\u001b[37m━\u001b[0m \u001b[1m0s\u001b[0m 24ms/step - d_loss: 0.5698 - g_loss: 1.1995"
          ]
        },
        {
          "output_type": "stream",
          "name": "stderr",
          "text": [
            "WARNING:tensorflow:Early stopping conditioned on metric `loss` which is not available. Available metrics are: d_loss,g_loss\n"
          ]
        },
        {
          "output_type": "stream",
          "name": "stdout",
          "text": [
            "\b\b\b\b\b\b\b\b\b\b\b\b\b\b\b\b\b\b\b\b\b\b\b\b\b\b\b\b\b\b\b\b\b\b\b\b\b\b\b\b\b\b\b\b\b\b\b\b\b\b\b\b\b\b\b\b\b\b\b\b\b\b\b\b\b\b\b\b\b\b\b\b\b\b\b\r\u001b[1m313/313\u001b[0m \u001b[32m━━━━━━━━━━━━━━━━━━━━\u001b[0m\u001b[37m\u001b[0m \u001b[1m7s\u001b[0m 24ms/step - d_loss: 0.5698 - g_loss: 1.1995\n",
            "Epoch 17/20\n",
            "\u001b[1m313/313\u001b[0m \u001b[32m━━━━━━━━━━━━━━━━━━━━\u001b[0m\u001b[37m\u001b[0m \u001b[1m0s\u001b[0m 24ms/step - d_loss: 0.5611 - g_loss: 1.3507"
          ]
        },
        {
          "output_type": "stream",
          "name": "stderr",
          "text": [
            "WARNING:tensorflow:Early stopping conditioned on metric `loss` which is not available. Available metrics are: d_loss,g_loss\n"
          ]
        },
        {
          "output_type": "stream",
          "name": "stdout",
          "text": [
            "\b\b\b\b\b\b\b\b\b\b\b\b\b\b\b\b\b\b\b\b\b\b\b\b\b\b\b\b\b\b\b\b\b\b\b\b\b\b\b\b\b\b\b\b\b\b\b\b\b\b\b\b\b\b\b\b\b\b\b\b\b\b\b\b\b\b\b\b\b\b\b\b\b\b\b\r\u001b[1m313/313\u001b[0m \u001b[32m━━━━━━━━━━━━━━━━━━━━\u001b[0m\u001b[37m\u001b[0m \u001b[1m7s\u001b[0m 24ms/step - d_loss: 0.5610 - g_loss: 1.3510\n",
            "Epoch 18/20\n",
            "\u001b[1m311/313\u001b[0m \u001b[32m━━━━━━━━━━━━━━━━━━━\u001b[0m\u001b[37m━\u001b[0m \u001b[1m0s\u001b[0m 24ms/step - d_loss: 0.5942 - g_loss: 1.2076"
          ]
        },
        {
          "output_type": "stream",
          "name": "stderr",
          "text": [
            "WARNING:tensorflow:Early stopping conditioned on metric `loss` which is not available. Available metrics are: d_loss,g_loss\n"
          ]
        },
        {
          "output_type": "stream",
          "name": "stdout",
          "text": [
            "\b\b\b\b\b\b\b\b\b\b\b\b\b\b\b\b\b\b\b\b\b\b\b\b\b\b\b\b\b\b\b\b\b\b\b\b\b\b\b\b\b\b\b\b\b\b\b\b\b\b\b\b\b\b\b\b\b\b\b\b\b\b\b\b\b\b\b\b\b\b\b\b\b\b\b\r\u001b[1m313/313\u001b[0m \u001b[32m━━━━━━━━━━━━━━━━━━━━\u001b[0m\u001b[37m\u001b[0m \u001b[1m10s\u001b[0m 24ms/step - d_loss: 0.5944 - g_loss: 1.2066\n",
            "Epoch 19/20\n",
            "\u001b[1m311/313\u001b[0m \u001b[32m━━━━━━━━━━━━━━━━━━━\u001b[0m\u001b[37m━\u001b[0m \u001b[1m0s\u001b[0m 24ms/step - d_loss: 0.5925 - g_loss: 1.0748"
          ]
        },
        {
          "output_type": "stream",
          "name": "stderr",
          "text": [
            "WARNING:tensorflow:Early stopping conditioned on metric `loss` which is not available. Available metrics are: d_loss,g_loss\n"
          ]
        },
        {
          "output_type": "stream",
          "name": "stdout",
          "text": [
            "\b\b\b\b\b\b\b\b\b\b\b\b\b\b\b\b\b\b\b\b\b\b\b\b\b\b\b\b\b\b\b\b\b\b\b\b\b\b\b\b\b\b\b\b\b\b\b\b\b\b\b\b\b\b\b\b\b\b\b\b\b\b\b\b\b\b\b\b\b\b\b\b\b\b\b\r\u001b[1m313/313\u001b[0m \u001b[32m━━━━━━━━━━━━━━━━━━━━\u001b[0m\u001b[37m\u001b[0m \u001b[1m10s\u001b[0m 24ms/step - d_loss: 0.5926 - g_loss: 1.0748\n",
            "Epoch 20/20\n",
            "\u001b[1m311/313\u001b[0m \u001b[32m━━━━━━━━━━━━━━━━━━━\u001b[0m\u001b[37m━\u001b[0m \u001b[1m0s\u001b[0m 24ms/step - d_loss: 0.5920 - g_loss: 1.1466"
          ]
        },
        {
          "output_type": "stream",
          "name": "stderr",
          "text": [
            "WARNING:tensorflow:Early stopping conditioned on metric `loss` which is not available. Available metrics are: d_loss,g_loss\n"
          ]
        },
        {
          "output_type": "stream",
          "name": "stdout",
          "text": [
            "\b\b\b\b\b\b\b\b\b\b\b\b\b\b\b\b\b\b\b\b\b\b\b\b\b\b\b\b\b\b\b\b\b\b\b\b\b\b\b\b\b\b\b\b\b\b\b\b\b\b\b\b\b\b\b\b\b\b\b\b\b\b\b\b\b\b\b\b\b\b\b\b\b\b\b\r\u001b[1m313/313\u001b[0m \u001b[32m━━━━━━━━━━━━━━━━━━━━\u001b[0m\u001b[37m\u001b[0m \u001b[1m7s\u001b[0m 24ms/step - d_loss: 0.5922 - g_loss: 1.1458\n",
            "training client 1 's CNN\n",
            "from gloabl - before pruning client has sparsity 0.0056595559425337396\n",
            "begin_step= 843 end_step= 2811\n",
            "Epoch 1/10\n",
            "282/282 [==============================] - 6s 7ms/step - loss: 0.7666 - sparse_categorical_accuracy: 0.7703 - val_loss: 0.3679 - val_sparse_categorical_accuracy: 0.8875\n",
            "Epoch 2/10\n",
            "282/282 [==============================] - 1s 5ms/step - loss: 0.3289 - sparse_categorical_accuracy: 0.9013 - val_loss: 0.2996 - val_sparse_categorical_accuracy: 0.9035\n",
            "Epoch 3/10\n",
            "282/282 [==============================] - 1s 5ms/step - loss: 0.2586 - sparse_categorical_accuracy: 0.9219 - val_loss: 0.2437 - val_sparse_categorical_accuracy: 0.9260\n",
            "Epoch 4/10\n",
            "282/282 [==============================] - 2s 5ms/step - loss: 0.2099 - sparse_categorical_accuracy: 0.9361 - val_loss: 0.2143 - val_sparse_categorical_accuracy: 0.9350\n",
            "Epoch 5/10\n",
            "282/282 [==============================] - 1s 5ms/step - loss: 0.1862 - sparse_categorical_accuracy: 0.9433 - val_loss: 0.1943 - val_sparse_categorical_accuracy: 0.9405\n",
            "Epoch 6/10\n",
            "282/282 [==============================] - 2s 8ms/step - loss: 0.1677 - sparse_categorical_accuracy: 0.9470 - val_loss: 0.1782 - val_sparse_categorical_accuracy: 0.9435\n",
            "Epoch 7/10\n",
            "282/282 [==============================] - 2s 6ms/step - loss: 0.1533 - sparse_categorical_accuracy: 0.9538 - val_loss: 0.1706 - val_sparse_categorical_accuracy: 0.9460\n",
            "Epoch 8/10\n",
            "282/282 [==============================] - 1s 5ms/step - loss: 0.1419 - sparse_categorical_accuracy: 0.9565 - val_loss: 0.1540 - val_sparse_categorical_accuracy: 0.9495\n",
            "Epoch 9/10\n",
            "282/282 [==============================] - 1s 5ms/step - loss: 0.1331 - sparse_categorical_accuracy: 0.9589 - val_loss: 0.1544 - val_sparse_categorical_accuracy: 0.9515\n",
            "Epoch 10/10\n",
            "282/282 [==============================] - 1s 5ms/step - loss: 0.1236 - sparse_categorical_accuracy: 0.9616 - val_loss: 0.1471 - val_sparse_categorical_accuracy: 0.9545\n",
            "after pruning client has sparsity 0.0\n",
            "training client 1 's GEN\n",
            "Epoch 1/20\n",
            "\u001b[1m313/313\u001b[0m \u001b[32m━━━━━━━━━━━━━━━━━━━━\u001b[0m\u001b[37m\u001b[0m \u001b[1m0s\u001b[0m 36ms/step - d_loss: 0.4729 - g_loss: 1.3425"
          ]
        },
        {
          "output_type": "stream",
          "name": "stderr",
          "text": [
            "WARNING:tensorflow:Early stopping conditioned on metric `loss` which is not available. Available metrics are: d_loss,g_loss\n"
          ]
        },
        {
          "output_type": "stream",
          "name": "stdout",
          "text": [
            "\b\b\b\b\b\b\b\b\b\b\b\b\b\b\b\b\b\b\b\b\b\b\b\b\b\b\b\b\b\b\b\b\b\b\b\b\b\b\b\b\b\b\b\b\b\b\b\b\b\b\b\b\b\b\b\b\b\b\b\b\b\b\b\b\b\b\b\b\b\b\b\b\b\b\b\r\u001b[1m313/313\u001b[0m \u001b[32m━━━━━━━━━━━━━━━━━━━━\u001b[0m\u001b[37m\u001b[0m \u001b[1m18s\u001b[0m 36ms/step - d_loss: 0.4729 - g_loss: 1.3428\n",
            "Epoch 2/20\n",
            "\u001b[1m311/313\u001b[0m \u001b[32m━━━━━━━━━━━━━━━━━━━\u001b[0m\u001b[37m━\u001b[0m \u001b[1m0s\u001b[0m 23ms/step - d_loss: 0.3850 - g_loss: 1.4367"
          ]
        },
        {
          "output_type": "stream",
          "name": "stderr",
          "text": [
            "WARNING:tensorflow:Early stopping conditioned on metric `loss` which is not available. Available metrics are: d_loss,g_loss\n"
          ]
        },
        {
          "output_type": "stream",
          "name": "stdout",
          "text": [
            "\b\b\b\b\b\b\b\b\b\b\b\b\b\b\b\b\b\b\b\b\b\b\b\b\b\b\b\b\b\b\b\b\b\b\b\b\b\b\b\b\b\b\b\b\b\b\b\b\b\b\b\b\b\b\b\b\b\b\b\b\b\b\b\b\b\b\b\b\b\b\b\b\b\b\b\r\u001b[1m313/313\u001b[0m \u001b[32m━━━━━━━━━━━━━━━━━━━━\u001b[0m\u001b[37m\u001b[0m \u001b[1m7s\u001b[0m 23ms/step - d_loss: 0.3852 - g_loss: 1.4370\n",
            "Epoch 3/20\n",
            "\u001b[1m311/313\u001b[0m \u001b[32m━━━━━━━━━━━━━━━━━━━\u001b[0m\u001b[37m━\u001b[0m \u001b[1m0s\u001b[0m 23ms/step - d_loss: 0.4129 - g_loss: 1.4642"
          ]
        },
        {
          "output_type": "stream",
          "name": "stderr",
          "text": [
            "WARNING:tensorflow:Early stopping conditioned on metric `loss` which is not available. Available metrics are: d_loss,g_loss\n"
          ]
        },
        {
          "output_type": "stream",
          "name": "stdout",
          "text": [
            "\b\b\b\b\b\b\b\b\b\b\b\b\b\b\b\b\b\b\b\b\b\b\b\b\b\b\b\b\b\b\b\b\b\b\b\b\b\b\b\b\b\b\b\b\b\b\b\b\b\b\b\b\b\b\b\b\b\b\b\b\b\b\b\b\b\b\b\b\b\b\b\b\b\b\b\r\u001b[1m313/313\u001b[0m \u001b[32m━━━━━━━━━━━━━━━━━━━━\u001b[0m\u001b[37m\u001b[0m \u001b[1m7s\u001b[0m 23ms/step - d_loss: 0.4128 - g_loss: 1.4647\n",
            "Epoch 4/20\n",
            "\u001b[1m312/313\u001b[0m \u001b[32m━━━━━━━━━━━━━━━━━━━\u001b[0m\u001b[37m━\u001b[0m \u001b[1m0s\u001b[0m 24ms/step - d_loss: 0.4144 - g_loss: 1.5888"
          ]
        },
        {
          "output_type": "stream",
          "name": "stderr",
          "text": [
            "WARNING:tensorflow:Early stopping conditioned on metric `loss` which is not available. Available metrics are: d_loss,g_loss\n"
          ]
        },
        {
          "output_type": "stream",
          "name": "stdout",
          "text": [
            "\b\b\b\b\b\b\b\b\b\b\b\b\b\b\b\b\b\b\b\b\b\b\b\b\b\b\b\b\b\b\b\b\b\b\b\b\b\b\b\b\b\b\b\b\b\b\b\b\b\b\b\b\b\b\b\b\b\b\b\b\b\b\b\b\b\b\b\b\b\b\b\b\b\b\b\r\u001b[1m313/313\u001b[0m \u001b[32m━━━━━━━━━━━━━━━━━━━━\u001b[0m\u001b[37m\u001b[0m \u001b[1m7s\u001b[0m 24ms/step - d_loss: 0.4146 - g_loss: 1.5883\n",
            "Epoch 5/20\n",
            "\u001b[1m312/313\u001b[0m \u001b[32m━━━━━━━━━━━━━━━━━━━\u001b[0m\u001b[37m━\u001b[0m \u001b[1m0s\u001b[0m 23ms/step - d_loss: 0.4891 - g_loss: 1.3921"
          ]
        },
        {
          "output_type": "stream",
          "name": "stderr",
          "text": [
            "WARNING:tensorflow:Early stopping conditioned on metric `loss` which is not available. Available metrics are: d_loss,g_loss\n"
          ]
        },
        {
          "output_type": "stream",
          "name": "stdout",
          "text": [
            "\b\b\b\b\b\b\b\b\b\b\b\b\b\b\b\b\b\b\b\b\b\b\b\b\b\b\b\b\b\b\b\b\b\b\b\b\b\b\b\b\b\b\b\b\b\b\b\b\b\b\b\b\b\b\b\b\b\b\b\b\b\b\b\b\b\b\b\b\b\b\b\b\b\b\b\r\u001b[1m313/313\u001b[0m \u001b[32m━━━━━━━━━━━━━━━━━━━━\u001b[0m\u001b[37m\u001b[0m \u001b[1m7s\u001b[0m 23ms/step - d_loss: 0.4890 - g_loss: 1.3926\n",
            "Epoch 6/20\n",
            "\u001b[1m313/313\u001b[0m \u001b[32m━━━━━━━━━━━━━━━━━━━━\u001b[0m\u001b[37m\u001b[0m \u001b[1m0s\u001b[0m 23ms/step - d_loss: 0.4830 - g_loss: 1.4516"
          ]
        },
        {
          "output_type": "stream",
          "name": "stderr",
          "text": [
            "WARNING:tensorflow:Early stopping conditioned on metric `loss` which is not available. Available metrics are: d_loss,g_loss\n"
          ]
        },
        {
          "output_type": "stream",
          "name": "stdout",
          "text": [
            "\b\b\b\b\b\b\b\b\b\b\b\b\b\b\b\b\b\b\b\b\b\b\b\b\b\b\b\b\b\b\b\b\b\b\b\b\b\b\b\b\b\b\b\b\b\b\b\b\b\b\b\b\b\b\b\b\b\b\b\b\b\b\b\b\b\b\b\b\b\b\b\b\b\b\b\r\u001b[1m313/313\u001b[0m \u001b[32m━━━━━━━━━━━━━━━━━━━━\u001b[0m\u001b[37m\u001b[0m \u001b[1m10s\u001b[0m 23ms/step - d_loss: 0.4830 - g_loss: 1.4514\n",
            "Epoch 7/20\n",
            "\u001b[1m312/313\u001b[0m \u001b[32m━━━━━━━━━━━━━━━━━━━\u001b[0m\u001b[37m━\u001b[0m \u001b[1m0s\u001b[0m 23ms/step - d_loss: 0.4379 - g_loss: 1.4299"
          ]
        },
        {
          "output_type": "stream",
          "name": "stderr",
          "text": [
            "WARNING:tensorflow:Early stopping conditioned on metric `loss` which is not available. Available metrics are: d_loss,g_loss\n"
          ]
        },
        {
          "output_type": "stream",
          "name": "stdout",
          "text": [
            "\b\b\b\b\b\b\b\b\b\b\b\b\b\b\b\b\b\b\b\b\b\b\b\b\b\b\b\b\b\b\b\b\b\b\b\b\b\b\b\b\b\b\b\b\b\b\b\b\b\b\b\b\b\b\b\b\b\b\b\b\b\b\b\b\b\b\b\b\b\b\b\b\b\b\b\r\u001b[1m313/313\u001b[0m \u001b[32m━━━━━━━━━━━━━━━━━━━━\u001b[0m\u001b[37m\u001b[0m \u001b[1m10s\u001b[0m 23ms/step - d_loss: 0.4379 - g_loss: 1.4302\n",
            "Epoch 8/20\n",
            "\u001b[1m312/313\u001b[0m \u001b[32m━━━━━━━━━━━━━━━━━━━\u001b[0m\u001b[37m━\u001b[0m \u001b[1m0s\u001b[0m 23ms/step - d_loss: 0.4284 - g_loss: 1.5224"
          ]
        },
        {
          "output_type": "stream",
          "name": "stderr",
          "text": [
            "WARNING:tensorflow:Early stopping conditioned on metric `loss` which is not available. Available metrics are: d_loss,g_loss\n"
          ]
        },
        {
          "output_type": "stream",
          "name": "stdout",
          "text": [
            "\b\b\b\b\b\b\b\b\b\b\b\b\b\b\b\b\b\b\b\b\b\b\b\b\b\b\b\b\b\b\b\b\b\b\b\b\b\b\b\b\b\b\b\b\b\b\b\b\b\b\b\b\b\b\b\b\b\b\b\b\b\b\b\b\b\b\b\b\b\b\b\b\b\b\b\r\u001b[1m313/313\u001b[0m \u001b[32m━━━━━━━━━━━━━━━━━━━━\u001b[0m\u001b[37m\u001b[0m \u001b[1m7s\u001b[0m 23ms/step - d_loss: 0.4283 - g_loss: 1.5226\n",
            "Epoch 9/20\n",
            "\u001b[1m313/313\u001b[0m \u001b[32m━━━━━━━━━━━━━━━━━━━━\u001b[0m\u001b[37m\u001b[0m \u001b[1m0s\u001b[0m 23ms/step - d_loss: 0.3929 - g_loss: 1.6799"
          ]
        },
        {
          "output_type": "stream",
          "name": "stderr",
          "text": [
            "WARNING:tensorflow:Early stopping conditioned on metric `loss` which is not available. Available metrics are: d_loss,g_loss\n"
          ]
        },
        {
          "output_type": "stream",
          "name": "stdout",
          "text": [
            "\b\b\b\b\b\b\b\b\b\b\b\b\b\b\b\b\b\b\b\b\b\b\b\b\b\b\b\b\b\b\b\b\b\b\b\b\b\b\b\b\b\b\b\b\b\b\b\b\b\b\b\b\b\b\b\b\b\b\b\b\b\b\b\b\b\b\b\b\b\b\b\b\b\b\b\r\u001b[1m313/313\u001b[0m \u001b[32m━━━━━━━━━━━━━━━━━━━━\u001b[0m\u001b[37m\u001b[0m \u001b[1m10s\u001b[0m 23ms/step - d_loss: 0.3929 - g_loss: 1.6800\n",
            "Epoch 10/20\n",
            "\u001b[1m313/313\u001b[0m \u001b[32m━━━━━━━━━━━━━━━━━━━━\u001b[0m\u001b[37m\u001b[0m \u001b[1m0s\u001b[0m 23ms/step - d_loss: 0.3181 - g_loss: 1.9139"
          ]
        },
        {
          "output_type": "stream",
          "name": "stderr",
          "text": [
            "WARNING:tensorflow:Early stopping conditioned on metric `loss` which is not available. Available metrics are: d_loss,g_loss\n"
          ]
        },
        {
          "output_type": "stream",
          "name": "stdout",
          "text": [
            "\b\b\b\b\b\b\b\b\b\b\b\b\b\b\b\b\b\b\b\b\b\b\b\b\b\b\b\b\b\b\b\b\b\b\b\b\b\b\b\b\b\b\b\b\b\b\b\b\b\b\b\b\b\b\b\b\b\b\b\b\b\b\b\b\b\b\b\b\b\b\b\b\b\b\b\r\u001b[1m313/313\u001b[0m \u001b[32m━━━━━━━━━━━━━━━━━━━━\u001b[0m\u001b[37m\u001b[0m \u001b[1m7s\u001b[0m 23ms/step - d_loss: 0.3181 - g_loss: 1.9139\n",
            "Epoch 11/20\n",
            "\u001b[1m312/313\u001b[0m \u001b[32m━━━━━━━━━━━━━━━━━━━\u001b[0m\u001b[37m━\u001b[0m \u001b[1m0s\u001b[0m 24ms/step - d_loss: 0.3009 - g_loss: 1.9451"
          ]
        },
        {
          "output_type": "stream",
          "name": "stderr",
          "text": [
            "WARNING:tensorflow:Early stopping conditioned on metric `loss` which is not available. Available metrics are: d_loss,g_loss\n"
          ]
        },
        {
          "output_type": "stream",
          "name": "stdout",
          "text": [
            "\b\b\b\b\b\b\b\b\b\b\b\b\b\b\b\b\b\b\b\b\b\b\b\b\b\b\b\b\b\b\b\b\b\b\b\b\b\b\b\b\b\b\b\b\b\b\b\b\b\b\b\b\b\b\b\b\b\b\b\b\b\b\b\b\b\b\b\b\b\b\b\b\b\b\b\r\u001b[1m313/313\u001b[0m \u001b[32m━━━━━━━━━━━━━━━━━━━━\u001b[0m\u001b[37m\u001b[0m \u001b[1m10s\u001b[0m 24ms/step - d_loss: 0.3007 - g_loss: 1.9456\n",
            "Epoch 12/20\n",
            "\u001b[1m313/313\u001b[0m \u001b[32m━━━━━━━━━━━━━━━━━━━━\u001b[0m\u001b[37m\u001b[0m \u001b[1m0s\u001b[0m 23ms/step - d_loss: 0.2559 - g_loss: 2.1470"
          ]
        },
        {
          "output_type": "stream",
          "name": "stderr",
          "text": [
            "WARNING:tensorflow:Early stopping conditioned on metric `loss` which is not available. Available metrics are: d_loss,g_loss\n"
          ]
        },
        {
          "output_type": "stream",
          "name": "stdout",
          "text": [
            "\b\b\b\b\b\b\b\b\b\b\b\b\b\b\b\b\b\b\b\b\b\b\b\b\b\b\b\b\b\b\b\b\b\b\b\b\b\b\b\b\b\b\b\b\b\b\b\b\b\b\b\b\b\b\b\b\b\b\b\b\b\b\b\b\b\b\b\b\b\b\b\b\b\b\b\r\u001b[1m313/313\u001b[0m \u001b[32m━━━━━━━━━━━━━━━━━━━━\u001b[0m\u001b[37m\u001b[0m \u001b[1m7s\u001b[0m 23ms/step - d_loss: 0.2558 - g_loss: 2.1472\n",
            "Epoch 13/20\n",
            "\u001b[1m311/313\u001b[0m \u001b[32m━━━━━━━━━━━━━━━━━━━\u001b[0m\u001b[37m━\u001b[0m \u001b[1m0s\u001b[0m 23ms/step - d_loss: 0.2048 - g_loss: 2.3015"
          ]
        },
        {
          "output_type": "stream",
          "name": "stderr",
          "text": [
            "WARNING:tensorflow:Early stopping conditioned on metric `loss` which is not available. Available metrics are: d_loss,g_loss\n"
          ]
        },
        {
          "output_type": "stream",
          "name": "stdout",
          "text": [
            "\b\b\b\b\b\b\b\b\b\b\b\b\b\b\b\b\b\b\b\b\b\b\b\b\b\b\b\b\b\b\b\b\b\b\b\b\b\b\b\b\b\b\b\b\b\b\b\b\b\b\b\b\b\b\b\b\b\b\b\b\b\b\b\b\b\b\b\b\b\b\b\b\b\b\b\r\u001b[1m313/313\u001b[0m \u001b[32m━━━━━━━━━━━━━━━━━━━━\u001b[0m\u001b[37m\u001b[0m \u001b[1m10s\u001b[0m 23ms/step - d_loss: 0.2048 - g_loss: 2.3016\n",
            "Epoch 14/20\n",
            "\u001b[1m313/313\u001b[0m \u001b[32m━━━━━━━━━━━━━━━━━━━━\u001b[0m\u001b[37m\u001b[0m \u001b[1m0s\u001b[0m 23ms/step - d_loss: 0.1729 - g_loss: 2.4932"
          ]
        },
        {
          "output_type": "stream",
          "name": "stderr",
          "text": [
            "WARNING:tensorflow:Early stopping conditioned on metric `loss` which is not available. Available metrics are: d_loss,g_loss\n"
          ]
        },
        {
          "output_type": "stream",
          "name": "stdout",
          "text": [
            "\b\b\b\b\b\b\b\b\b\b\b\b\b\b\b\b\b\b\b\b\b\b\b\b\b\b\b\b\b\b\b\b\b\b\b\b\b\b\b\b\b\b\b\b\b\b\b\b\b\b\b\b\b\b\b\b\b\b\b\b\b\b\b\b\b\b\b\b\b\b\b\b\b\b\b\r\u001b[1m313/313\u001b[0m \u001b[32m━━━━━━━━━━━━━━━━━━━━\u001b[0m\u001b[37m\u001b[0m \u001b[1m10s\u001b[0m 23ms/step - d_loss: 0.1729 - g_loss: 2.4933\n",
            "Epoch 15/20\n",
            "\u001b[1m313/313\u001b[0m \u001b[32m━━━━━━━━━━━━━━━━━━━━\u001b[0m\u001b[37m\u001b[0m \u001b[1m0s\u001b[0m 22ms/step - d_loss: 0.1488 - g_loss: 2.7003"
          ]
        },
        {
          "output_type": "stream",
          "name": "stderr",
          "text": [
            "WARNING:tensorflow:Early stopping conditioned on metric `loss` which is not available. Available metrics are: d_loss,g_loss\n"
          ]
        },
        {
          "output_type": "stream",
          "name": "stdout",
          "text": [
            "\b\b\b\b\b\b\b\b\b\b\b\b\b\b\b\b\b\b\b\b\b\b\b\b\b\b\b\b\b\b\b\b\b\b\b\b\b\b\b\b\b\b\b\b\b\b\b\b\b\b\b\b\b\b\b\b\b\b\b\b\b\b\b\b\b\b\b\b\b\b\b\b\b\b\b\r\u001b[1m313/313\u001b[0m \u001b[32m━━━━━━━━━━━━━━━━━━━━\u001b[0m\u001b[37m\u001b[0m \u001b[1m7s\u001b[0m 22ms/step - d_loss: 0.1488 - g_loss: 2.7003\n",
            "Epoch 16/20\n",
            "\u001b[1m311/313\u001b[0m \u001b[32m━━━━━━━━━━━━━━━━━━━\u001b[0m\u001b[37m━\u001b[0m \u001b[1m0s\u001b[0m 23ms/step - d_loss: 0.1454 - g_loss: 2.7365"
          ]
        },
        {
          "output_type": "stream",
          "name": "stderr",
          "text": [
            "WARNING:tensorflow:Early stopping conditioned on metric `loss` which is not available. Available metrics are: d_loss,g_loss\n"
          ]
        },
        {
          "output_type": "stream",
          "name": "stdout",
          "text": [
            "\b\b\b\b\b\b\b\b\b\b\b\b\b\b\b\b\b\b\b\b\b\b\b\b\b\b\b\b\b\b\b\b\b\b\b\b\b\b\b\b\b\b\b\b\b\b\b\b\b\b\b\b\b\b\b\b\b\b\b\b\b\b\b\b\b\b\b\b\b\b\b\b\b\b\b\r\u001b[1m313/313\u001b[0m \u001b[32m━━━━━━━━━━━━━━━━━━━━\u001b[0m\u001b[37m\u001b[0m \u001b[1m10s\u001b[0m 23ms/step - d_loss: 0.1456 - g_loss: 2.7356\n",
            "Epoch 17/20\n",
            "\u001b[1m312/313\u001b[0m \u001b[32m━━━━━━━━━━━━━━━━━━━\u001b[0m\u001b[37m━\u001b[0m \u001b[1m0s\u001b[0m 24ms/step - d_loss: 0.5243 - g_loss: 1.5501"
          ]
        },
        {
          "output_type": "stream",
          "name": "stderr",
          "text": [
            "WARNING:tensorflow:Early stopping conditioned on metric `loss` which is not available. Available metrics are: d_loss,g_loss\n"
          ]
        },
        {
          "output_type": "stream",
          "name": "stdout",
          "text": [
            "\b\b\b\b\b\b\b\b\b\b\b\b\b\b\b\b\b\b\b\b\b\b\b\b\b\b\b\b\b\b\b\b\b\b\b\b\b\b\b\b\b\b\b\b\b\b\b\b\b\b\b\b\b\b\b\b\b\b\b\b\b\b\b\b\b\b\b\b\b\b\b\b\b\b\b\r\u001b[1m313/313\u001b[0m \u001b[32m━━━━━━━━━━━━━━━━━━━━\u001b[0m\u001b[37m\u001b[0m \u001b[1m11s\u001b[0m 24ms/step - d_loss: 0.5248 - g_loss: 1.5485\n",
            "Epoch 18/20\n",
            "\u001b[1m312/313\u001b[0m \u001b[32m━━━━━━━━━━━━━━━━━━━\u001b[0m\u001b[37m━\u001b[0m \u001b[1m0s\u001b[0m 23ms/step - d_loss: 0.5824 - g_loss: 1.2091"
          ]
        },
        {
          "output_type": "stream",
          "name": "stderr",
          "text": [
            "WARNING:tensorflow:Early stopping conditioned on metric `loss` which is not available. Available metrics are: d_loss,g_loss\n"
          ]
        },
        {
          "output_type": "stream",
          "name": "stdout",
          "text": [
            "\b\b\b\b\b\b\b\b\b\b\b\b\b\b\b\b\b\b\b\b\b\b\b\b\b\b\b\b\b\b\b\b\b\b\b\b\b\b\b\b\b\b\b\b\b\b\b\b\b\b\b\b\b\b\b\b\b\b\b\b\b\b\b\b\b\b\b\b\b\b\b\b\b\b\b\r\u001b[1m313/313\u001b[0m \u001b[32m━━━━━━━━━━━━━━━━━━━━\u001b[0m\u001b[37m\u001b[0m \u001b[1m7s\u001b[0m 23ms/step - d_loss: 0.5824 - g_loss: 1.2105\n",
            "Epoch 19/20\n",
            "\u001b[1m313/313\u001b[0m \u001b[32m━━━━━━━━━━━━━━━━━━━━\u001b[0m\u001b[37m\u001b[0m \u001b[1m0s\u001b[0m 23ms/step - d_loss: 0.4387 - g_loss: 1.9382"
          ]
        },
        {
          "output_type": "stream",
          "name": "stderr",
          "text": [
            "WARNING:tensorflow:Early stopping conditioned on metric `loss` which is not available. Available metrics are: d_loss,g_loss\n"
          ]
        },
        {
          "output_type": "stream",
          "name": "stdout",
          "text": [
            "\b\b\b\b\b\b\b\b\b\b\b\b\b\b\b\b\b\b\b\b\b\b\b\b\b\b\b\b\b\b\b\b\b\b\b\b\b\b\b\b\b\b\b\b\b\b\b\b\b\b\b\b\b\b\b\b\b\b\b\b\b\b\b\b\b\b\b\b\b\b\b\b\b\b\b\r\u001b[1m313/313\u001b[0m \u001b[32m━━━━━━━━━━━━━━━━━━━━\u001b[0m\u001b[37m\u001b[0m \u001b[1m7s\u001b[0m 23ms/step - d_loss: 0.4389 - g_loss: 1.9369\n",
            "Epoch 20/20\n",
            "\u001b[1m311/313\u001b[0m \u001b[32m━━━━━━━━━━━━━━━━━━━\u001b[0m\u001b[37m━\u001b[0m \u001b[1m0s\u001b[0m 23ms/step - d_loss: 0.6448 - g_loss: 1.0119"
          ]
        },
        {
          "output_type": "stream",
          "name": "stderr",
          "text": [
            "WARNING:tensorflow:Early stopping conditioned on metric `loss` which is not available. Available metrics are: d_loss,g_loss\n"
          ]
        },
        {
          "output_type": "stream",
          "name": "stdout",
          "text": [
            "\b\b\b\b\b\b\b\b\b\b\b\b\b\b\b\b\b\b\b\b\b\b\b\b\b\b\b\b\b\b\b\b\b\b\b\b\b\b\b\b\b\b\b\b\b\b\b\b\b\b\b\b\b\b\b\b\b\b\b\b\b\b\b\b\b\b\b\b\b\b\b\b\b\b\b\r\u001b[1m313/313\u001b[0m \u001b[32m━━━━━━━━━━━━━━━━━━━━\u001b[0m\u001b[37m\u001b[0m \u001b[1m10s\u001b[0m 23ms/step - d_loss: 0.6447 - g_loss: 1.0119\n",
            "training client 2 's CNN\n",
            "from gloabl - before pruning client has sparsity 0.0056595559425337396\n",
            "begin_step= 843 end_step= 2811\n",
            "Epoch 1/10\n",
            "282/282 [==============================] - 6s 7ms/step - loss: 0.7764 - sparse_categorical_accuracy: 0.7644 - val_loss: 0.2478 - val_sparse_categorical_accuracy: 0.9360\n",
            "Epoch 2/10\n",
            "282/282 [==============================] - 1s 5ms/step - loss: 0.3272 - sparse_categorical_accuracy: 0.9022 - val_loss: 0.1933 - val_sparse_categorical_accuracy: 0.9520\n",
            "Epoch 3/10\n",
            "282/282 [==============================] - 1s 5ms/step - loss: 0.2526 - sparse_categorical_accuracy: 0.9250 - val_loss: 0.1628 - val_sparse_categorical_accuracy: 0.9585\n",
            "Epoch 4/10\n",
            "282/282 [==============================] - 1s 5ms/step - loss: 0.2097 - sparse_categorical_accuracy: 0.9373 - val_loss: 0.1362 - val_sparse_categorical_accuracy: 0.9655\n",
            "Epoch 5/10\n",
            "282/282 [==============================] - 2s 5ms/step - loss: 0.1827 - sparse_categorical_accuracy: 0.9449 - val_loss: 0.1239 - val_sparse_categorical_accuracy: 0.9675\n",
            "Epoch 6/10\n",
            "282/282 [==============================] - 2s 5ms/step - loss: 0.1642 - sparse_categorical_accuracy: 0.9502 - val_loss: 0.1087 - val_sparse_categorical_accuracy: 0.9745\n",
            "Epoch 7/10\n",
            "282/282 [==============================] - 2s 8ms/step - loss: 0.1495 - sparse_categorical_accuracy: 0.9542 - val_loss: 0.1047 - val_sparse_categorical_accuracy: 0.9710\n",
            "Epoch 8/10\n",
            "282/282 [==============================] - 2s 6ms/step - loss: 0.1373 - sparse_categorical_accuracy: 0.9583 - val_loss: 0.1014 - val_sparse_categorical_accuracy: 0.9755\n",
            "Epoch 9/10\n",
            "282/282 [==============================] - 1s 5ms/step - loss: 0.1276 - sparse_categorical_accuracy: 0.9612 - val_loss: 0.0879 - val_sparse_categorical_accuracy: 0.9805\n",
            "Epoch 10/10\n",
            "282/282 [==============================] - 1s 5ms/step - loss: 0.1191 - sparse_categorical_accuracy: 0.9640 - val_loss: 0.0924 - val_sparse_categorical_accuracy: 0.9775\n",
            "after pruning client has sparsity 0.0\n",
            "training client 2 's GEN\n",
            "Epoch 1/20\n",
            "\u001b[1m313/313\u001b[0m \u001b[32m━━━━━━━━━━━━━━━━━━━━\u001b[0m\u001b[37m\u001b[0m \u001b[1m0s\u001b[0m 35ms/step - d_loss: 0.5103 - g_loss: 1.2371"
          ]
        },
        {
          "output_type": "stream",
          "name": "stderr",
          "text": [
            "WARNING:tensorflow:Early stopping conditioned on metric `loss` which is not available. Available metrics are: d_loss,g_loss\n"
          ]
        },
        {
          "output_type": "stream",
          "name": "stdout",
          "text": [
            "\b\b\b\b\b\b\b\b\b\b\b\b\b\b\b\b\b\b\b\b\b\b\b\b\b\b\b\b\b\b\b\b\b\b\b\b\b\b\b\b\b\b\b\b\b\b\b\b\b\b\b\b\b\b\b\b\b\b\b\b\b\b\b\b\b\b\b\b\b\b\b\b\b\b\b\r\u001b[1m313/313\u001b[0m \u001b[32m━━━━━━━━━━━━━━━━━━━━\u001b[0m\u001b[37m\u001b[0m \u001b[1m17s\u001b[0m 35ms/step - d_loss: 0.5101 - g_loss: 1.2374\n",
            "Epoch 2/20\n",
            "\u001b[1m313/313\u001b[0m \u001b[32m━━━━━━━━━━━━━━━━━━━━\u001b[0m\u001b[37m\u001b[0m \u001b[1m0s\u001b[0m 23ms/step - d_loss: 0.3552 - g_loss: 1.6235"
          ]
        },
        {
          "output_type": "stream",
          "name": "stderr",
          "text": [
            "WARNING:tensorflow:Early stopping conditioned on metric `loss` which is not available. Available metrics are: d_loss,g_loss\n"
          ]
        },
        {
          "output_type": "stream",
          "name": "stdout",
          "text": [
            "\b\b\b\b\b\b\b\b\b\b\b\b\b\b\b\b\b\b\b\b\b\b\b\b\b\b\b\b\b\b\b\b\b\b\b\b\b\b\b\b\b\b\b\b\b\b\b\b\b\b\b\b\b\b\b\b\b\b\b\b\b\b\b\b\b\b\b\b\b\b\b\b\b\b\b\r\u001b[1m313/313\u001b[0m \u001b[32m━━━━━━━━━━━━━━━━━━━━\u001b[0m\u001b[37m\u001b[0m \u001b[1m7s\u001b[0m 23ms/step - d_loss: 0.3552 - g_loss: 1.6239\n",
            "Epoch 3/20\n",
            "\u001b[1m312/313\u001b[0m \u001b[32m━━━━━━━━━━━━━━━━━━━\u001b[0m\u001b[37m━\u001b[0m \u001b[1m0s\u001b[0m 22ms/step - d_loss: 0.3924 - g_loss: 1.5021"
          ]
        },
        {
          "output_type": "stream",
          "name": "stderr",
          "text": [
            "WARNING:tensorflow:Early stopping conditioned on metric `loss` which is not available. Available metrics are: d_loss,g_loss\n"
          ]
        },
        {
          "output_type": "stream",
          "name": "stdout",
          "text": [
            "\b\b\b\b\b\b\b\b\b\b\b\b\b\b\b\b\b\b\b\b\b\b\b\b\b\b\b\b\b\b\b\b\b\b\b\b\b\b\b\b\b\b\b\b\b\b\b\b\b\b\b\b\b\b\b\b\b\b\b\b\b\b\b\b\b\b\b\b\b\b\b\b\b\b\b\r\u001b[1m313/313\u001b[0m \u001b[32m━━━━━━━━━━━━━━━━━━━━\u001b[0m\u001b[37m\u001b[0m \u001b[1m7s\u001b[0m 22ms/step - d_loss: 0.3925 - g_loss: 1.5017\n",
            "Epoch 4/20\n",
            "\u001b[1m312/313\u001b[0m \u001b[32m━━━━━━━━━━━━━━━━━━━\u001b[0m\u001b[37m━\u001b[0m \u001b[1m0s\u001b[0m 23ms/step - d_loss: 0.4455 - g_loss: 1.4985"
          ]
        },
        {
          "output_type": "stream",
          "name": "stderr",
          "text": [
            "WARNING:tensorflow:Early stopping conditioned on metric `loss` which is not available. Available metrics are: d_loss,g_loss\n"
          ]
        },
        {
          "output_type": "stream",
          "name": "stdout",
          "text": [
            "\b\b\b\b\b\b\b\b\b\b\b\b\b\b\b\b\b\b\b\b\b\b\b\b\b\b\b\b\b\b\b\b\b\b\b\b\b\b\b\b\b\b\b\b\b\b\b\b\b\b\b\b\b\b\b\b\b\b\b\b\b\b\b\b\b\b\b\b\b\b\b\b\b\b\b\r\u001b[1m313/313\u001b[0m \u001b[32m━━━━━━━━━━━━━━━━━━━━\u001b[0m\u001b[37m\u001b[0m \u001b[1m10s\u001b[0m 23ms/step - d_loss: 0.4454 - g_loss: 1.4985\n",
            "Epoch 5/20\n",
            "\u001b[1m313/313\u001b[0m \u001b[32m━━━━━━━━━━━━━━━━━━━━\u001b[0m\u001b[37m\u001b[0m \u001b[1m0s\u001b[0m 23ms/step - d_loss: 0.4779 - g_loss: 1.4446"
          ]
        },
        {
          "output_type": "stream",
          "name": "stderr",
          "text": [
            "WARNING:tensorflow:Early stopping conditioned on metric `loss` which is not available. Available metrics are: d_loss,g_loss\n"
          ]
        },
        {
          "output_type": "stream",
          "name": "stdout",
          "text": [
            "\b\b\b\b\b\b\b\b\b\b\b\b\b\b\b\b\b\b\b\b\b\b\b\b\b\b\b\b\b\b\b\b\b\b\b\b\b\b\b\b\b\b\b\b\b\b\b\b\b\b\b\b\b\b\b\b\b\b\b\b\b\b\b\b\b\b\b\b\b\b\b\b\b\b\b\r\u001b[1m313/313\u001b[0m \u001b[32m━━━━━━━━━━━━━━━━━━━━\u001b[0m\u001b[37m\u001b[0m \u001b[1m10s\u001b[0m 23ms/step - d_loss: 0.4778 - g_loss: 1.4447\n",
            "Epoch 6/20\n",
            "\u001b[1m312/313\u001b[0m \u001b[32m━━━━━━━━━━━━━━━━━━━\u001b[0m\u001b[37m━\u001b[0m \u001b[1m0s\u001b[0m 23ms/step - d_loss: 0.4922 - g_loss: 1.3052"
          ]
        },
        {
          "output_type": "stream",
          "name": "stderr",
          "text": [
            "WARNING:tensorflow:Early stopping conditioned on metric `loss` which is not available. Available metrics are: d_loss,g_loss\n"
          ]
        },
        {
          "output_type": "stream",
          "name": "stdout",
          "text": [
            "\b\b\b\b\b\b\b\b\b\b\b\b\b\b\b\b\b\b\b\b\b\b\b\b\b\b\b\b\b\b\b\b\b\b\b\b\b\b\b\b\b\b\b\b\b\b\b\b\b\b\b\b\b\b\b\b\b\b\b\b\b\b\b\b\b\b\b\b\b\b\b\b\b\b\b\r\u001b[1m313/313\u001b[0m \u001b[32m━━━━━━━━━━━━━━━━━━━━\u001b[0m\u001b[37m\u001b[0m \u001b[1m10s\u001b[0m 23ms/step - d_loss: 0.4921 - g_loss: 1.3056\n",
            "Epoch 7/20\n",
            "\u001b[1m311/313\u001b[0m \u001b[32m━━━━━━━━━━━━━━━━━━━\u001b[0m\u001b[37m━\u001b[0m \u001b[1m0s\u001b[0m 23ms/step - d_loss: 0.4310 - g_loss: 1.4833"
          ]
        },
        {
          "output_type": "stream",
          "name": "stderr",
          "text": [
            "WARNING:tensorflow:Early stopping conditioned on metric `loss` which is not available. Available metrics are: d_loss,g_loss\n"
          ]
        },
        {
          "output_type": "stream",
          "name": "stdout",
          "text": [
            "\b\b\b\b\b\b\b\b\b\b\b\b\b\b\b\b\b\b\b\b\b\b\b\b\b\b\b\b\b\b\b\b\b\b\b\b\b\b\b\b\b\b\b\b\b\b\b\b\b\b\b\b\b\b\b\b\b\b\b\b\b\b\b\b\b\b\b\b\b\b\b\b\b\b\b\r\u001b[1m313/313\u001b[0m \u001b[32m━━━━━━━━━━━━━━━━━━━━\u001b[0m\u001b[37m\u001b[0m \u001b[1m7s\u001b[0m 23ms/step - d_loss: 0.4310 - g_loss: 1.4834\n",
            "Epoch 8/20\n",
            "\u001b[1m312/313\u001b[0m \u001b[32m━━━━━━━━━━━━━━━━━━━\u001b[0m\u001b[37m━\u001b[0m \u001b[1m0s\u001b[0m 23ms/step - d_loss: 0.3885 - g_loss: 1.5541"
          ]
        },
        {
          "output_type": "stream",
          "name": "stderr",
          "text": [
            "WARNING:tensorflow:Early stopping conditioned on metric `loss` which is not available. Available metrics are: d_loss,g_loss\n"
          ]
        },
        {
          "output_type": "stream",
          "name": "stdout",
          "text": [
            "\b\b\b\b\b\b\b\b\b\b\b\b\b\b\b\b\b\b\b\b\b\b\b\b\b\b\b\b\b\b\b\b\b\b\b\b\b\b\b\b\b\b\b\b\b\b\b\b\b\b\b\b\b\b\b\b\b\b\b\b\b\b\b\b\b\b\b\b\b\b\b\b\b\b\b\r\u001b[1m313/313\u001b[0m \u001b[32m━━━━━━━━━━━━━━━━━━━━\u001b[0m\u001b[37m\u001b[0m \u001b[1m10s\u001b[0m 23ms/step - d_loss: 0.3884 - g_loss: 1.5544\n",
            "Epoch 9/20\n",
            "\u001b[1m313/313\u001b[0m \u001b[32m━━━━━━━━━━━━━━━━━━━━\u001b[0m\u001b[37m\u001b[0m \u001b[1m0s\u001b[0m 23ms/step - d_loss: 0.3699 - g_loss: 1.6929"
          ]
        },
        {
          "output_type": "stream",
          "name": "stderr",
          "text": [
            "WARNING:tensorflow:Early stopping conditioned on metric `loss` which is not available. Available metrics are: d_loss,g_loss\n"
          ]
        },
        {
          "output_type": "stream",
          "name": "stdout",
          "text": [
            "\b\b\b\b\b\b\b\b\b\b\b\b\b\b\b\b\b\b\b\b\b\b\b\b\b\b\b\b\b\b\b\b\b\b\b\b\b\b\b\b\b\b\b\b\b\b\b\b\b\b\b\b\b\b\b\b\b\b\b\b\b\b\b\b\b\b\b\b\b\b\b\b\b\b\b\r\u001b[1m313/313\u001b[0m \u001b[32m━━━━━━━━━━━━━━━━━━━━\u001b[0m\u001b[37m\u001b[0m \u001b[1m7s\u001b[0m 23ms/step - d_loss: 0.3698 - g_loss: 1.6932\n",
            "Epoch 10/20\n",
            "\u001b[1m312/313\u001b[0m \u001b[32m━━━━━━━━━━━━━━━━━━━\u001b[0m\u001b[37m━\u001b[0m \u001b[1m0s\u001b[0m 23ms/step - d_loss: 0.3100 - g_loss: 1.9655"
          ]
        },
        {
          "output_type": "stream",
          "name": "stderr",
          "text": [
            "WARNING:tensorflow:Early stopping conditioned on metric `loss` which is not available. Available metrics are: d_loss,g_loss\n"
          ]
        },
        {
          "output_type": "stream",
          "name": "stdout",
          "text": [
            "\b\b\b\b\b\b\b\b\b\b\b\b\b\b\b\b\b\b\b\b\b\b\b\b\b\b\b\b\b\b\b\b\b\b\b\b\b\b\b\b\b\b\b\b\b\b\b\b\b\b\b\b\b\b\b\b\b\b\b\b\b\b\b\b\b\b\b\b\b\b\b\b\b\b\b\r\u001b[1m313/313\u001b[0m \u001b[32m━━━━━━━━━━━━━━━━━━━━\u001b[0m\u001b[37m\u001b[0m \u001b[1m10s\u001b[0m 23ms/step - d_loss: 0.3100 - g_loss: 1.9648\n",
            "Epoch 11/20\n",
            "\u001b[1m311/313\u001b[0m \u001b[32m━━━━━━━━━━━━━━━━━━━\u001b[0m\u001b[37m━\u001b[0m \u001b[1m0s\u001b[0m 23ms/step - d_loss: 0.2799 - g_loss: 1.9331"
          ]
        },
        {
          "output_type": "stream",
          "name": "stderr",
          "text": [
            "WARNING:tensorflow:Early stopping conditioned on metric `loss` which is not available. Available metrics are: d_loss,g_loss\n"
          ]
        },
        {
          "output_type": "stream",
          "name": "stdout",
          "text": [
            "\b\b\b\b\b\b\b\b\b\b\b\b\b\b\b\b\b\b\b\b\b\b\b\b\b\b\b\b\b\b\b\b\b\b\b\b\b\b\b\b\b\b\b\b\b\b\b\b\b\b\b\b\b\b\b\b\b\b\b\b\b\b\b\b\b\b\b\b\b\b\b\b\b\b\b\r\u001b[1m313/313\u001b[0m \u001b[32m━━━━━━━━━━━━━━━━━━━━\u001b[0m\u001b[37m\u001b[0m \u001b[1m7s\u001b[0m 23ms/step - d_loss: 0.2800 - g_loss: 1.9332\n",
            "Epoch 12/20\n",
            "\u001b[1m312/313\u001b[0m \u001b[32m━━━━━━━━━━━━━━━━━━━\u001b[0m\u001b[37m━\u001b[0m \u001b[1m0s\u001b[0m 23ms/step - d_loss: 0.5286 - g_loss: 1.4303"
          ]
        },
        {
          "output_type": "stream",
          "name": "stderr",
          "text": [
            "WARNING:tensorflow:Early stopping conditioned on metric `loss` which is not available. Available metrics are: d_loss,g_loss\n"
          ]
        },
        {
          "output_type": "stream",
          "name": "stdout",
          "text": [
            "\b\b\b\b\b\b\b\b\b\b\b\b\b\b\b\b\b\b\b\b\b\b\b\b\b\b\b\b\b\b\b\b\b\b\b\b\b\b\b\b\b\b\b\b\b\b\b\b\b\b\b\b\b\b\b\b\b\b\b\b\b\b\b\b\b\b\b\b\b\b\b\b\b\b\b\r\u001b[1m313/313\u001b[0m \u001b[32m━━━━━━━━━━━━━━━━━━━━\u001b[0m\u001b[37m\u001b[0m \u001b[1m7s\u001b[0m 23ms/step - d_loss: 0.5292 - g_loss: 1.4287\n",
            "Epoch 13/20\n",
            "\u001b[1m311/313\u001b[0m \u001b[32m━━━━━━━━━━━━━━━━━━━\u001b[0m\u001b[37m━\u001b[0m \u001b[1m0s\u001b[0m 23ms/step - d_loss: 0.6377 - g_loss: 0.9263"
          ]
        },
        {
          "output_type": "stream",
          "name": "stderr",
          "text": [
            "WARNING:tensorflow:Early stopping conditioned on metric `loss` which is not available. Available metrics are: d_loss,g_loss\n"
          ]
        },
        {
          "output_type": "stream",
          "name": "stdout",
          "text": [
            "\b\b\b\b\b\b\b\b\b\b\b\b\b\b\b\b\b\b\b\b\b\b\b\b\b\b\b\b\b\b\b\b\b\b\b\b\b\b\b\b\b\b\b\b\b\b\b\b\b\b\b\b\b\b\b\b\b\b\b\b\b\b\b\b\b\b\b\b\b\b\b\b\b\b\b\r\u001b[1m313/313\u001b[0m \u001b[32m━━━━━━━━━━━━━━━━━━━━\u001b[0m\u001b[37m\u001b[0m \u001b[1m10s\u001b[0m 23ms/step - d_loss: 0.6376 - g_loss: 0.9265\n",
            "Epoch 14/20\n",
            "\u001b[1m313/313\u001b[0m \u001b[32m━━━━━━━━━━━━━━━━━━━━\u001b[0m\u001b[37m\u001b[0m \u001b[1m0s\u001b[0m 24ms/step - d_loss: 0.6291 - g_loss: 0.9640"
          ]
        },
        {
          "output_type": "stream",
          "name": "stderr",
          "text": [
            "WARNING:tensorflow:Early stopping conditioned on metric `loss` which is not available. Available metrics are: d_loss,g_loss\n"
          ]
        },
        {
          "output_type": "stream",
          "name": "stdout",
          "text": [
            "\b\b\b\b\b\b\b\b\b\b\b\b\b\b\b\b\b\b\b\b\b\b\b\b\b\b\b\b\b\b\b\b\b\b\b\b\b\b\b\b\b\b\b\b\b\b\b\b\b\b\b\b\b\b\b\b\b\b\b\b\b\b\b\b\b\b\b\b\b\b\b\b\b\b\b\r\u001b[1m313/313\u001b[0m \u001b[32m━━━━━━━━━━━━━━━━━━━━\u001b[0m\u001b[37m\u001b[0m \u001b[1m10s\u001b[0m 24ms/step - d_loss: 0.6291 - g_loss: 0.9640\n",
            "Epoch 15/20\n",
            "\u001b[1m313/313\u001b[0m \u001b[32m━━━━━━━━━━━━━━━━━━━━\u001b[0m\u001b[37m\u001b[0m \u001b[1m0s\u001b[0m 23ms/step - d_loss: 0.6287 - g_loss: 0.9350"
          ]
        },
        {
          "output_type": "stream",
          "name": "stderr",
          "text": [
            "WARNING:tensorflow:Early stopping conditioned on metric `loss` which is not available. Available metrics are: d_loss,g_loss\n"
          ]
        },
        {
          "output_type": "stream",
          "name": "stdout",
          "text": [
            "\b\b\b\b\b\b\b\b\b\b\b\b\b\b\b\b\b\b\b\b\b\b\b\b\b\b\b\b\b\b\b\b\b\b\b\b\b\b\b\b\b\b\b\b\b\b\b\b\b\b\b\b\b\b\b\b\b\b\b\b\b\b\b\b\b\b\b\b\b\b\b\b\b\b\b\r\u001b[1m313/313\u001b[0m \u001b[32m━━━━━━━━━━━━━━━━━━━━\u001b[0m\u001b[37m\u001b[0m \u001b[1m7s\u001b[0m 23ms/step - d_loss: 0.6287 - g_loss: 0.9350\n",
            "Epoch 16/20\n",
            "\u001b[1m311/313\u001b[0m \u001b[32m━━━━━━━━━━━━━━━━━━━\u001b[0m\u001b[37m━\u001b[0m \u001b[1m0s\u001b[0m 23ms/step - d_loss: 0.6304 - g_loss: 0.9277"
          ]
        },
        {
          "output_type": "stream",
          "name": "stderr",
          "text": [
            "WARNING:tensorflow:Early stopping conditioned on metric `loss` which is not available. Available metrics are: d_loss,g_loss\n"
          ]
        },
        {
          "output_type": "stream",
          "name": "stdout",
          "text": [
            "\b\b\b\b\b\b\b\b\b\b\b\b\b\b\b\b\b\b\b\b\b\b\b\b\b\b\b\b\b\b\b\b\b\b\b\b\b\b\b\b\b\b\b\b\b\b\b\b\b\b\b\b\b\b\b\b\b\b\b\b\b\b\b\b\b\b\b\b\b\b\b\b\b\b\b\r\u001b[1m313/313\u001b[0m \u001b[32m━━━━━━━━━━━━━━━━━━━━\u001b[0m\u001b[37m\u001b[0m \u001b[1m10s\u001b[0m 23ms/step - d_loss: 0.6304 - g_loss: 0.9279\n",
            "Epoch 17/20\n",
            "\u001b[1m311/313\u001b[0m \u001b[32m━━━━━━━━━━━━━━━━━━━\u001b[0m\u001b[37m━\u001b[0m \u001b[1m0s\u001b[0m 23ms/step - d_loss: 0.6452 - g_loss: 0.8986"
          ]
        },
        {
          "output_type": "stream",
          "name": "stderr",
          "text": [
            "WARNING:tensorflow:Early stopping conditioned on metric `loss` which is not available. Available metrics are: d_loss,g_loss\n"
          ]
        },
        {
          "output_type": "stream",
          "name": "stdout",
          "text": [
            "\b\b\b\b\b\b\b\b\b\b\b\b\b\b\b\b\b\b\b\b\b\b\b\b\b\b\b\b\b\b\b\b\b\b\b\b\b\b\b\b\b\b\b\b\b\b\b\b\b\b\b\b\b\b\b\b\b\b\b\b\b\b\b\b\b\b\b\b\b\b\b\b\b\b\b\r\u001b[1m313/313\u001b[0m \u001b[32m━━━━━━━━━━━━━━━━━━━━\u001b[0m\u001b[37m\u001b[0m \u001b[1m10s\u001b[0m 23ms/step - d_loss: 0.6451 - g_loss: 0.8986\n",
            "Epoch 18/20\n",
            "\u001b[1m313/313\u001b[0m \u001b[32m━━━━━━━━━━━━━━━━━━━━\u001b[0m\u001b[37m\u001b[0m \u001b[1m0s\u001b[0m 23ms/step - d_loss: 0.6390 - g_loss: 0.9124"
          ]
        },
        {
          "output_type": "stream",
          "name": "stderr",
          "text": [
            "WARNING:tensorflow:Early stopping conditioned on metric `loss` which is not available. Available metrics are: d_loss,g_loss\n"
          ]
        },
        {
          "output_type": "stream",
          "name": "stdout",
          "text": [
            "\b\b\b\b\b\b\b\b\b\b\b\b\b\b\b\b\b\b\b\b\b\b\b\b\b\b\b\b\b\b\b\b\b\b\b\b\b\b\b\b\b\b\b\b\b\b\b\b\b\b\b\b\b\b\b\b\b\b\b\b\b\b\b\b\b\b\b\b\b\b\b\b\b\b\b\r\u001b[1m313/313\u001b[0m \u001b[32m━━━━━━━━━━━━━━━━━━━━\u001b[0m\u001b[37m\u001b[0m \u001b[1m7s\u001b[0m 23ms/step - d_loss: 0.6391 - g_loss: 0.9123\n",
            "Epoch 19/20\n",
            "\u001b[1m311/313\u001b[0m \u001b[32m━━━━━━━━━━━━━━━━━━━\u001b[0m\u001b[37m━\u001b[0m \u001b[1m0s\u001b[0m 23ms/step - d_loss: 0.6435 - g_loss: 0.8747"
          ]
        },
        {
          "output_type": "stream",
          "name": "stderr",
          "text": [
            "WARNING:tensorflow:Early stopping conditioned on metric `loss` which is not available. Available metrics are: d_loss,g_loss\n"
          ]
        },
        {
          "output_type": "stream",
          "name": "stdout",
          "text": [
            "\b\b\b\b\b\b\b\b\b\b\b\b\b\b\b\b\b\b\b\b\b\b\b\b\b\b\b\b\b\b\b\b\b\b\b\b\b\b\b\b\b\b\b\b\b\b\b\b\b\b\b\b\b\b\b\b\b\b\b\b\b\b\b\b\b\b\b\b\b\b\b\b\b\b\b\r\u001b[1m313/313\u001b[0m \u001b[32m━━━━━━━━━━━━━━━━━━━━\u001b[0m\u001b[37m\u001b[0m \u001b[1m7s\u001b[0m 23ms/step - d_loss: 0.6435 - g_loss: 0.8746\n",
            "Epoch 20/20\n",
            "\u001b[1m311/313\u001b[0m \u001b[32m━━━━━━━━━━━━━━━━━━━\u001b[0m\u001b[37m━\u001b[0m \u001b[1m0s\u001b[0m 23ms/step - d_loss: 0.6514 - g_loss: 0.8517"
          ]
        },
        {
          "output_type": "stream",
          "name": "stderr",
          "text": [
            "WARNING:tensorflow:Early stopping conditioned on metric `loss` which is not available. Available metrics are: d_loss,g_loss\n"
          ]
        },
        {
          "output_type": "stream",
          "name": "stdout",
          "text": [
            "\b\b\b\b\b\b\b\b\b\b\b\b\b\b\b\b\b\b\b\b\b\b\b\b\b\b\b\b\b\b\b\b\b\b\b\b\b\b\b\b\b\b\b\b\b\b\b\b\b\b\b\b\b\b\b\b\b\b\b\b\b\b\b\b\b\b\b\b\b\b\b\b\b\b\b\r\u001b[1m313/313\u001b[0m \u001b[32m━━━━━━━━━━━━━━━━━━━━\u001b[0m\u001b[37m\u001b[0m \u001b[1m10s\u001b[0m 23ms/step - d_loss: 0.6514 - g_loss: 0.8517\n",
            ">>>>>>>>>trained all clients cnn round \n",
            "----getting weighted avg of clients' gen\n",
            ">>>>>>>>>Weighted aggregated client generator\n",
            "Generating 100 fake images of digit 0 ......\n",
            "Generating 100 fake images of digit 1 ......\n",
            "Generating 100 fake images of digit 2 ......\n",
            "Generating 100 fake images of digit 3 ......\n",
            "Generating 100 fake images of digit 4 ......\n",
            "Generating 100 fake images of digit 5 ......\n",
            "Generating 100 fake images of digit 6 ......\n",
            "Generating 100 fake images of digit 7 ......\n",
            "Generating 100 fake images of digit 8 ......\n",
            "Generating 100 fake images of digit 9 ......\n",
            "Augmented dataset shape: (1000, 28, 28, 1), (1000,)\n",
            "Added (2000,) data points to the public dataset\n",
            "----getting weighted avg of clients' classifier\n",
            "Epoch 1/3\n",
            "----getting 1 client logits\n",
            "----getting 1 client logits\n",
            "----getting 1 client logits\n",
            "----getting aggregate client logits Tensor(\"add_1:0\", shape=(None, 10), dtype=float32)\n",
            "----getting 1 client logits\n",
            "----getting 1 client logits\n",
            "----getting 1 client logits\n",
            "----getting aggregate client logits Tensor(\"add_1:0\", shape=(None, 10), dtype=float32)\n",
            "57/57 [==============================] - 7s 14ms/step - sparse_categorical_accuracy: 0.3356 - task_loss: 2.0073 - distillation_loss: 0.2273 - total_loss: 2.0226 - val_sparse_categorical_accuracy: 0.1400\n",
            "Epoch 2/3\n",
            "57/57 [==============================] - 0s 5ms/step - sparse_categorical_accuracy: 0.4233 - task_loss: 1.8180 - distillation_loss: 0.1109 - total_loss: 1.4901 - val_sparse_categorical_accuracy: 0.1650\n",
            "Epoch 3/3\n",
            "57/57 [==============================] - 0s 5ms/step - sparse_categorical_accuracy: 0.4572 - task_loss: 1.7711 - distillation_loss: 0.0686 - total_loss: 1.3096 - val_sparse_categorical_accuracy: 0.1800\n",
            "should print not trainable: False\n",
            "should print trainable: True\n",
            ">>>>>>>>>Knowledge distilled from clients and updated global weights\n",
            ">>>>>>>>>Broadcasted weights to all clients\n",
            "training client 0 's CNN\n",
            "from gloabl - before pruning client has sparsity 0.0\n",
            "begin_step= 281 end_step= 1406\n",
            "Epoch 1/5\n",
            "282/282 [==============================] - 7s 11ms/step - loss: 0.2949 - sparse_categorical_accuracy: 0.9125 - val_loss: 0.1731 - val_sparse_categorical_accuracy: 0.9510\n",
            "Epoch 2/5\n",
            "282/282 [==============================] - 2s 6ms/step - loss: 0.1911 - sparse_categorical_accuracy: 0.9424 - val_loss: 0.1512 - val_sparse_categorical_accuracy: 0.9560\n",
            "Epoch 3/5\n",
            "282/282 [==============================] - 2s 5ms/step - loss: 0.1621 - sparse_categorical_accuracy: 0.9526 - val_loss: 0.1368 - val_sparse_categorical_accuracy: 0.9575\n",
            "Epoch 4/5\n",
            "282/282 [==============================] - 2s 6ms/step - loss: 0.1416 - sparse_categorical_accuracy: 0.9573 - val_loss: 0.1337 - val_sparse_categorical_accuracy: 0.9600\n",
            "Epoch 5/5\n",
            "282/282 [==============================] - 2s 5ms/step - loss: 0.1292 - sparse_categorical_accuracy: 0.9608 - val_loss: 0.1227 - val_sparse_categorical_accuracy: 0.9630\n",
            "after pruning client has sparsity 0.16565084893339138\n",
            "training client 0 's GEN\n",
            "Epoch 1/5\n",
            "\u001b[1m313/313\u001b[0m \u001b[32m━━━━━━━━━━━━━━━━━━━━\u001b[0m\u001b[37m\u001b[0m \u001b[1m0s\u001b[0m 33ms/step - d_loss: 0.3988 - g_loss: 1.5576"
          ]
        },
        {
          "output_type": "stream",
          "name": "stderr",
          "text": [
            "WARNING:tensorflow:Early stopping conditioned on metric `loss` which is not available. Available metrics are: d_loss,g_loss\n"
          ]
        },
        {
          "output_type": "stream",
          "name": "stdout",
          "text": [
            "\b\b\b\b\b\b\b\b\b\b\b\b\b\b\b\b\b\b\b\b\b\b\b\b\b\b\b\b\b\b\b\b\b\b\b\b\b\b\b\b\b\b\b\b\b\b\b\b\b\b\b\b\b\b\b\b\b\b\b\b\b\b\b\b\b\b\b\b\b\b\b\b\b\b\b\r\u001b[1m313/313\u001b[0m \u001b[32m━━━━━━━━━━━━━━━━━━━━\u001b[0m\u001b[37m\u001b[0m \u001b[1m16s\u001b[0m 34ms/step - d_loss: 0.3990 - g_loss: 1.5573\n",
            "Epoch 2/5\n",
            "\u001b[1m311/313\u001b[0m \u001b[32m━━━━━━━━━━━━━━━━━━━\u001b[0m\u001b[37m━\u001b[0m \u001b[1m0s\u001b[0m 22ms/step - d_loss: 0.5893 - g_loss: 1.2672"
          ]
        },
        {
          "output_type": "stream",
          "name": "stderr",
          "text": [
            "WARNING:tensorflow:Early stopping conditioned on metric `loss` which is not available. Available metrics are: d_loss,g_loss\n"
          ]
        },
        {
          "output_type": "stream",
          "name": "stdout",
          "text": [
            "\b\b\b\b\b\b\b\b\b\b\b\b\b\b\b\b\b\b\b\b\b\b\b\b\b\b\b\b\b\b\b\b\b\b\b\b\b\b\b\b\b\b\b\b\b\b\b\b\b\b\b\b\b\b\b\b\b\b\b\b\b\b\b\b\b\b\b\b\b\b\b\b\b\b\b\r\u001b[1m313/313\u001b[0m \u001b[32m━━━━━━━━━━━━━━━━━━━━\u001b[0m\u001b[37m\u001b[0m \u001b[1m13s\u001b[0m 22ms/step - d_loss: 0.5894 - g_loss: 1.2668\n",
            "Epoch 3/5\n",
            "\u001b[1m312/313\u001b[0m \u001b[32m━━━━━━━━━━━━━━━━━━━\u001b[0m\u001b[37m━\u001b[0m \u001b[1m0s\u001b[0m 23ms/step - d_loss: 0.6031 - g_loss: 1.0798"
          ]
        },
        {
          "output_type": "stream",
          "name": "stderr",
          "text": [
            "WARNING:tensorflow:Early stopping conditioned on metric `loss` which is not available. Available metrics are: d_loss,g_loss\n"
          ]
        },
        {
          "output_type": "stream",
          "name": "stdout",
          "text": [
            "\b\b\b\b\b\b\b\b\b\b\b\b\b\b\b\b\b\b\b\b\b\b\b\b\b\b\b\b\b\b\b\b\b\b\b\b\b\b\b\b\b\b\b\b\b\b\b\b\b\b\b\b\b\b\b\b\b\b\b\b\b\b\b\b\b\b\b\b\b\b\b\b\b\b\b\r\u001b[1m313/313\u001b[0m \u001b[32m━━━━━━━━━━━━━━━━━━━━\u001b[0m\u001b[37m\u001b[0m \u001b[1m11s\u001b[0m 23ms/step - d_loss: 0.6032 - g_loss: 1.0798\n",
            "Epoch 4/5\n",
            "\u001b[1m312/313\u001b[0m \u001b[32m━━━━━━━━━━━━━━━━━━━\u001b[0m\u001b[37m━\u001b[0m \u001b[1m0s\u001b[0m 22ms/step - d_loss: 0.6281 - g_loss: 1.0282"
          ]
        },
        {
          "output_type": "stream",
          "name": "stderr",
          "text": [
            "WARNING:tensorflow:Early stopping conditioned on metric `loss` which is not available. Available metrics are: d_loss,g_loss\n"
          ]
        },
        {
          "output_type": "stream",
          "name": "stdout",
          "text": [
            "\b\b\b\b\b\b\b\b\b\b\b\b\b\b\b\b\b\b\b\b\b\b\b\b\b\b\b\b\b\b\b\b\b\b\b\b\b\b\b\b\b\b\b\b\b\b\b\b\b\b\b\b\b\b\b\b\b\b\b\b\b\b\b\b\b\b\b\b\b\b\b\b\b\b\b\r\u001b[1m313/313\u001b[0m \u001b[32m━━━━━━━━━━━━━━━━━━━━\u001b[0m\u001b[37m\u001b[0m \u001b[1m7s\u001b[0m 22ms/step - d_loss: 0.6282 - g_loss: 1.0277\n",
            "Epoch 5/5\n",
            "\u001b[1m312/313\u001b[0m \u001b[32m━━━━━━━━━━━━━━━━━━━\u001b[0m\u001b[37m━\u001b[0m \u001b[1m0s\u001b[0m 22ms/step - d_loss: 0.6483 - g_loss: 1.0499"
          ]
        },
        {
          "output_type": "stream",
          "name": "stderr",
          "text": [
            "WARNING:tensorflow:Early stopping conditioned on metric `loss` which is not available. Available metrics are: d_loss,g_loss\n"
          ]
        },
        {
          "output_type": "stream",
          "name": "stdout",
          "text": [
            "\b\b\b\b\b\b\b\b\b\b\b\b\b\b\b\b\b\b\b\b\b\b\b\b\b\b\b\b\b\b\b\b\b\b\b\b\b\b\b\b\b\b\b\b\b\b\b\b\b\b\b\b\b\b\b\b\b\b\b\b\b\b\b\b\b\b\b\b\b\b\b\b\b\b\b\r\u001b[1m313/313\u001b[0m \u001b[32m━━━━━━━━━━━━━━━━━━━━\u001b[0m\u001b[37m\u001b[0m \u001b[1m7s\u001b[0m 22ms/step - d_loss: 0.6483 - g_loss: 1.0498\n",
            "training client 1 's CNN\n",
            "from gloabl - before pruning client has sparsity 0.0\n",
            "begin_step= 281 end_step= 1406\n",
            "Epoch 1/5\n",
            "282/282 [==============================] - 6s 9ms/step - loss: 0.2961 - sparse_categorical_accuracy: 0.9124 - val_loss: 0.2272 - val_sparse_categorical_accuracy: 0.9290\n",
            "Epoch 2/5\n",
            "282/282 [==============================] - 2s 5ms/step - loss: 0.1877 - sparse_categorical_accuracy: 0.9457 - val_loss: 0.1871 - val_sparse_categorical_accuracy: 0.9425\n",
            "Epoch 3/5\n",
            "282/282 [==============================] - 2s 5ms/step - loss: 0.1593 - sparse_categorical_accuracy: 0.9534 - val_loss: 0.1674 - val_sparse_categorical_accuracy: 0.9490\n",
            "Epoch 4/5\n",
            "282/282 [==============================] - 2s 6ms/step - loss: 0.1415 - sparse_categorical_accuracy: 0.9574 - val_loss: 0.1516 - val_sparse_categorical_accuracy: 0.9535\n",
            "Epoch 5/5\n",
            "282/282 [==============================] - 2s 5ms/step - loss: 0.1294 - sparse_categorical_accuracy: 0.9618 - val_loss: 0.1399 - val_sparse_categorical_accuracy: 0.9520\n",
            "after pruning client has sparsity 0.16565084893339138\n",
            "training client 1 's GEN\n",
            "Epoch 1/5\n",
            "\u001b[1m313/313\u001b[0m \u001b[32m━━━━━━━━━━━━━━━━━━━━\u001b[0m\u001b[37m\u001b[0m \u001b[1m0s\u001b[0m 35ms/step - d_loss: 0.3855 - g_loss: 1.8284"
          ]
        },
        {
          "output_type": "stream",
          "name": "stderr",
          "text": [
            "WARNING:tensorflow:Early stopping conditioned on metric `loss` which is not available. Available metrics are: d_loss,g_loss\n"
          ]
        },
        {
          "output_type": "stream",
          "name": "stdout",
          "text": [
            "\b\b\b\b\b\b\b\b\b\b\b\b\b\b\b\b\b\b\b\b\b\b\b\b\b\b\b\b\b\b\b\b\b\b\b\b\b\b\b\b\b\b\b\b\b\b\b\b\b\b\b\b\b\b\b\b\b\b\b\b\b\b\b\b\b\b\b\b\b\b\b\b\b\b\b\r\u001b[1m313/313\u001b[0m \u001b[32m━━━━━━━━━━━━━━━━━━━━\u001b[0m\u001b[37m\u001b[0m \u001b[1m17s\u001b[0m 35ms/step - d_loss: 0.3857 - g_loss: 1.8278\n",
            "Epoch 2/5\n",
            "\u001b[1m311/313\u001b[0m \u001b[32m━━━━━━━━━━━━━━━━━━━\u001b[0m\u001b[37m━\u001b[0m \u001b[1m0s\u001b[0m 23ms/step - d_loss: 0.5954 - g_loss: 1.1981"
          ]
        },
        {
          "output_type": "stream",
          "name": "stderr",
          "text": [
            "WARNING:tensorflow:Early stopping conditioned on metric `loss` which is not available. Available metrics are: d_loss,g_loss\n"
          ]
        },
        {
          "output_type": "stream",
          "name": "stdout",
          "text": [
            "\b\b\b\b\b\b\b\b\b\b\b\b\b\b\b\b\b\b\b\b\b\b\b\b\b\b\b\b\b\b\b\b\b\b\b\b\b\b\b\b\b\b\b\b\b\b\b\b\b\b\b\b\b\b\b\b\b\b\b\b\b\b\b\b\b\b\b\b\b\b\b\b\b\b\b\r\u001b[1m313/313\u001b[0m \u001b[32m━━━━━━━━━━━━━━━━━━━━\u001b[0m\u001b[37m\u001b[0m \u001b[1m13s\u001b[0m 23ms/step - d_loss: 0.5957 - g_loss: 1.1977\n",
            "Epoch 3/5\n",
            "\u001b[1m311/313\u001b[0m \u001b[32m━━━━━━━━━━━━━━━━━━━\u001b[0m\u001b[37m━\u001b[0m \u001b[1m0s\u001b[0m 22ms/step - d_loss: 0.6488 - g_loss: 1.0304"
          ]
        },
        {
          "output_type": "stream",
          "name": "stderr",
          "text": [
            "WARNING:tensorflow:Early stopping conditioned on metric `loss` which is not available. Available metrics are: d_loss,g_loss\n"
          ]
        },
        {
          "output_type": "stream",
          "name": "stdout",
          "text": [
            "\b\b\b\b\b\b\b\b\b\b\b\b\b\b\b\b\b\b\b\b\b\b\b\b\b\b\b\b\b\b\b\b\b\b\b\b\b\b\b\b\b\b\b\b\b\b\b\b\b\b\b\b\b\b\b\b\b\b\b\b\b\b\b\b\b\b\b\b\b\b\b\b\b\b\b\r\u001b[1m313/313\u001b[0m \u001b[32m━━━━━━━━━━━━━━━━━━━━\u001b[0m\u001b[37m\u001b[0m \u001b[1m7s\u001b[0m 22ms/step - d_loss: 0.6489 - g_loss: 1.0306\n",
            "Epoch 4/5\n",
            "\u001b[1m311/313\u001b[0m \u001b[32m━━━━━━━━━━━━━━━━━━━\u001b[0m\u001b[37m━\u001b[0m \u001b[1m0s\u001b[0m 22ms/step - d_loss: 0.6898 - g_loss: 0.9465"
          ]
        },
        {
          "output_type": "stream",
          "name": "stderr",
          "text": [
            "WARNING:tensorflow:Early stopping conditioned on metric `loss` which is not available. Available metrics are: d_loss,g_loss\n"
          ]
        },
        {
          "output_type": "stream",
          "name": "stdout",
          "text": [
            "\b\b\b\b\b\b\b\b\b\b\b\b\b\b\b\b\b\b\b\b\b\b\b\b\b\b\b\b\b\b\b\b\b\b\b\b\b\b\b\b\b\b\b\b\b\b\b\b\b\b\b\b\b\b\b\b\b\b\b\b\b\b\b\b\b\b\b\b\b\b\b\b\b\b\b\r\u001b[1m313/313\u001b[0m \u001b[32m━━━━━━━━━━━━━━━━━━━━\u001b[0m\u001b[37m\u001b[0m \u001b[1m10s\u001b[0m 22ms/step - d_loss: 0.6897 - g_loss: 0.9465\n",
            "Epoch 5/5\n",
            "\u001b[1m313/313\u001b[0m \u001b[32m━━━━━━━━━━━━━━━━━━━━\u001b[0m\u001b[37m\u001b[0m \u001b[1m0s\u001b[0m 22ms/step - d_loss: 0.6757 - g_loss: 0.9165"
          ]
        },
        {
          "output_type": "stream",
          "name": "stderr",
          "text": [
            "WARNING:tensorflow:Early stopping conditioned on metric `loss` which is not available. Available metrics are: d_loss,g_loss\n"
          ]
        },
        {
          "output_type": "stream",
          "name": "stdout",
          "text": [
            "\b\b\b\b\b\b\b\b\b\b\b\b\b\b\b\b\b\b\b\b\b\b\b\b\b\b\b\b\b\b\b\b\b\b\b\b\b\b\b\b\b\b\b\b\b\b\b\b\b\b\b\b\b\b\b\b\b\b\b\b\b\b\b\b\b\b\b\b\b\b\b\b\b\b\b\r\u001b[1m313/313\u001b[0m \u001b[32m━━━━━━━━━━━━━━━━━━━━\u001b[0m\u001b[37m\u001b[0m \u001b[1m10s\u001b[0m 22ms/step - d_loss: 0.6757 - g_loss: 0.9165\n",
            "training client 2 's CNN\n",
            "from gloabl - before pruning client has sparsity 0.0\n",
            "begin_step= 281 end_step= 1406\n",
            "Epoch 1/5\n",
            "282/282 [==============================] - 5s 7ms/step - loss: 0.2865 - sparse_categorical_accuracy: 0.9149 - val_loss: 0.1436 - val_sparse_categorical_accuracy: 0.9620\n",
            "Epoch 2/5\n",
            "282/282 [==============================] - 2s 6ms/step - loss: 0.1885 - sparse_categorical_accuracy: 0.9436 - val_loss: 0.1202 - val_sparse_categorical_accuracy: 0.9705\n",
            "Epoch 3/5\n",
            "282/282 [==============================] - 2s 6ms/step - loss: 0.1582 - sparse_categorical_accuracy: 0.9528 - val_loss: 0.1089 - val_sparse_categorical_accuracy: 0.9710\n",
            "Epoch 4/5\n",
            "282/282 [==============================] - 2s 6ms/step - loss: 0.1424 - sparse_categorical_accuracy: 0.9571 - val_loss: 0.0923 - val_sparse_categorical_accuracy: 0.9790\n",
            "Epoch 5/5\n",
            "282/282 [==============================] - 3s 9ms/step - loss: 0.1307 - sparse_categorical_accuracy: 0.9602 - val_loss: 0.0954 - val_sparse_categorical_accuracy: 0.9770\n",
            "after pruning client has sparsity 0.16565084893339138\n",
            "training client 2 's GEN\n",
            "Epoch 1/5\n",
            "\u001b[1m313/313\u001b[0m \u001b[32m━━━━━━━━━━━━━━━━━━━━\u001b[0m\u001b[37m\u001b[0m \u001b[1m0s\u001b[0m 36ms/step - d_loss: 0.4091 - g_loss: 1.3611"
          ]
        },
        {
          "output_type": "stream",
          "name": "stderr",
          "text": [
            "WARNING:tensorflow:Early stopping conditioned on metric `loss` which is not available. Available metrics are: d_loss,g_loss\n"
          ]
        },
        {
          "output_type": "stream",
          "name": "stdout",
          "text": [
            "\b\b\b\b\b\b\b\b\b\b\b\b\b\b\b\b\b\b\b\b\b\b\b\b\b\b\b\b\b\b\b\b\b\b\b\b\b\b\b\b\b\b\b\b\b\b\b\b\b\b\b\b\b\b\b\b\b\b\b\b\b\b\b\b\b\b\b\b\b\b\b\b\b\b\b\r\u001b[1m313/313\u001b[0m \u001b[32m━━━━━━━━━━━━━━━━━━━━\u001b[0m\u001b[37m\u001b[0m \u001b[1m17s\u001b[0m 36ms/step - d_loss: 0.4093 - g_loss: 1.3608\n",
            "Epoch 2/5\n",
            "\u001b[1m312/313\u001b[0m \u001b[32m━━━━━━━━━━━━━━━━━━━\u001b[0m\u001b[37m━\u001b[0m \u001b[1m0s\u001b[0m 22ms/step - d_loss: 0.4606 - g_loss: 1.4149"
          ]
        },
        {
          "output_type": "stream",
          "name": "stderr",
          "text": [
            "WARNING:tensorflow:Early stopping conditioned on metric `loss` which is not available. Available metrics are: d_loss,g_loss\n"
          ]
        },
        {
          "output_type": "stream",
          "name": "stdout",
          "text": [
            "\b\b\b\b\b\b\b\b\b\b\b\b\b\b\b\b\b\b\b\b\b\b\b\b\b\b\b\b\b\b\b\b\b\b\b\b\b\b\b\b\b\b\b\b\b\b\b\b\b\b\b\b\b\b\b\b\b\b\b\b\b\b\b\b\b\b\b\b\b\b\b\b\b\b\b\r\u001b[1m313/313\u001b[0m \u001b[32m━━━━━━━━━━━━━━━━━━━━\u001b[0m\u001b[37m\u001b[0m \u001b[1m7s\u001b[0m 22ms/step - d_loss: 0.4607 - g_loss: 1.4146\n",
            "Epoch 3/5\n",
            "\u001b[1m312/313\u001b[0m \u001b[32m━━━━━━━━━━━━━━━━━━━\u001b[0m\u001b[37m━\u001b[0m \u001b[1m0s\u001b[0m 22ms/step - d_loss: 0.5835 - g_loss: 1.0783"
          ]
        },
        {
          "output_type": "stream",
          "name": "stderr",
          "text": [
            "WARNING:tensorflow:Early stopping conditioned on metric `loss` which is not available. Available metrics are: d_loss,g_loss\n"
          ]
        },
        {
          "output_type": "stream",
          "name": "stdout",
          "text": [
            "\b\b\b\b\b\b\b\b\b\b\b\b\b\b\b\b\b\b\b\b\b\b\b\b\b\b\b\b\b\b\b\b\b\b\b\b\b\b\b\b\b\b\b\b\b\b\b\b\b\b\b\b\b\b\b\b\b\b\b\b\b\b\b\b\b\b\b\b\b\b\b\b\b\b\b\r\u001b[1m313/313\u001b[0m \u001b[32m━━━━━━━━━━━━━━━━━━━━\u001b[0m\u001b[37m\u001b[0m \u001b[1m10s\u001b[0m 22ms/step - d_loss: 0.5835 - g_loss: 1.0781\n",
            "Epoch 4/5\n",
            "\u001b[1m313/313\u001b[0m \u001b[32m━━━━━━━━━━━━━━━━━━━━\u001b[0m\u001b[37m\u001b[0m \u001b[1m0s\u001b[0m 23ms/step - d_loss: 0.5940 - g_loss: 1.0367"
          ]
        },
        {
          "output_type": "stream",
          "name": "stderr",
          "text": [
            "WARNING:tensorflow:Early stopping conditioned on metric `loss` which is not available. Available metrics are: d_loss,g_loss\n"
          ]
        },
        {
          "output_type": "stream",
          "name": "stdout",
          "text": [
            "\b\b\b\b\b\b\b\b\b\b\b\b\b\b\b\b\b\b\b\b\b\b\b\b\b\b\b\b\b\b\b\b\b\b\b\b\b\b\b\b\b\b\b\b\b\b\b\b\b\b\b\b\b\b\b\b\b\b\b\b\b\b\b\b\b\b\b\b\b\b\b\b\b\b\b\r\u001b[1m313/313\u001b[0m \u001b[32m━━━━━━━━━━━━━━━━━━━━\u001b[0m\u001b[37m\u001b[0m \u001b[1m7s\u001b[0m 23ms/step - d_loss: 0.5941 - g_loss: 1.0366\n",
            "Epoch 5/5\n",
            "\u001b[1m313/313\u001b[0m \u001b[32m━━━━━━━━━━━━━━━━━━━━\u001b[0m\u001b[37m\u001b[0m \u001b[1m0s\u001b[0m 23ms/step - d_loss: 0.6387 - g_loss: 0.9268"
          ]
        },
        {
          "output_type": "stream",
          "name": "stderr",
          "text": [
            "WARNING:tensorflow:Early stopping conditioned on metric `loss` which is not available. Available metrics are: d_loss,g_loss\n"
          ]
        },
        {
          "output_type": "stream",
          "name": "stdout",
          "text": [
            "\b\b\b\b\b\b\b\b\b\b\b\b\b\b\b\b\b\b\b\b\b\b\b\b\b\b\b\b\b\b\b\b\b\b\b\b\b\b\b\b\b\b\b\b\b\b\b\b\b\b\b\b\b\b\b\b\b\b\b\b\b\b\b\b\b\b\b\b\b\b\b\b\b\b\b\r\u001b[1m313/313\u001b[0m \u001b[32m━━━━━━━━━━━━━━━━━━━━\u001b[0m\u001b[37m\u001b[0m \u001b[1m10s\u001b[0m 23ms/step - d_loss: 0.6387 - g_loss: 0.9268\n",
            ">>>>>>>>>trained all clients cnn round \n",
            "----getting weighted avg of clients' gen\n",
            ">>>>>>>>>Weighted aggregated client generator\n",
            "Generating 16 fake images of digit 0 ......\n",
            "Generating 16 fake images of digit 1 ......\n",
            "Generating 16 fake images of digit 2 ......\n",
            "Generating 16 fake images of digit 3 ......\n",
            "Generating 16 fake images of digit 4 ......\n",
            "Generating 16 fake images of digit 5 ......\n",
            "Generating 16 fake images of digit 6 ......\n",
            "Generating 16 fake images of digit 7 ......\n",
            "Generating 16 fake images of digit 8 ......\n",
            "Generating 16 fake images of digit 9 ......\n",
            "Augmented dataset shape: (160, 28, 28, 1), (160,)\n",
            "Added (320,) data points to the public dataset\n",
            ">>>>>>>>>produced pseudo data\n",
            "----getting weighted avg of clients' classifier\n",
            "Epoch 1/3\n",
            "----getting 1 client logits\n",
            "----getting 1 client logits\n",
            "----getting 1 client logits\n",
            "----getting aggregate client logits Tensor(\"add_1:0\", shape=(None, 10), dtype=float32)\n",
            "----getting 1 client logits\n",
            "----getting 1 client logits\n",
            "----getting 1 client logits\n",
            "----getting aggregate client logits Tensor(\"add_1:0\", shape=(None, 10), dtype=float32)\n",
            "66/66 [==============================] - 4s 9ms/step - sparse_categorical_accuracy: 0.1058 - task_loss: nan - distillation_loss: nan - total_loss: nan - val_sparse_categorical_accuracy: 0.1379\n",
            "Epoch 2/3\n",
            "66/66 [==============================] - 0s 6ms/step - sparse_categorical_accuracy: 0.1015 - task_loss: nan - distillation_loss: nan - total_loss: nan - val_sparse_categorical_accuracy: 0.1379\n",
            "Epoch 3/3\n",
            "66/66 [==============================] - 0s 5ms/step - sparse_categorical_accuracy: 0.1015 - task_loss: nan - distillation_loss: nan - total_loss: nan - val_sparse_categorical_accuracy: 0.1379\n",
            "should print not trainable: False\n",
            "should print trainable: True\n",
            ">>>>>>>>>Knowledge distilled from clients and updated global weights\n",
            ">>>>>>>>>Broadcasted weights to all clients\n",
            "training client 0 's CNN\n",
            "from gloabl - before pruning client has sparsity 0.0805398345668263\n",
            "begin_step= 281 end_step= 1406\n",
            "Epoch 1/5\n",
            "282/282 [==============================] - 6s 10ms/step - loss: nan - sparse_categorical_accuracy: 0.0991 - val_loss: nan - val_sparse_categorical_accuracy: 0.1055\n",
            "Epoch 2/5\n",
            "282/282 [==============================] - 3s 10ms/step - loss: nan - sparse_categorical_accuracy: 0.0991 - val_loss: nan - val_sparse_categorical_accuracy: 0.1055\n",
            "Epoch 2: early stopping\n",
            "after pruning client has sparsity 0.0\n",
            "training client 0 's GEN\n",
            "Epoch 1/5\n",
            "\u001b[1m313/313\u001b[0m \u001b[32m━━━━━━━━━━━━━━━━━━━━\u001b[0m\u001b[37m\u001b[0m \u001b[1m0s\u001b[0m 34ms/step - d_loss: 0.6677 - g_loss: 0.9455"
          ]
        },
        {
          "output_type": "stream",
          "name": "stderr",
          "text": [
            "WARNING:tensorflow:Early stopping conditioned on metric `loss` which is not available. Available metrics are: d_loss,g_loss\n"
          ]
        },
        {
          "output_type": "stream",
          "name": "stdout",
          "text": [
            "\b\b\b\b\b\b\b\b\b\b\b\b\b\b\b\b\b\b\b\b\b\b\b\b\b\b\b\b\b\b\b\b\b\b\b\b\b\b\b\b\b\b\b\b\b\b\b\b\b\b\b\b\b\b\b\b\b\b\b\b\b\b\b\b\b\b\b\b\b\b\b\b\b\b\b\r\u001b[1m313/313\u001b[0m \u001b[32m━━━━━━━━━━━━━━━━━━━━\u001b[0m\u001b[37m\u001b[0m \u001b[1m16s\u001b[0m 34ms/step - d_loss: 0.6677 - g_loss: 0.9456\n",
            "Epoch 2/5\n",
            "\u001b[1m312/313\u001b[0m \u001b[32m━━━━━━━━━━━━━━━━━━━\u001b[0m\u001b[37m━\u001b[0m \u001b[1m0s\u001b[0m 22ms/step - d_loss: 0.6673 - g_loss: 0.9439"
          ]
        },
        {
          "output_type": "stream",
          "name": "stderr",
          "text": [
            "WARNING:tensorflow:Early stopping conditioned on metric `loss` which is not available. Available metrics are: d_loss,g_loss\n"
          ]
        },
        {
          "output_type": "stream",
          "name": "stdout",
          "text": [
            "\b\b\b\b\b\b\b\b\b\b\b\b\b\b\b\b\b\b\b\b\b\b\b\b\b\b\b\b\b\b\b\b\b\b\b\b\b\b\b\b\b\b\b\b\b\b\b\b\b\b\b\b\b\b\b\b\b\b\b\b\b\b\b\b\b\b\b\b\b\b\b\b\b\b\b\r\u001b[1m313/313\u001b[0m \u001b[32m━━━━━━━━━━━━━━━━━━━━\u001b[0m\u001b[37m\u001b[0m \u001b[1m7s\u001b[0m 22ms/step - d_loss: 0.6673 - g_loss: 0.9437\n",
            "Epoch 3/5\n",
            "\u001b[1m312/313\u001b[0m \u001b[32m━━━━━━━━━━━━━━━━━━━\u001b[0m\u001b[37m━\u001b[0m \u001b[1m0s\u001b[0m 22ms/step - d_loss: 0.6600 - g_loss: 0.9040"
          ]
        },
        {
          "output_type": "stream",
          "name": "stderr",
          "text": [
            "WARNING:tensorflow:Early stopping conditioned on metric `loss` which is not available. Available metrics are: d_loss,g_loss\n"
          ]
        },
        {
          "output_type": "stream",
          "name": "stdout",
          "text": [
            "\b\b\b\b\b\b\b\b\b\b\b\b\b\b\b\b\b\b\b\b\b\b\b\b\b\b\b\b\b\b\b\b\b\b\b\b\b\b\b\b\b\b\b\b\b\b\b\b\b\b\b\b\b\b\b\b\b\b\b\b\b\b\b\b\b\b\b\b\b\b\b\b\b\b\b\r\u001b[1m313/313\u001b[0m \u001b[32m━━━━━━━━━━━━━━━━━━━━\u001b[0m\u001b[37m\u001b[0m \u001b[1m10s\u001b[0m 22ms/step - d_loss: 0.6601 - g_loss: 0.9039\n",
            "Epoch 4/5\n",
            "\u001b[1m312/313\u001b[0m \u001b[32m━━━━━━━━━━━━━━━━━━━\u001b[0m\u001b[37m━\u001b[0m \u001b[1m0s\u001b[0m 23ms/step - d_loss: 0.6790 - g_loss: 0.8211"
          ]
        },
        {
          "output_type": "stream",
          "name": "stderr",
          "text": [
            "WARNING:tensorflow:Early stopping conditioned on metric `loss` which is not available. Available metrics are: d_loss,g_loss\n"
          ]
        },
        {
          "output_type": "stream",
          "name": "stdout",
          "text": [
            "\b\b\b\b\b\b\b\b\b\b\b\b\b\b\b\b\b\b\b\b\b\b\b\b\b\b\b\b\b\b\b\b\b\b\b\b\b\b\b\b\b\b\b\b\b\b\b\b\b\b\b\b\b\b\b\b\b\b\b\b\b\b\b\b\b\b\b\b\b\b\b\b\b\b\b\r\u001b[1m313/313\u001b[0m \u001b[32m━━━━━━━━━━━━━━━━━━━━\u001b[0m\u001b[37m\u001b[0m \u001b[1m10s\u001b[0m 23ms/step - d_loss: 0.6790 - g_loss: 0.8212\n",
            "Epoch 5/5\n",
            "\u001b[1m311/313\u001b[0m \u001b[32m━━━━━━━━━━━━━━━━━━━\u001b[0m\u001b[37m━\u001b[0m \u001b[1m0s\u001b[0m 23ms/step - d_loss: 0.6791 - g_loss: 0.8734"
          ]
        },
        {
          "output_type": "stream",
          "name": "stderr",
          "text": [
            "WARNING:tensorflow:Early stopping conditioned on metric `loss` which is not available. Available metrics are: d_loss,g_loss\n"
          ]
        },
        {
          "output_type": "stream",
          "name": "stdout",
          "text": [
            "\b\b\b\b\b\b\b\b\b\b\b\b\b\b\b\b\b\b\b\b\b\b\b\b\b\b\b\b\b\b\b\b\b\b\b\b\b\b\b\b\b\b\b\b\b\b\b\b\b\b\b\b\b\b\b\b\b\b\b\b\b\b\b\b\b\b\b\b\b\b\b\b\b\b\b\r\u001b[1m313/313\u001b[0m \u001b[32m━━━━━━━━━━━━━━━━━━━━\u001b[0m\u001b[37m\u001b[0m \u001b[1m10s\u001b[0m 23ms/step - d_loss: 0.6792 - g_loss: 0.8731\n",
            "training client 1 's CNN\n",
            "from gloabl - before pruning client has sparsity 0.0805398345668263\n",
            "begin_step= 281 end_step= 1406\n",
            "Epoch 1/5\n",
            "282/282 [==============================] - 6s 7ms/step - loss: nan - sparse_categorical_accuracy: 0.0958 - val_loss: nan - val_sparse_categorical_accuracy: 0.1030\n",
            "Epoch 2/5\n",
            "282/282 [==============================] - 2s 6ms/step - loss: nan - sparse_categorical_accuracy: 0.0958 - val_loss: nan - val_sparse_categorical_accuracy: 0.1030\n",
            "Epoch 2: early stopping\n",
            "after pruning client has sparsity 0.0\n",
            "training client 1 's GEN\n",
            "Epoch 1/5\n",
            "\u001b[1m313/313\u001b[0m \u001b[32m━━━━━━━━━━━━━━━━━━━━\u001b[0m\u001b[37m\u001b[0m \u001b[1m0s\u001b[0m 34ms/step - d_loss: 0.7191 - g_loss: 0.8242"
          ]
        },
        {
          "output_type": "stream",
          "name": "stderr",
          "text": [
            "WARNING:tensorflow:Early stopping conditioned on metric `loss` which is not available. Available metrics are: d_loss,g_loss\n"
          ]
        },
        {
          "output_type": "stream",
          "name": "stdout",
          "text": [
            "\b\b\b\b\b\b\b\b\b\b\b\b\b\b\b\b\b\b\b\b\b\b\b\b\b\b\b\b\b\b\b\b\b\b\b\b\b\b\b\b\b\b\b\b\b\b\b\b\b\b\b\b\b\b\b\b\b\b\b\b\b\b\b\b\b\b\b\b\b\b\b\b\b\b\b\r\u001b[1m313/313\u001b[0m \u001b[32m━━━━━━━━━━━━━━━━━━━━\u001b[0m\u001b[37m\u001b[0m \u001b[1m18s\u001b[0m 34ms/step - d_loss: 0.7191 - g_loss: 0.8242\n",
            "Epoch 2/5\n",
            "\u001b[1m313/313\u001b[0m \u001b[32m━━━━━━━━━━━━━━━━━━━━\u001b[0m\u001b[37m\u001b[0m \u001b[1m0s\u001b[0m 23ms/step - d_loss: 0.6885 - g_loss: 0.8694"
          ]
        },
        {
          "output_type": "stream",
          "name": "stderr",
          "text": [
            "WARNING:tensorflow:Early stopping conditioned on metric `loss` which is not available. Available metrics are: d_loss,g_loss\n"
          ]
        },
        {
          "output_type": "stream",
          "name": "stdout",
          "text": [
            "\b\b\b\b\b\b\b\b\b\b\b\b\b\b\b\b\b\b\b\b\b\b\b\b\b\b\b\b\b\b\b\b\b\b\b\b\b\b\b\b\b\b\b\b\b\b\b\b\b\b\b\b\b\b\b\b\b\b\b\b\b\b\b\b\b\b\b\b\b\b\b\b\b\b\b\r\u001b[1m313/313\u001b[0m \u001b[32m━━━━━━━━━━━━━━━━━━━━\u001b[0m\u001b[37m\u001b[0m \u001b[1m13s\u001b[0m 23ms/step - d_loss: 0.6885 - g_loss: 0.8693\n",
            "Epoch 3/5\n",
            "\u001b[1m311/313\u001b[0m \u001b[32m━━━━━━━━━━━━━━━━━━━\u001b[0m\u001b[37m━\u001b[0m \u001b[1m0s\u001b[0m 23ms/step - d_loss: 0.6968 - g_loss: 0.8453"
          ]
        },
        {
          "output_type": "stream",
          "name": "stderr",
          "text": [
            "WARNING:tensorflow:Early stopping conditioned on metric `loss` which is not available. Available metrics are: d_loss,g_loss\n"
          ]
        },
        {
          "output_type": "stream",
          "name": "stdout",
          "text": [
            "\b\b\b\b\b\b\b\b\b\b\b\b\b\b\b\b\b\b\b\b\b\b\b\b\b\b\b\b\b\b\b\b\b\b\b\b\b\b\b\b\b\b\b\b\b\b\b\b\b\b\b\b\b\b\b\b\b\b\b\b\b\b\b\b\b\b\b\b\b\b\b\b\b\b\b\r\u001b[1m313/313\u001b[0m \u001b[32m━━━━━━━━━━━━━━━━━━━━\u001b[0m\u001b[37m\u001b[0m \u001b[1m7s\u001b[0m 23ms/step - d_loss: 0.6969 - g_loss: 0.8450\n",
            "Epoch 4/5\n",
            "\u001b[1m313/313\u001b[0m \u001b[32m━━━━━━━━━━━━━━━━━━━━\u001b[0m\u001b[37m\u001b[0m \u001b[1m0s\u001b[0m 23ms/step - d_loss: 0.7015 - g_loss: 0.7686"
          ]
        },
        {
          "output_type": "stream",
          "name": "stderr",
          "text": [
            "WARNING:tensorflow:Early stopping conditioned on metric `loss` which is not available. Available metrics are: d_loss,g_loss\n"
          ]
        },
        {
          "output_type": "stream",
          "name": "stdout",
          "text": [
            "\b\b\b\b\b\b\b\b\b\b\b\b\b\b\b\b\b\b\b\b\b\b\b\b\b\b\b\b\b\b\b\b\b\b\b\b\b\b\b\b\b\b\b\b\b\b\b\b\b\b\b\b\b\b\b\b\b\b\b\b\b\b\b\b\b\b\b\b\b\b\b\b\b\b\b\r\u001b[1m313/313\u001b[0m \u001b[32m━━━━━━━━━━━━━━━━━━━━\u001b[0m\u001b[37m\u001b[0m \u001b[1m7s\u001b[0m 23ms/step - d_loss: 0.7015 - g_loss: 0.7686\n",
            "Epoch 5/5\n",
            "\u001b[1m311/313\u001b[0m \u001b[32m━━━━━━━━━━━━━━━━━━━\u001b[0m\u001b[37m━\u001b[0m \u001b[1m0s\u001b[0m 24ms/step - d_loss: 0.6942 - g_loss: 0.7963"
          ]
        },
        {
          "output_type": "stream",
          "name": "stderr",
          "text": [
            "WARNING:tensorflow:Early stopping conditioned on metric `loss` which is not available. Available metrics are: d_loss,g_loss\n"
          ]
        },
        {
          "output_type": "stream",
          "name": "stdout",
          "text": [
            "\b\b\b\b\b\b\b\b\b\b\b\b\b\b\b\b\b\b\b\b\b\b\b\b\b\b\b\b\b\b\b\b\b\b\b\b\b\b\b\b\b\b\b\b\b\b\b\b\b\b\b\b\b\b\b\b\b\b\b\b\b\b\b\b\b\b\b\b\b\b\b\b\b\b\b\r\u001b[1m313/313\u001b[0m \u001b[32m━━━━━━━━━━━━━━━━━━━━\u001b[0m\u001b[37m\u001b[0m \u001b[1m7s\u001b[0m 24ms/step - d_loss: 0.6942 - g_loss: 0.7961\n",
            "training client 2 's CNN\n",
            "from gloabl - before pruning client has sparsity 0.0805398345668263\n",
            "begin_step= 281 end_step= 1406\n",
            "Epoch 1/5\n",
            "282/282 [==============================] - 6s 9ms/step - loss: nan - sparse_categorical_accuracy: 0.1003 - val_loss: nan - val_sparse_categorical_accuracy: 0.0970\n",
            "Epoch 2/5\n",
            "282/282 [==============================] - 2s 6ms/step - loss: nan - sparse_categorical_accuracy: 0.1003 - val_loss: nan - val_sparse_categorical_accuracy: 0.0970\n",
            "Epoch 2: early stopping\n",
            "after pruning client has sparsity 0.0\n",
            "training client 2 's GEN\n",
            "Epoch 1/5\n",
            "\u001b[1m313/313\u001b[0m \u001b[32m━━━━━━━━━━━━━━━━━━━━\u001b[0m\u001b[37m\u001b[0m \u001b[1m0s\u001b[0m 35ms/step - d_loss: 0.6348 - g_loss: 0.9040"
          ]
        },
        {
          "output_type": "stream",
          "name": "stderr",
          "text": [
            "WARNING:tensorflow:Early stopping conditioned on metric `loss` which is not available. Available metrics are: d_loss,g_loss\n"
          ]
        },
        {
          "output_type": "stream",
          "name": "stdout",
          "text": [
            "\b\b\b\b\b\b\b\b\b\b\b\b\b\b\b\b\b\b\b\b\b\b\b\b\b\b\b\b\b\b\b\b\b\b\b\b\b\b\b\b\b\b\b\b\b\b\b\b\b\b\b\b\b\b\b\b\b\b\b\b\b\b\b\b\b\b\b\b\b\b\b\b\b\b\b\r\u001b[1m313/313\u001b[0m \u001b[32m━━━━━━━━━━━━━━━━━━━━\u001b[0m\u001b[37m\u001b[0m \u001b[1m17s\u001b[0m 35ms/step - d_loss: 0.6348 - g_loss: 0.9042\n",
            "Epoch 2/5\n",
            "\u001b[1m312/313\u001b[0m \u001b[32m━━━━━━━━━━━━━━━━━━━\u001b[0m\u001b[37m━\u001b[0m \u001b[1m0s\u001b[0m 24ms/step - d_loss: 0.6099 - g_loss: 1.0050"
          ]
        },
        {
          "output_type": "stream",
          "name": "stderr",
          "text": [
            "WARNING:tensorflow:Early stopping conditioned on metric `loss` which is not available. Available metrics are: d_loss,g_loss\n"
          ]
        },
        {
          "output_type": "stream",
          "name": "stdout",
          "text": [
            "\b\b\b\b\b\b\b\b\b\b\b\b\b\b\b\b\b\b\b\b\b\b\b\b\b\b\b\b\b\b\b\b\b\b\b\b\b\b\b\b\b\b\b\b\b\b\b\b\b\b\b\b\b\b\b\b\b\b\b\b\b\b\b\b\b\b\b\b\b\b\b\b\b\b\b\r\u001b[1m313/313\u001b[0m \u001b[32m━━━━━━━━━━━━━━━━━━━━\u001b[0m\u001b[37m\u001b[0m \u001b[1m8s\u001b[0m 24ms/step - d_loss: 0.6100 - g_loss: 1.0046\n",
            "Epoch 3/5\n",
            "\u001b[1m313/313\u001b[0m \u001b[32m━━━━━━━━━━━━━━━━━━━━\u001b[0m\u001b[37m\u001b[0m \u001b[1m0s\u001b[0m 24ms/step - d_loss: 0.6529 - g_loss: 0.8790"
          ]
        },
        {
          "output_type": "stream",
          "name": "stderr",
          "text": [
            "WARNING:tensorflow:Early stopping conditioned on metric `loss` which is not available. Available metrics are: d_loss,g_loss\n"
          ]
        },
        {
          "output_type": "stream",
          "name": "stdout",
          "text": [
            "\b\b\b\b\b\b\b\b\b\b\b\b\b\b\b\b\b\b\b\b\b\b\b\b\b\b\b\b\b\b\b\b\b\b\b\b\b\b\b\b\b\b\b\b\b\b\b\b\b\b\b\b\b\b\b\b\b\b\b\b\b\b\b\b\b\b\b\b\b\b\b\b\b\b\b\r\u001b[1m313/313\u001b[0m \u001b[32m━━━━━━━━━━━━━━━━━━━━\u001b[0m\u001b[37m\u001b[0m \u001b[1m10s\u001b[0m 24ms/step - d_loss: 0.6529 - g_loss: 0.8789\n",
            "Epoch 4/5\n",
            "\u001b[1m311/313\u001b[0m \u001b[32m━━━━━━━━━━━━━━━━━━━\u001b[0m\u001b[37m━\u001b[0m \u001b[1m0s\u001b[0m 24ms/step - d_loss: 0.6728 - g_loss: 0.8340"
          ]
        },
        {
          "output_type": "stream",
          "name": "stderr",
          "text": [
            "WARNING:tensorflow:Early stopping conditioned on metric `loss` which is not available. Available metrics are: d_loss,g_loss\n"
          ]
        },
        {
          "output_type": "stream",
          "name": "stdout",
          "text": [
            "\b\b\b\b\b\b\b\b\b\b\b\b\b\b\b\b\b\b\b\b\b\b\b\b\b\b\b\b\b\b\b\b\b\b\b\b\b\b\b\b\b\b\b\b\b\b\b\b\b\b\b\b\b\b\b\b\b\b\b\b\b\b\b\b\b\b\b\b\b\b\b\b\b\b\b\r\u001b[1m313/313\u001b[0m \u001b[32m━━━━━━━━━━━━━━━━━━━━\u001b[0m\u001b[37m\u001b[0m \u001b[1m7s\u001b[0m 24ms/step - d_loss: 0.6728 - g_loss: 0.8340\n",
            "Epoch 5/5\n",
            "\u001b[1m311/313\u001b[0m \u001b[32m━━━━━━━━━━━━━━━━━━━\u001b[0m\u001b[37m━\u001b[0m \u001b[1m0s\u001b[0m 25ms/step - d_loss: 0.6664 - g_loss: 0.8232"
          ]
        },
        {
          "output_type": "stream",
          "name": "stderr",
          "text": [
            "WARNING:tensorflow:Early stopping conditioned on metric `loss` which is not available. Available metrics are: d_loss,g_loss\n"
          ]
        },
        {
          "output_type": "stream",
          "name": "stdout",
          "text": [
            "\b\b\b\b\b\b\b\b\b\b\b\b\b\b\b\b\b\b\b\b\b\b\b\b\b\b\b\b\b\b\b\b\b\b\b\b\b\b\b\b\b\b\b\b\b\b\b\b\b\b\b\b\b\b\b\b\b\b\b\b\b\b\b\b\b\b\b\b\b\b\b\b\b\b\b\r\u001b[1m313/313\u001b[0m \u001b[32m━━━━━━━━━━━━━━━━━━━━\u001b[0m\u001b[37m\u001b[0m \u001b[1m8s\u001b[0m 25ms/step - d_loss: 0.6664 - g_loss: 0.8232\n",
            ">>>>>>>>>trained all clients cnn round \n",
            "----getting weighted avg of clients' gen\n",
            ">>>>>>>>>Weighted aggregated client generator\n",
            "Generating 16 fake images of digit 0 ......\n",
            "Generating 16 fake images of digit 1 ......\n",
            "Generating 16 fake images of digit 2 ......\n",
            "Generating 16 fake images of digit 3 ......\n",
            "Generating 16 fake images of digit 4 ......\n",
            "Generating 16 fake images of digit 5 ......\n",
            "Generating 16 fake images of digit 6 ......\n",
            "Generating 16 fake images of digit 7 ......\n",
            "Generating 16 fake images of digit 8 ......\n",
            "Generating 16 fake images of digit 9 ......\n",
            "Augmented dataset shape: (160, 28, 28, 1), (160,)\n",
            "Added (320,) data points to the public dataset\n",
            ">>>>>>>>>produced pseudo data\n",
            "----getting weighted avg of clients' classifier\n",
            "Epoch 1/3\n",
            "----getting 1 client logits\n",
            "----getting 1 client logits\n",
            "----getting 1 client logits\n",
            "----getting aggregate client logits Tensor(\"add_1:0\", shape=(None, 10), dtype=float32)\n",
            "----getting 1 client logits\n",
            "----getting 1 client logits\n",
            "----getting 1 client logits\n",
            "----getting aggregate client logits Tensor(\"add_1:0\", shape=(None, 10), dtype=float32)\n",
            "75/75 [==============================] - 3s 8ms/step - sparse_categorical_accuracy: 0.1094 - task_loss: nan - distillation_loss: nan - total_loss: nan - val_sparse_categorical_accuracy: 0.1136\n",
            "Epoch 2/3\n",
            "75/75 [==============================] - 0s 5ms/step - sparse_categorical_accuracy: 0.1094 - task_loss: nan - distillation_loss: nan - total_loss: nan - val_sparse_categorical_accuracy: 0.1136\n",
            "Epoch 3/3\n",
            "75/75 [==============================] - 0s 4ms/step - sparse_categorical_accuracy: 0.1094 - task_loss: nan - distillation_loss: nan - total_loss: nan - val_sparse_categorical_accuracy: 0.1136\n",
            "should print not trainable: False\n",
            "should print trainable: True\n",
            ">>>>>>>>>Knowledge distilled from clients and updated global weights\n",
            ">>>>>>>>>Broadcasted weights to all clients\n",
            "training client 0 's CNN\n",
            "from gloabl - before pruning client has sparsity 0.0\n",
            "begin_step= 0 end_step= 1406\n",
            "Epoch 1/5\n",
            "282/282 [==============================] - 5s 8ms/step - loss: nan - sparse_categorical_accuracy: 0.0991 - val_loss: nan - val_sparse_categorical_accuracy: 0.1055\n",
            "Epoch 2/5\n",
            "282/282 [==============================] - 2s 8ms/step - loss: nan - sparse_categorical_accuracy: 0.0991 - val_loss: nan - val_sparse_categorical_accuracy: 0.1055\n",
            "Epoch 2: early stopping\n",
            "after pruning client has sparsity 0.0\n",
            "training client 0 's GEN\n",
            "Epoch 1/5\n",
            "\u001b[1m313/313\u001b[0m \u001b[32m━━━━━━━━━━━━━━━━━━━━\u001b[0m\u001b[37m\u001b[0m \u001b[1m0s\u001b[0m 35ms/step - d_loss: 0.7017 - g_loss: 0.8098"
          ]
        },
        {
          "output_type": "stream",
          "name": "stderr",
          "text": [
            "WARNING:tensorflow:Early stopping conditioned on metric `loss` which is not available. Available metrics are: d_loss,g_loss\n"
          ]
        },
        {
          "output_type": "stream",
          "name": "stdout",
          "text": [
            "\b\b\b\b\b\b\b\b\b\b\b\b\b\b\b\b\b\b\b\b\b\b\b\b\b\b\b\b\b\b\b\b\b\b\b\b\b\b\b\b\b\b\b\b\b\b\b\b\b\b\b\b\b\b\b\b\b\b\b\b\b\b\b\b\b\b\b\b\b\b\b\b\b\b\b\r\u001b[1m313/313\u001b[0m \u001b[32m━━━━━━━━━━━━━━━━━━━━\u001b[0m\u001b[37m\u001b[0m \u001b[1m17s\u001b[0m 35ms/step - d_loss: 0.7016 - g_loss: 0.8098\n",
            "Epoch 2/5\n",
            "\u001b[1m313/313\u001b[0m \u001b[32m━━━━━━━━━━━━━━━━━━━━\u001b[0m\u001b[37m\u001b[0m \u001b[1m0s\u001b[0m 24ms/step - d_loss: 0.6923 - g_loss: 0.7803"
          ]
        },
        {
          "output_type": "stream",
          "name": "stderr",
          "text": [
            "WARNING:tensorflow:Early stopping conditioned on metric `loss` which is not available. Available metrics are: d_loss,g_loss\n"
          ]
        },
        {
          "output_type": "stream",
          "name": "stdout",
          "text": [
            "\b\b\b\b\b\b\b\b\b\b\b\b\b\b\b\b\b\b\b\b\b\b\b\b\b\b\b\b\b\b\b\b\b\b\b\b\b\b\b\b\b\b\b\b\b\b\b\b\b\b\b\b\b\b\b\b\b\b\b\b\b\b\b\b\b\b\b\b\b\b\b\b\b\b\b\r\u001b[1m313/313\u001b[0m \u001b[32m━━━━━━━━━━━━━━━━━━━━\u001b[0m\u001b[37m\u001b[0m \u001b[1m7s\u001b[0m 24ms/step - d_loss: 0.6923 - g_loss: 0.7804\n",
            "Epoch 3/5\n",
            "\u001b[1m311/313\u001b[0m \u001b[32m━━━━━━━━━━━━━━━━━━━\u001b[0m\u001b[37m━\u001b[0m \u001b[1m0s\u001b[0m 24ms/step - d_loss: 0.6777 - g_loss: 0.8132"
          ]
        },
        {
          "output_type": "stream",
          "name": "stderr",
          "text": [
            "WARNING:tensorflow:Early stopping conditioned on metric `loss` which is not available. Available metrics are: d_loss,g_loss\n"
          ]
        },
        {
          "output_type": "stream",
          "name": "stdout",
          "text": [
            "\b\b\b\b\b\b\b\b\b\b\b\b\b\b\b\b\b\b\b\b\b\b\b\b\b\b\b\b\b\b\b\b\b\b\b\b\b\b\b\b\b\b\b\b\b\b\b\b\b\b\b\b\b\b\b\b\b\b\b\b\b\b\b\b\b\b\b\b\b\b\b\b\b\b\b\r\u001b[1m313/313\u001b[0m \u001b[32m━━━━━━━━━━━━━━━━━━━━\u001b[0m\u001b[37m\u001b[0m \u001b[1m7s\u001b[0m 24ms/step - d_loss: 0.6778 - g_loss: 0.8131\n",
            "Epoch 4/5\n",
            "\u001b[1m312/313\u001b[0m \u001b[32m━━━━━━━━━━━━━━━━━━━\u001b[0m\u001b[37m━\u001b[0m \u001b[1m0s\u001b[0m 25ms/step - d_loss: 0.6946 - g_loss: 0.7625"
          ]
        },
        {
          "output_type": "stream",
          "name": "stderr",
          "text": [
            "WARNING:tensorflow:Early stopping conditioned on metric `loss` which is not available. Available metrics are: d_loss,g_loss\n"
          ]
        },
        {
          "output_type": "stream",
          "name": "stdout",
          "text": [
            "\b\b\b\b\b\b\b\b\b\b\b\b\b\b\b\b\b\b\b\b\b\b\b\b\b\b\b\b\b\b\b\b\b\b\b\b\b\b\b\b\b\b\b\b\b\b\b\b\b\b\b\b\b\b\b\b\b\b\b\b\b\b\b\b\b\b\b\b\b\b\b\b\b\b\b\r\u001b[1m313/313\u001b[0m \u001b[32m━━━━━━━━━━━━━━━━━━━━\u001b[0m\u001b[37m\u001b[0m \u001b[1m11s\u001b[0m 25ms/step - d_loss: 0.6946 - g_loss: 0.7626\n",
            "Epoch 5/5\n",
            "\u001b[1m313/313\u001b[0m \u001b[32m━━━━━━━━━━━━━━━━━━━━\u001b[0m\u001b[37m\u001b[0m \u001b[1m0s\u001b[0m 24ms/step - d_loss: 0.6909 - g_loss: 0.7654"
          ]
        },
        {
          "output_type": "stream",
          "name": "stderr",
          "text": [
            "WARNING:tensorflow:Early stopping conditioned on metric `loss` which is not available. Available metrics are: d_loss,g_loss\n"
          ]
        },
        {
          "output_type": "stream",
          "name": "stdout",
          "text": [
            "\b\b\b\b\b\b\b\b\b\b\b\b\b\b\b\b\b\b\b\b\b\b\b\b\b\b\b\b\b\b\b\b\b\b\b\b\b\b\b\b\b\b\b\b\b\b\b\b\b\b\b\b\b\b\b\b\b\b\b\b\b\b\b\b\b\b\b\b\b\b\b\b\b\b\b\r\u001b[1m313/313\u001b[0m \u001b[32m━━━━━━━━━━━━━━━━━━━━\u001b[0m\u001b[37m\u001b[0m \u001b[1m10s\u001b[0m 24ms/step - d_loss: 0.6908 - g_loss: 0.7654\n",
            "training client 1 's CNN\n",
            "from gloabl - before pruning client has sparsity 0.0\n",
            "begin_step= 0 end_step= 1406\n",
            "Epoch 1/5\n",
            "282/282 [==============================] - 5s 7ms/step - loss: nan - sparse_categorical_accuracy: 0.0958 - val_loss: nan - val_sparse_categorical_accuracy: 0.1030\n",
            "Epoch 2/5\n",
            "282/282 [==============================] - 2s 6ms/step - loss: nan - sparse_categorical_accuracy: 0.0958 - val_loss: nan - val_sparse_categorical_accuracy: 0.1030\n",
            "Epoch 2: early stopping\n",
            "after pruning client has sparsity 0.0\n",
            "training client 1 's GEN\n",
            "Epoch 1/5\n",
            "\u001b[1m313/313\u001b[0m \u001b[32m━━━━━━━━━━━━━━━━━━━━\u001b[0m\u001b[37m\u001b[0m \u001b[1m0s\u001b[0m 36ms/step - d_loss: 0.6997 - g_loss: 0.7709"
          ]
        },
        {
          "output_type": "stream",
          "name": "stderr",
          "text": [
            "WARNING:tensorflow:Early stopping conditioned on metric `loss` which is not available. Available metrics are: d_loss,g_loss\n"
          ]
        },
        {
          "output_type": "stream",
          "name": "stdout",
          "text": [
            "\b\b\b\b\b\b\b\b\b\b\b\b\b\b\b\b\b\b\b\b\b\b\b\b\b\b\b\b\b\b\b\b\b\b\b\b\b\b\b\b\b\b\b\b\b\b\b\b\b\b\b\b\b\b\b\b\b\b\b\b\b\b\b\b\b\b\b\b\b\b\b\b\b\b\b\r\u001b[1m313/313\u001b[0m \u001b[32m━━━━━━━━━━━━━━━━━━━━\u001b[0m\u001b[37m\u001b[0m \u001b[1m18s\u001b[0m 36ms/step - d_loss: 0.6997 - g_loss: 0.7709\n",
            "Epoch 2/5\n",
            "\u001b[1m312/313\u001b[0m \u001b[32m━━━━━━━━━━━━━━━━━━━\u001b[0m\u001b[37m━\u001b[0m \u001b[1m0s\u001b[0m 23ms/step - d_loss: 0.6965 - g_loss: 0.7841"
          ]
        },
        {
          "output_type": "stream",
          "name": "stderr",
          "text": [
            "WARNING:tensorflow:Early stopping conditioned on metric `loss` which is not available. Available metrics are: d_loss,g_loss\n"
          ]
        },
        {
          "output_type": "stream",
          "name": "stdout",
          "text": [
            "\b\b\b\b\b\b\b\b\b\b\b\b\b\b\b\b\b\b\b\b\b\b\b\b\b\b\b\b\b\b\b\b\b\b\b\b\b\b\b\b\b\b\b\b\b\b\b\b\b\b\b\b\b\b\b\b\b\b\b\b\b\b\b\b\b\b\b\b\b\b\b\b\b\b\b\r\u001b[1m313/313\u001b[0m \u001b[32m━━━━━━━━━━━━━━━━━━━━\u001b[0m\u001b[37m\u001b[0m \u001b[1m7s\u001b[0m 23ms/step - d_loss: 0.6965 - g_loss: 0.7841\n",
            "Epoch 3/5\n",
            "\u001b[1m313/313\u001b[0m \u001b[32m━━━━━━━━━━━━━━━━━━━━\u001b[0m\u001b[37m\u001b[0m \u001b[1m0s\u001b[0m 23ms/step - d_loss: 0.7035 - g_loss: 0.7575"
          ]
        },
        {
          "output_type": "stream",
          "name": "stderr",
          "text": [
            "WARNING:tensorflow:Early stopping conditioned on metric `loss` which is not available. Available metrics are: d_loss,g_loss\n"
          ]
        },
        {
          "output_type": "stream",
          "name": "stdout",
          "text": [
            "\b\b\b\b\b\b\b\b\b\b\b\b\b\b\b\b\b\b\b\b\b\b\b\b\b\b\b\b\b\b\b\b\b\b\b\b\b\b\b\b\b\b\b\b\b\b\b\b\b\b\b\b\b\b\b\b\b\b\b\b\b\b\b\b\b\b\b\b\b\b\b\b\b\b\b\r\u001b[1m313/313\u001b[0m \u001b[32m━━━━━━━━━━━━━━━━━━━━\u001b[0m\u001b[37m\u001b[0m \u001b[1m10s\u001b[0m 23ms/step - d_loss: 0.7035 - g_loss: 0.7575\n",
            "Epoch 4/5\n",
            "\u001b[1m313/313\u001b[0m \u001b[32m━━━━━━━━━━━━━━━━━━━━\u001b[0m\u001b[37m\u001b[0m \u001b[1m0s\u001b[0m 23ms/step - d_loss: 0.6900 - g_loss: 0.7497"
          ]
        },
        {
          "output_type": "stream",
          "name": "stderr",
          "text": [
            "WARNING:tensorflow:Early stopping conditioned on metric `loss` which is not available. Available metrics are: d_loss,g_loss\n"
          ]
        },
        {
          "output_type": "stream",
          "name": "stdout",
          "text": [
            "\b\b\b\b\b\b\b\b\b\b\b\b\b\b\b\b\b\b\b\b\b\b\b\b\b\b\b\b\b\b\b\b\b\b\b\b\b\b\b\b\b\b\b\b\b\b\b\b\b\b\b\b\b\b\b\b\b\b\b\b\b\b\b\b\b\b\b\b\b\b\b\b\b\b\b\r\u001b[1m313/313\u001b[0m \u001b[32m━━━━━━━━━━━━━━━━━━━━\u001b[0m\u001b[37m\u001b[0m \u001b[1m10s\u001b[0m 23ms/step - d_loss: 0.6900 - g_loss: 0.7497\n",
            "Epoch 5/5\n",
            "\u001b[1m311/313\u001b[0m \u001b[32m━━━━━━━━━━━━━━━━━━━\u001b[0m\u001b[37m━\u001b[0m \u001b[1m0s\u001b[0m 23ms/step - d_loss: 0.6946 - g_loss: 0.7574"
          ]
        },
        {
          "output_type": "stream",
          "name": "stderr",
          "text": [
            "WARNING:tensorflow:Early stopping conditioned on metric `loss` which is not available. Available metrics are: d_loss,g_loss\n"
          ]
        },
        {
          "output_type": "stream",
          "name": "stdout",
          "text": [
            "\b\b\b\b\b\b\b\b\b\b\b\b\b\b\b\b\b\b\b\b\b\b\b\b\b\b\b\b\b\b\b\b\b\b\b\b\b\b\b\b\b\b\b\b\b\b\b\b\b\b\b\b\b\b\b\b\b\b\b\b\b\b\b\b\b\b\b\b\b\b\b\b\b\b\b\r\u001b[1m313/313\u001b[0m \u001b[32m━━━━━━━━━━━━━━━━━━━━\u001b[0m\u001b[37m\u001b[0m \u001b[1m7s\u001b[0m 23ms/step - d_loss: 0.6947 - g_loss: 0.7572\n",
            "training client 2 's CNN\n",
            "from gloabl - before pruning client has sparsity 0.0\n",
            "begin_step= 0 end_step= 1406\n",
            "Epoch 1/5\n",
            "282/282 [==============================] - 6s 8ms/step - loss: nan - sparse_categorical_accuracy: 0.1003 - val_loss: nan - val_sparse_categorical_accuracy: 0.0970\n",
            "Epoch 2/5\n",
            "282/282 [==============================] - 2s 9ms/step - loss: nan - sparse_categorical_accuracy: 0.1003 - val_loss: nan - val_sparse_categorical_accuracy: 0.0970\n",
            "Epoch 2: early stopping\n",
            "after pruning client has sparsity 0.0\n",
            "training client 2 's GEN\n",
            "Epoch 1/5\n",
            "\u001b[1m313/313\u001b[0m \u001b[32m━━━━━━━━━━━━━━━━━━━━\u001b[0m\u001b[37m\u001b[0m \u001b[1m0s\u001b[0m 34ms/step - d_loss: 0.6735 - g_loss: 0.8152"
          ]
        },
        {
          "output_type": "stream",
          "name": "stderr",
          "text": [
            "WARNING:tensorflow:Early stopping conditioned on metric `loss` which is not available. Available metrics are: d_loss,g_loss\n"
          ]
        },
        {
          "output_type": "stream",
          "name": "stdout",
          "text": [
            "\b\b\b\b\b\b\b\b\b\b\b\b\b\b\b\b\b\b\b\b\b\b\b\b\b\b\b\b\b\b\b\b\b\b\b\b\b\b\b\b\b\b\b\b\b\b\b\b\b\b\b\b\b\b\b\b\b\b\b\b\b\b\b\b\b\b\b\b\b\b\b\b\b\b\b\r\u001b[1m313/313\u001b[0m \u001b[32m━━━━━━━━━━━━━━━━━━━━\u001b[0m\u001b[37m\u001b[0m \u001b[1m17s\u001b[0m 34ms/step - d_loss: 0.6735 - g_loss: 0.8153\n",
            "Epoch 2/5\n",
            "\u001b[1m311/313\u001b[0m \u001b[32m━━━━━━━━━━━━━━━━━━━\u001b[0m\u001b[37m━\u001b[0m \u001b[1m0s\u001b[0m 24ms/step - d_loss: 0.6571 - g_loss: 0.8892"
          ]
        },
        {
          "output_type": "stream",
          "name": "stderr",
          "text": [
            "WARNING:tensorflow:Early stopping conditioned on metric `loss` which is not available. Available metrics are: d_loss,g_loss\n"
          ]
        },
        {
          "output_type": "stream",
          "name": "stdout",
          "text": [
            "\b\b\b\b\b\b\b\b\b\b\b\b\b\b\b\b\b\b\b\b\b\b\b\b\b\b\b\b\b\b\b\b\b\b\b\b\b\b\b\b\b\b\b\b\b\b\b\b\b\b\b\b\b\b\b\b\b\b\b\b\b\b\b\b\b\b\b\b\b\b\b\b\b\b\b\r\u001b[1m313/313\u001b[0m \u001b[32m━━━━━━━━━━━━━━━━━━━━\u001b[0m\u001b[37m\u001b[0m \u001b[1m7s\u001b[0m 24ms/step - d_loss: 0.6572 - g_loss: 0.8887\n",
            "Epoch 3/5\n",
            "\u001b[1m311/313\u001b[0m \u001b[32m━━━━━━━━━━━━━━━━━━━\u001b[0m\u001b[37m━\u001b[0m \u001b[1m0s\u001b[0m 23ms/step - d_loss: 0.6740 - g_loss: 0.8108"
          ]
        },
        {
          "output_type": "stream",
          "name": "stderr",
          "text": [
            "WARNING:tensorflow:Early stopping conditioned on metric `loss` which is not available. Available metrics are: d_loss,g_loss\n"
          ]
        },
        {
          "output_type": "stream",
          "name": "stdout",
          "text": [
            "\b\b\b\b\b\b\b\b\b\b\b\b\b\b\b\b\b\b\b\b\b\b\b\b\b\b\b\b\b\b\b\b\b\b\b\b\b\b\b\b\b\b\b\b\b\b\b\b\b\b\b\b\b\b\b\b\b\b\b\b\b\b\b\b\b\b\b\b\b\b\b\b\b\b\b\r\u001b[1m313/313\u001b[0m \u001b[32m━━━━━━━━━━━━━━━━━━━━\u001b[0m\u001b[37m\u001b[0m \u001b[1m10s\u001b[0m 23ms/step - d_loss: 0.6739 - g_loss: 0.8109\n",
            "Epoch 4/5\n",
            "\u001b[1m311/313\u001b[0m \u001b[32m━━━━━━━━━━━━━━━━━━━\u001b[0m\u001b[37m━\u001b[0m \u001b[1m0s\u001b[0m 23ms/step - d_loss: 0.6651 - g_loss: 0.8238"
          ]
        },
        {
          "output_type": "stream",
          "name": "stderr",
          "text": [
            "WARNING:tensorflow:Early stopping conditioned on metric `loss` which is not available. Available metrics are: d_loss,g_loss\n"
          ]
        },
        {
          "output_type": "stream",
          "name": "stdout",
          "text": [
            "\b\b\b\b\b\b\b\b\b\b\b\b\b\b\b\b\b\b\b\b\b\b\b\b\b\b\b\b\b\b\b\b\b\b\b\b\b\b\b\b\b\b\b\b\b\b\b\b\b\b\b\b\b\b\b\b\b\b\b\b\b\b\b\b\b\b\b\b\b\b\b\b\b\b\b\r\u001b[1m313/313\u001b[0m \u001b[32m━━━━━━━━━━━━━━━━━━━━\u001b[0m\u001b[37m\u001b[0m \u001b[1m10s\u001b[0m 23ms/step - d_loss: 0.6650 - g_loss: 0.8240\n",
            "Epoch 5/5\n",
            "\u001b[1m312/313\u001b[0m \u001b[32m━━━━━━━━━━━━━━━━━━━\u001b[0m\u001b[37m━\u001b[0m \u001b[1m0s\u001b[0m 23ms/step - d_loss: 0.6799 - g_loss: 0.7900"
          ]
        },
        {
          "output_type": "stream",
          "name": "stderr",
          "text": [
            "WARNING:tensorflow:Early stopping conditioned on metric `loss` which is not available. Available metrics are: d_loss,g_loss\n"
          ]
        },
        {
          "output_type": "stream",
          "name": "stdout",
          "text": [
            "\b\b\b\b\b\b\b\b\b\b\b\b\b\b\b\b\b\b\b\b\b\b\b\b\b\b\b\b\b\b\b\b\b\b\b\b\b\b\b\b\b\b\b\b\b\b\b\b\b\b\b\b\b\b\b\b\b\b\b\b\b\b\b\b\b\b\b\b\b\b\b\b\b\b\b\r\u001b[1m313/313\u001b[0m \u001b[32m━━━━━━━━━━━━━━━━━━━━\u001b[0m\u001b[37m\u001b[0m \u001b[1m7s\u001b[0m 23ms/step - d_loss: 0.6799 - g_loss: 0.7900\n",
            ">>>>>>>>>trained all clients cnn final round\n",
            "local models evaluation\n",
            "313/313 [==============================] - 1s 2ms/step - loss: nan - sparse_categorical_accuracy: 0.0980\n",
            "local models evaluation\n",
            "313/313 [==============================] - 1s 2ms/step - loss: nan - sparse_categorical_accuracy: 0.0980\n",
            "local models evaluation\n",
            "313/313 [==============================] - 1s 3ms/step - loss: nan - sparse_categorical_accuracy: 0.0980\n",
            "global model evaluation\n",
            "313/313 [==============================] - 2s 3ms/step - loss: nan - sparse_categorical_accuracy: 0.0984\n"
          ]
        },
        {
          "output_type": "execute_result",
          "data": {
            "text/plain": [
              "[nan, 0.09840217977762222]"
            ]
          },
          "metadata": {},
          "execution_count": 16
        }
      ]
    },
    {
      "cell_type": "code",
      "source": [
        "for idx in range(10):\n",
        "  pos = idx*100+20\n",
        "  img = Server.x_public[pos]\n",
        "  label = Server.y_public[pos]\n",
        "  plt.imshow(img, cmap='gray')\n",
        "  plt.show()\n",
        "  print(label)"
      ],
      "metadata": {
        "colab": {
          "base_uri": "https://localhost:8080/",
          "height": 1000
        },
        "id": "M-RxacJ7IKy5",
        "outputId": "389dc0f0-2dc9-4e1d-a3d4-060a1d83416a"
      },
      "execution_count": 17,
      "outputs": [
        {
          "output_type": "display_data",
          "data": {
            "text/plain": [
              "<Figure size 640x480 with 1 Axes>"
            ],
            "image/png": "[encoded data removed]"
          },
          "metadata": {}
        },
        {
          "output_type": "stream",
          "name": "stdout",
          "text": [
            "0\n"
          ]
        },
        {
          "output_type": "display_data",
          "data": {
            "text/plain": [
              "<Figure size 640x480 with 1 Axes>"
            ],
            "image/png": "[encoded data removed]"
          },
          "metadata": {}
        },
        {
          "output_type": "stream",
          "name": "stdout",
          "text": [
            "1\n"
          ]
        },
        {
          "output_type": "display_data",
          "data": {
            "text/plain": [
              "<Figure size 640x480 with 1 Axes>"
            ],
            "image/png": "[encoded data removed]"
          },
          "metadata": {}
        },
        {
          "output_type": "stream",
          "name": "stdout",
          "text": [
            "2\n"
          ]
        },
        {
          "output_type": "display_data",
          "data": {
            "text/plain": [
              "<Figure size 640x480 with 1 Axes>"
            ],
            "image/png": "[encoded data removed]"
          },
          "metadata": {}
        },
        {
          "output_type": "stream",
          "name": "stdout",
          "text": [
            "3\n"
          ]
        },
        {
          "output_type": "display_data",
          "data": {
            "text/plain": [
              "<Figure size 640x480 with 1 Axes>"
            ],
            "image/png": "[encoded data removed]"
          },
          "metadata": {}
        },
        {
          "output_type": "stream",
          "name": "stdout",
          "text": [
            "4\n"
          ]
        },
        {
          "output_type": "display_data",
          "data": {
            "text/plain": [
              "<Figure size 640x480 with 1 Axes>"
            ],
            "image/png": "[encoded data removed]"
          },
          "metadata": {}
        },
        {
          "output_type": "stream",
          "name": "stdout",
          "text": [
            "5\n"
          ]
        },
        {
          "output_type": "display_data",
          "data": {
            "text/plain": [
              "<Figure size 640x480 with 1 Axes>"
            ],
            "image/png": "[encoded data removed]"
          },
          "metadata": {}
        },
        {
          "output_type": "stream",
          "name": "stdout",
          "text": [
            "6\n"
          ]
        },
        {
          "output_type": "display_data",
          "data": {
            "text/plain": [
              "<Figure size 640x480 with 1 Axes>"
            ],
            "image/png": "[encoded data removed]"
          },
          "metadata": {}
        },
        {
          "output_type": "stream",
          "name": "stdout",
          "text": [
            "7\n"
          ]
        },
        {
          "output_type": "display_data",
          "data": {
            "text/plain": [
              "<Figure size 640x480 with 1 Axes>"
            ],
            "image/png": "[encoded data removed]"
          },
          "metadata": {}
        },
        {
          "output_type": "stream",
          "name": "stdout",
          "text": [
            "8\n"
          ]
        },
        {
          "output_type": "display_data",
          "data": {
            "text/plain": [
              "<Figure size 640x480 with 1 Axes>"
            ],
            "image/png": "[encoded data removed]"
          },
          "metadata": {}
        },
        {
          "output_type": "stream",
          "name": "stdout",
          "text": [
            "9\n"
          ]
        }
      ]
    },
    {
      "cell_type": "code",
      "source": [
        "img = generate_image(client_list[1].generator, 5, latent_dim)"
      ],
      "metadata": {
        "id": "KT62JAmSIwwF"
      },
      "execution_count": 37,
      "outputs": []
    },
    {
      "cell_type": "code",
      "source": [
        "plt.imshow(img[0], cmap='gray')\n",
        "plt.show()"
      ],
      "metadata": {
        "colab": {
          "base_uri": "https://localhost:8080/",
          "height": 430
        },
        "id": "YGK-pLCHJJ2L",
        "outputId": "6a9eb270-579c-4982-ae19-4e75648876e6"
      },
      "execution_count": 38,
      "outputs": [
        {
          "output_type": "display_data",
          "data": {
            "text/plain": [
              "<Figure size 640x480 with 1 Axes>"
            ],
            "image/png": "[encoded data removed]"
          },
          "metadata": {}
        }
      ]
    },
    {
      "cell_type": "markdown",
      "source": [
        "# TODO list:\n",
        "- add wandb to the training steps to record metrics\n",
        "- tune the parameters to achieve better performances\n",
        "\n",
        "numbers to consider:\n",
        "\n",
        "number of rounds of training\n",
        "\n",
        "compare:\n",
        "using logits or feature map output ie layer[-2]\n",
        "\n",
        "\n",
        "- set up homogeneous experiments\n",
        "- set up heterogenous experiments"
      ],
      "metadata": {
        "id": "FpDQ82VJOzOH"
      }
    }
  ]
}